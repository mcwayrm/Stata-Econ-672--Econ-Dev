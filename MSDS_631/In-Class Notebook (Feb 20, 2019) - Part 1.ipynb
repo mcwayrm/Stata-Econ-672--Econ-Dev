{
 "cells": [
  {
   "cell_type": "markdown",
   "metadata": {},
   "source": [
    "# MSDS 631 - Lecture 5 (February 20, 2019)\n",
    "\n",
    "## Debugging and Key Scientific Libraries"
   ]
  },
  {
   "cell_type": "markdown",
   "metadata": {},
   "source": [
    "### Debugging\n",
    "\n",
    "Coding never goes as one plans. We can come up with the best plan, yet we will inevitably mess up our code somewhere. With all of the specificity that computers require, the smallest detail can cause an error. The following are the most common issues you'll run into:\n",
    "- Incorrect indentations\n",
    "- Missing or incorrectly placed parentheses\n",
    "- Missing colons\n",
    "- Having a return in the wrong level of indentation in a for-loop or function\n",
    "- Accidentally naming a variable in a function that it isn't passed (i.e. assuming the existance of global variables)\n",
    "- Changing the name of a variable but forgetting a few instances\n",
    "- Thinking a data structure is a list instead of a dictionary (or vice versa)\n",
    "\n",
    "There are too many possibilities to list, but addressing any issues from this list will be a good start.\n",
    "\n",
    "If running through this checklist doesn't help, then I always recommend starting with \"The Squirrel\" technique."
   ]
  },
  {
   "cell_type": "markdown",
   "metadata": {},
   "source": [
    "#### Rubber Duck Debugging\n",
    "The Squirrel is *actually* called the \"Rubber Duck Technique\"... I just adopted the squirrel version that one of my past professors taught me.\n",
    "\n",
    "*```In software engineering, rubber duck debugging is a method of debugging code. The name is a reference to a story in the book The Pragmatic Programmer in which a programmer would carry around a rubber duck and debug their code by forcing themselves to explain it, line-by-line, to the duck. Many other terms exist for this technique, often involving different inanimate objects. (https://en.wikipedia.org/wiki/Rubber_duck_debugging)\n",
    "```*"
   ]
  },
  {
   "cell_type": "markdown",
   "metadata": {},
   "source": [
    "#### Break apart your code\n",
    "One of the most common issues is when coders try to pack in too many expressions into a single line of code. This could include multiple method calls, function calls, or data structure accessing"
   ]
  },
  {
   "cell_type": "code",
   "execution_count": 2,
   "metadata": {},
   "outputs": [],
   "source": [
    "import json\n",
    "students = json.load(open('students.json', 'r'))"
   ]
  },
  {
   "cell_type": "markdown",
   "metadata": {},
   "source": [
    "If I wanted to print a sentence regarding the first student, the code could look something like this:"
   ]
  },
  {
   "cell_type": "code",
   "execution_count": 3,
   "metadata": {},
   "outputs": [
    {
     "name": "stdout",
     "output_type": "stream",
     "text": [
      "The first student's GPA was 3, which was high for her major\n"
     ]
    },
    {
     "ename": "AttributeError",
     "evalue": "'NoneType' object has no attribute 'capitalize'",
     "traceback": [
      "\u001b[0;31m---------------------------------------------------------------------------\u001b[0m",
      "\u001b[0;31mAttributeError\u001b[0m                            Traceback (most recent call last)",
      "\u001b[0;32m<ipython-input-3-0d62e08259ae>\u001b[0m in \u001b[0;36m<module>\u001b[0;34m()\u001b[0m\n\u001b[0;32m----> 1\u001b[0;31m \u001b[0mprint\u001b[0m\u001b[0;34m(\u001b[0m\u001b[0;34m\"The first student's GPA was {}, which was high for her major\"\u001b[0m\u001b[0;34m.\u001b[0m\u001b[0mformat\u001b[0m\u001b[0;34m(\u001b[0m\u001b[0mround\u001b[0m\u001b[0;34m(\u001b[0m\u001b[0mstudents\u001b[0m\u001b[0;34m[\u001b[0m\u001b[0;36m0\u001b[0m\u001b[0;34m]\u001b[0m\u001b[0;34m[\u001b[0m\u001b[0;34m'gpa'\u001b[0m\u001b[0;34m]\u001b[0m\u001b[0;34m)\u001b[0m\u001b[0;34m,\u001b[0m\u001b[0;36m1\u001b[0m\u001b[0;34m)\u001b[0m\u001b[0;34m)\u001b[0m\u001b[0;34m.\u001b[0m\u001b[0mcapitalize\u001b[0m\u001b[0;34m(\u001b[0m\u001b[0;34m)\u001b[0m\u001b[0;34m\u001b[0m\u001b[0m\n\u001b[0m",
      "\u001b[0;31mAttributeError\u001b[0m: 'NoneType' object has no attribute 'capitalize'"
     ],
     "output_type": "error"
    }
   ],
   "source": [
    "print(\"The first student's GPA was {}, which was high for her major\".format(round(students[0]['gpa']),1)).capitalize()"
   ]
  },
  {
   "cell_type": "markdown",
   "metadata": {},
   "source": [
    "That's a lot going on in a single line. When you're running into errors when you've got complex code like this, you should start by breaking apart the code."
   ]
  },
  {
   "cell_type": "code",
   "execution_count": 4,
   "metadata": {},
   "outputs": [],
   "source": [
    "#First thing I want to do is access the first student's records and get their GPA.\n",
    "student = students[0]\n",
    "first_gpa = student['gpa']"
   ]
  },
  {
   "cell_type": "code",
   "execution_count": 5,
   "metadata": {},
   "outputs": [
    {
     "name": "stdout",
     "output_type": "stream",
     "text": [
      "The first student's GPA was 3, which was high for her major\n"
     ]
    },
    {
     "ename": "AttributeError",
     "evalue": "'NoneType' object has no attribute 'capitalize'",
     "traceback": [
      "\u001b[0;31m---------------------------------------------------------------------------\u001b[0m",
      "\u001b[0;31mAttributeError\u001b[0m                            Traceback (most recent call last)",
      "\u001b[0;32m<ipython-input-5-d2e3e60b21ea>\u001b[0m in \u001b[0;36m<module>\u001b[0;34m()\u001b[0m\n\u001b[1;32m      1\u001b[0m \u001b[0;31m#Now we're down to the following code:\u001b[0m\u001b[0;34m\u001b[0m\u001b[0;34m\u001b[0m\u001b[0m\n\u001b[0;32m----> 2\u001b[0;31m \u001b[0mprint\u001b[0m\u001b[0;34m(\u001b[0m\u001b[0;34m\"The first student's GPA was {}, which was high for her major\"\u001b[0m\u001b[0;34m.\u001b[0m\u001b[0mformat\u001b[0m\u001b[0;34m(\u001b[0m\u001b[0mround\u001b[0m\u001b[0;34m(\u001b[0m\u001b[0mfirst_gpa\u001b[0m\u001b[0;34m)\u001b[0m\u001b[0;34m,\u001b[0m\u001b[0;36m1\u001b[0m\u001b[0;34m)\u001b[0m\u001b[0;34m)\u001b[0m\u001b[0;34m.\u001b[0m\u001b[0mcapitalize\u001b[0m\u001b[0;34m(\u001b[0m\u001b[0;34m)\u001b[0m\u001b[0;34m\u001b[0m\u001b[0m\n\u001b[0m",
      "\u001b[0;31mAttributeError\u001b[0m: 'NoneType' object has no attribute 'capitalize'"
     ],
     "output_type": "error"
    }
   ],
   "source": [
    "#Now we're down to the following code:\n",
    "print(\"The first student's GPA was {}, which was high for her major\".format(round(first_gpa),1)).capitalize()"
   ]
  },
  {
   "cell_type": "code",
   "execution_count": 6,
   "metadata": {},
   "outputs": [
    {
     "ename": "SyntaxError",
     "evalue": "invalid syntax (<ipython-input-6-2ebd98efb32c>, line 3)",
     "traceback": [
      "\u001b[0;36m  File \u001b[0;32m\"<ipython-input-6-2ebd98efb32c>\"\u001b[0;36m, line \u001b[0;32m3\u001b[0m\n\u001b[0;31m    round(first_gpa),1) #This is clearly wrong\u001b[0m\n\u001b[0m                      ^\u001b[0m\n\u001b[0;31mSyntaxError\u001b[0m\u001b[0;31m:\u001b[0m invalid syntax\n"
     ],
     "output_type": "error"
    }
   ],
   "source": [
    "#Let's steal the code from within parentheses to see how each part works\n",
    "#The first thing that will get computed is what is inside the format parentheses\n",
    "round(first_gpa),1) #This is clearly wrong\n"
   ]
  },
  {
   "cell_type": "code",
   "execution_count": 7,
   "metadata": {},
   "outputs": [],
   "source": [
    "rounded_first_gpa = round(first_gpa,1)"
   ]
  },
  {
   "cell_type": "code",
   "execution_count": 8,
   "metadata": {},
   "outputs": [
    {
     "ename": "SyntaxError",
     "evalue": "unexpected EOF while parsing (<ipython-input-8-b29f0195e41a>, line 2)",
     "traceback": [
      "\u001b[0;36m  File \u001b[0;32m\"<ipython-input-8-b29f0195e41a>\"\u001b[0;36m, line \u001b[0;32m2\u001b[0m\n\u001b[0;31m    print(\"The first student's GPA was {}, which was high for her major\".format(rounded_first_gpa)\u001b[0m\n\u001b[0m                                                                                                  ^\u001b[0m\n\u001b[0;31mSyntaxError\u001b[0m\u001b[0;31m:\u001b[0m unexpected EOF while parsing\n"
     ],
     "output_type": "error"
    }
   ],
   "source": [
    "#Now the code reads\n",
    "print(\"The first student's GPA was {}, which was high for her major\".format(rounded_first_gpa)"
   ]
  },
  {
   "cell_type": "code",
   "execution_count": 9,
   "metadata": {},
   "outputs": [
    {
     "ename": "SyntaxError",
     "evalue": "unexpected EOF while parsing (<ipython-input-9-1376795cac3f>, line 3)",
     "traceback": [
      "\u001b[0;36m  File \u001b[0;32m\"<ipython-input-9-1376795cac3f>\"\u001b[0;36m, line \u001b[0;32m3\u001b[0m\n\u001b[0;31m    \"The first student's GPA was {}, which was high for her major\".format(rounded_first_gpa).capitalize(\u001b[0m\n\u001b[0m                                                                                                        ^\u001b[0m\n\u001b[0;31mSyntaxError\u001b[0m\u001b[0;31m:\u001b[0m unexpected EOF while parsing\n"
     ],
     "output_type": "error"
    }
   ],
   "source": [
    "#Let's go back to checking things within parentheses\n",
    "#Now we're down to the contents within the print statement\n",
    "\"The first student's GPA was {}, which was high for her major\".format(rounded_first_gpa).capitalize("
   ]
  },
  {
   "cell_type": "code",
   "execution_count": 10,
   "metadata": {},
   "outputs": [],
   "source": [
    "#Now we've found the next culprit... a missing parenthesis!\n",
    "#Let's assign the phrase to another variable\n",
    "phrase = \"The first student's GPA was {}, which was high for her major\".format(rounded_first_gpa).capitalize()"
   ]
  },
  {
   "cell_type": "code",
   "execution_count": 11,
   "metadata": {},
   "outputs": [
    {
     "name": "stdout",
     "output_type": "stream",
     "text": [
      "The first student's gpa was 3.1, which was high for her major\n"
     ]
    }
   ],
   "source": [
    "#Now all we have to do is print the phrase\n",
    "print(phrase)"
   ]
  },
  {
   "cell_type": "markdown",
   "metadata": {},
   "source": [
    "More lines of code may not seem as efficient or elegant, but I promise it will result in less buggy code. The key is to improve readability.\n",
    "\n",
    "##### Example"
   ]
  },
  {
   "cell_type": "code",
   "execution_count": 12,
   "metadata": {},
   "outputs": [
    {
     "ename": "SyntaxError",
     "evalue": "invalid syntax (<ipython-input-12-ff1f6293153e>, line 10)",
     "traceback": [
      "\u001b[0;36m  File \u001b[0;32m\"<ipython-input-12-ff1f6293153e>\"\u001b[0;36m, line \u001b[0;32m10\u001b[0m\n\u001b[0;31m    elif score >=69 and grade <79:\u001b[0m\n\u001b[0m       ^\u001b[0m\n\u001b[0;31mSyntaxError\u001b[0m\u001b[0;31m:\u001b[0m invalid syntax\n"
     ],
     "output_type": "error"
    }
   ],
   "source": [
    "my_points = 53\n",
    "possible_points = 70\n",
    "score = (my_points / possible_points) * 100\n",
    "grade = letter_grade(score)\n",
    "\n",
    "rounded_score = round(score, 0)\n",
    "\n",
    "if score >= 60 and grade <69:\n",
    "        print ('your grade is {}, so your letter grade is D'.format(rounded_score)\n",
    "    elif score >=69 and grade <79:\n",
    "        print ('your grade is {}, so your letter grade is C'.format(rounded_score)\n",
    "    elif score >=79 and grade <89:\n",
    "        print ('your grade is {}, so your letter grade is B'.format(rounded_score)\n",
    "    elif: score >= 89\n",
    "    print ('your grade is {}, so your letter grade is A'.format(round(grade,0))"
   ]
  },
  {
   "cell_type": "code",
   "execution_count": null,
   "metadata": {},
   "outputs": [],
   "source": []
  },
  {
   "cell_type": "code",
   "execution_count": null,
   "metadata": {},
   "outputs": [],
   "source": []
  },
  {
   "cell_type": "code",
   "execution_count": null,
   "metadata": {},
   "outputs": [],
   "source": []
  },
  {
   "cell_type": "code",
   "execution_count": null,
   "metadata": {},
   "outputs": [],
   "source": []
  },
  {
   "cell_type": "code",
   "execution_count": null,
   "metadata": {},
   "outputs": [],
   "source": []
  },
  {
   "cell_type": "markdown",
   "metadata": {},
   "source": [
    "## Scientific Libraries"
   ]
  },
  {
   "cell_type": "markdown",
   "metadata": {},
   "source": [
    "While Python is arguably the most widely used language for Data Scientists, the language by itself does not necessarily lend itself to performing data analysis or modeling. The most influential evolution of the language that led the widespread adoption in the field was the creation of two libraries: Numpy and Pandas.\n",
    "\n",
    "Numpy (prounounced \"num-pie\") was originally written in 1995, but it took it's current form in 2006. Since then it has been a foundational library for performing data analysis in Python. Two years later, Wes McKinney wrote Pandas, which took the concepts started by Numpy and melded it with powerful data structures from R.\n",
    "\n",
    "Let's start by talking about Numpy.\n",
    "\n",
    "Numpy is a library that has many built-in Objects that utilize code written in the C language. This makes code run MUCH much faster than what you might see in Python (and often with a lot less code). Let's take a look at a few examples.\n",
    "\n",
    "### Intro to Numpy"
   ]
  },
  {
   "cell_type": "code",
   "execution_count": 13,
   "metadata": {},
   "outputs": [],
   "source": [
    "import random\n",
    "import numpy as np #We use an alias to shorten our code"
   ]
  },
  {
   "cell_type": "markdown",
   "metadata": {},
   "source": [
    "##### Arrays\n",
    "\n",
    "The foundational data structure for Numpy is the array. Like lists, values within arrays are accessible by index, but the array has many more powerful features that make analysis much easier."
   ]
  },
  {
   "cell_type": "code",
   "execution_count": 14,
   "metadata": {},
   "outputs": [
    {
     "data": {
      "text/plain": [
       "[3, 68, 40, 7, 30, 83, 68, 71, 2, 88]"
      ]
     },
     "execution_count": 14,
     "metadata": {},
     "output_type": "execute_result"
    }
   ],
   "source": [
    "#Create some random numbers in Python\n",
    "list_of_numbers1 = [random.randint(1,100) for _ in range(10)]\n",
    "list_of_numbers2 = [random.randint(1,100) for _ in range(10)]\n",
    "list_of_numbers3 = [random.randint(1,100) for _ in range(10)]\n",
    "\n",
    "list_of_numbers1"
   ]
  },
  {
   "cell_type": "code",
   "execution_count": 15,
   "metadata": {},
   "outputs": [
    {
     "data": {
      "text/plain": [
       "array([ 3, 68, 40,  7, 30, 83, 68, 71,  2, 88])"
      ]
     },
     "execution_count": 15,
     "metadata": {},
     "output_type": "execute_result"
    }
   ],
   "source": [
    "#Create some random numbers in Numpy\n",
    "np_array_of_numbers1 = np.array(list_of_numbers1) #Casting a list as a new Numpy-specific data structure\n",
    "np_array_of_numbers2 = np.array(list_of_numbers2) #Casting a list as a new Numpy-specific data structure\n",
    "np_array_of_numbers3 = np.array(list_of_numbers3) #Casting a list as a new Numpy-specific data structure\n",
    "\n",
    "np_array_of_numbers1"
   ]
  },
  {
   "cell_type": "code",
   "execution_count": 16,
   "metadata": {},
   "outputs": [
    {
     "data": {
      "text/plain": [
       "3"
      ]
     },
     "execution_count": 16,
     "metadata": {},
     "output_type": "execute_result"
    }
   ],
   "source": [
    "#Values can be accessed just like lists by index\n",
    "np_array_of_numbers1[0]"
   ]
  },
  {
   "cell_type": "code",
   "execution_count": 17,
   "metadata": {},
   "outputs": [
    {
     "data": {
      "text/plain": [
       "array([ 3, 68, 40,  7, 30])"
      ]
     },
     "execution_count": 17,
     "metadata": {},
     "output_type": "execute_result"
    }
   ],
   "source": [
    "#... or by range\n",
    "np_array_of_numbers1[:5]"
   ]
  },
  {
   "cell_type": "code",
   "execution_count": 18,
   "metadata": {},
   "outputs": [
    {
     "data": {
      "text/plain": [
       "array([ 3,  7, 30, 71])"
      ]
     },
     "execution_count": 18,
     "metadata": {},
     "output_type": "execute_result"
    }
   ],
   "source": [
    "#What you CAN do that's unique is access data by random indices\n",
    "np_array_of_numbers1[[0,3,4,7]]"
   ]
  },
  {
   "cell_type": "code",
   "execution_count": 19,
   "metadata": {},
   "outputs": [
    {
     "ename": "TypeError",
     "evalue": "list indices must be integers or slices, not list",
     "traceback": [
      "\u001b[0;31m---------------------------------------------------------------------------\u001b[0m",
      "\u001b[0;31mTypeError\u001b[0m                                 Traceback (most recent call last)",
      "\u001b[0;32m<ipython-input-19-74721d9648af>\u001b[0m in \u001b[0;36m<module>\u001b[0;34m()\u001b[0m\n\u001b[1;32m      1\u001b[0m \u001b[0;31m#This doesn't work for lists\u001b[0m\u001b[0;34m\u001b[0m\u001b[0;34m\u001b[0m\u001b[0m\n\u001b[0;32m----> 2\u001b[0;31m \u001b[0mlist_of_numbers1\u001b[0m\u001b[0;34m[\u001b[0m\u001b[0;34m[\u001b[0m\u001b[0;36m0\u001b[0m\u001b[0;34m,\u001b[0m\u001b[0;36m3\u001b[0m\u001b[0;34m,\u001b[0m\u001b[0;36m4\u001b[0m\u001b[0;34m,\u001b[0m\u001b[0;36m7\u001b[0m\u001b[0;34m]\u001b[0m\u001b[0;34m]\u001b[0m\u001b[0;34m\u001b[0m\u001b[0m\n\u001b[0m",
      "\u001b[0;31mTypeError\u001b[0m: list indices must be integers or slices, not list"
     ],
     "output_type": "error"
    }
   ],
   "source": [
    "#This doesn't work for lists\n",
    "list_of_numbers1[[0,3,4,7]]"
   ]
  },
  {
   "cell_type": "markdown",
   "metadata": {},
   "source": [
    "##### Array Math"
   ]
  },
  {
   "cell_type": "markdown",
   "metadata": {},
   "source": [
    "Let's add 5 to every number in the first list."
   ]
  },
  {
   "cell_type": "code",
   "execution_count": 20,
   "metadata": {},
   "outputs": [],
   "source": [
    "#Base Python\n",
    "\n"
   ]
  },
  {
   "cell_type": "code",
   "execution_count": 21,
   "metadata": {},
   "outputs": [],
   "source": [
    "#Using Numpy\n",
    "\n"
   ]
  },
  {
   "cell_type": "markdown",
   "metadata": {},
   "source": [
    "What just happened here???\n",
    "\n",
    "Numpy uses something called \"broadcasting.\" This allows us to apply certain mathematical operations to each element in an array. We can do a lot more than this too! The more commonly used terminology for this is called **\"vectorization.\"**\n",
    "\n",
    "Let's multiply each number in list 1 by 5"
   ]
  },
  {
   "cell_type": "code",
   "execution_count": 22,
   "metadata": {},
   "outputs": [
    {
     "data": {
      "text/plain": [
       "[]"
      ]
     },
     "execution_count": 22,
     "metadata": {},
     "output_type": "execute_result"
    }
   ],
   "source": [
    "#Base Python\n",
    "python_nums = []\n",
    "\n",
    "\n",
    "\n",
    "python_nums"
   ]
  },
  {
   "cell_type": "code",
   "execution_count": 23,
   "metadata": {},
   "outputs": [
    {
     "ename": "NameError",
     "evalue": "name 'numpy_nums' is not defined",
     "traceback": [
      "\u001b[0;31m---------------------------------------------------------------------------\u001b[0m",
      "\u001b[0;31mNameError\u001b[0m                                 Traceback (most recent call last)",
      "\u001b[0;32m<ipython-input-23-becc989fe197>\u001b[0m in \u001b[0;36m<module>\u001b[0;34m()\u001b[0m\n\u001b[1;32m      2\u001b[0m \u001b[0;34m\u001b[0m\u001b[0m\n\u001b[1;32m      3\u001b[0m \u001b[0;34m\u001b[0m\u001b[0m\n\u001b[0;32m----> 4\u001b[0;31m \u001b[0mnumpy_nums\u001b[0m\u001b[0;34m\u001b[0m\u001b[0m\n\u001b[0m",
      "\u001b[0;31mNameError\u001b[0m: name 'numpy_nums' is not defined"
     ],
     "output_type": "error"
    }
   ],
   "source": [
    "#Using Numpy\n",
    "\n",
    "\n",
    "numpy_nums"
   ]
  },
  {
   "cell_type": "markdown",
   "metadata": {},
   "source": [
    "Now let's add each element of list 1 and list 2 and then divide the sum by each value of list 3"
   ]
  },
  {
   "cell_type": "code",
   "execution_count": 24,
   "metadata": {},
   "outputs": [
    {
     "data": {
      "text/plain": [
       "2.48"
      ]
     },
     "execution_count": 24,
     "metadata": {},
     "output_type": "execute_result"
    }
   ],
   "source": [
    "#Example of first index\n",
    "(list_of_numbers1[0] + list_of_numbers2[0]) / list_of_numbers3[0]"
   ]
  },
  {
   "cell_type": "code",
   "execution_count": 25,
   "metadata": {},
   "outputs": [
    {
     "data": {
      "text/plain": [
       "[]"
      ]
     },
     "execution_count": 25,
     "metadata": {},
     "output_type": "execute_result"
    }
   ],
   "source": [
    "#Let's do it for all of the values now\n",
    "#Base Python\n",
    "\n",
    "\n",
    "python_nums"
   ]
  },
  {
   "cell_type": "code",
   "execution_count": 26,
   "metadata": {},
   "outputs": [
    {
     "ename": "NameError",
     "evalue": "name 'numpy_nums' is not defined",
     "traceback": [
      "\u001b[0;31m---------------------------------------------------------------------------\u001b[0m",
      "\u001b[0;31mNameError\u001b[0m                                 Traceback (most recent call last)",
      "\u001b[0;32m<ipython-input-26-becc989fe197>\u001b[0m in \u001b[0;36m<module>\u001b[0;34m()\u001b[0m\n\u001b[1;32m      2\u001b[0m \u001b[0;34m\u001b[0m\u001b[0m\n\u001b[1;32m      3\u001b[0m \u001b[0;34m\u001b[0m\u001b[0m\n\u001b[0;32m----> 4\u001b[0;31m \u001b[0mnumpy_nums\u001b[0m\u001b[0;34m\u001b[0m\u001b[0m\n\u001b[0m",
      "\u001b[0;31mNameError\u001b[0m: name 'numpy_nums' is not defined"
     ],
     "output_type": "error"
    }
   ],
   "source": [
    "#Using Numpy\n",
    "\n",
    "\n",
    "numpy_nums"
   ]
  },
  {
   "cell_type": "markdown",
   "metadata": {},
   "source": [
    "When doing **element-wise** math using arrays, it is critical that you are doing this with arrays that are the same shape."
   ]
  },
  {
   "cell_type": "code",
   "execution_count": 27,
   "metadata": {},
   "outputs": [
    {
     "ename": "ValueError",
     "evalue": "operands could not be broadcast together with shapes (10,) (5,) ",
     "traceback": [
      "\u001b[0;31m---------------------------------------------------------------------------\u001b[0m",
      "\u001b[0;31mValueError\u001b[0m                                Traceback (most recent call last)",
      "\u001b[0;32m<ipython-input-27-b87db07aac45>\u001b[0m in \u001b[0;36m<module>\u001b[0;34m()\u001b[0m\n\u001b[1;32m      1\u001b[0m \u001b[0mlonger_array\u001b[0m \u001b[0;34m=\u001b[0m \u001b[0mnp\u001b[0m\u001b[0;34m.\u001b[0m\u001b[0marray\u001b[0m\u001b[0;34m(\u001b[0m\u001b[0;34m[\u001b[0m\u001b[0mrandom\u001b[0m\u001b[0;34m.\u001b[0m\u001b[0mrandint\u001b[0m\u001b[0;34m(\u001b[0m\u001b[0;36m1\u001b[0m\u001b[0;34m,\u001b[0m\u001b[0;36m100\u001b[0m\u001b[0;34m)\u001b[0m \u001b[0;32mfor\u001b[0m \u001b[0m_\u001b[0m \u001b[0;32min\u001b[0m \u001b[0mrange\u001b[0m\u001b[0;34m(\u001b[0m\u001b[0;36m10\u001b[0m\u001b[0;34m)\u001b[0m\u001b[0;34m]\u001b[0m\u001b[0;34m)\u001b[0m\u001b[0;34m\u001b[0m\u001b[0m\n\u001b[1;32m      2\u001b[0m \u001b[0mshorter_array\u001b[0m \u001b[0;34m=\u001b[0m \u001b[0mnp\u001b[0m\u001b[0;34m.\u001b[0m\u001b[0marray\u001b[0m\u001b[0;34m(\u001b[0m\u001b[0;34m[\u001b[0m\u001b[0mrandom\u001b[0m\u001b[0;34m.\u001b[0m\u001b[0mrandint\u001b[0m\u001b[0;34m(\u001b[0m\u001b[0;36m1\u001b[0m\u001b[0;34m,\u001b[0m\u001b[0;36m100\u001b[0m\u001b[0;34m)\u001b[0m \u001b[0;32mfor\u001b[0m \u001b[0m_\u001b[0m \u001b[0;32min\u001b[0m \u001b[0mrange\u001b[0m\u001b[0;34m(\u001b[0m\u001b[0;36m5\u001b[0m\u001b[0;34m)\u001b[0m\u001b[0;34m]\u001b[0m\u001b[0;34m)\u001b[0m\u001b[0;34m\u001b[0m\u001b[0m\n\u001b[0;32m----> 3\u001b[0;31m \u001b[0mlonger_array\u001b[0m \u001b[0;34m/\u001b[0m \u001b[0mshorter_array\u001b[0m \u001b[0;31m#This doesn't work\u001b[0m\u001b[0;34m\u001b[0m\u001b[0m\n\u001b[0m",
      "\u001b[0;31mValueError\u001b[0m: operands could not be broadcast together with shapes (10,) (5,) "
     ],
     "output_type": "error"
    }
   ],
   "source": [
    "longer_array = np.array([random.randint(1,100) for _ in range(10)])\n",
    "shorter_array = np.array([random.randint(1,100) for _ in range(5)])\n",
    "longer_array / shorter_array #This doesn't work"
   ]
  },
  {
   "cell_type": "markdown",
   "metadata": {},
   "source": [
    "Element-wise math can happen with almost standard mathematical operator (or combination of operators. In fact, you can even apply functions to arrays, as long as the operations being performed are mathematical in nature (and not logical)."
   ]
  },
  {
   "cell_type": "code",
   "execution_count": 28,
   "metadata": {},
   "outputs": [],
   "source": [
    "#Basic arithmetic operations and numpy math functions\n",
    "def math_output(x):\n",
    "    a = x + 5\n",
    "    b = a / 2\n",
    "    c = b ** 3\n",
    "    d = np.sqrt(c) #Numpy has several built-in math functions\n",
    "    return c"
   ]
  },
  {
   "cell_type": "code",
   "execution_count": 29,
   "metadata": {},
   "outputs": [
    {
     "data": {
      "text/plain": [
       "216.0"
      ]
     },
     "execution_count": 29,
     "metadata": {},
     "output_type": "execute_result"
    }
   ],
   "source": [
    "math_output(7)"
   ]
  },
  {
   "cell_type": "code",
   "execution_count": 30,
   "metadata": {},
   "outputs": [
    {
     "data": {
      "text/plain": [
       "[64.0,\n",
       " 48627.125,\n",
       " 11390.625,\n",
       " 216.0,\n",
       " 5359.375,\n",
       " 85184.0,\n",
       " 48627.125,\n",
       " 54872.0,\n",
       " 42.875,\n",
       " 100544.625]"
      ]
     },
     "execution_count": 30,
     "metadata": {},
     "output_type": "execute_result"
    }
   ],
   "source": [
    "#In base Python\n",
    "answers = []\n",
    "for i in list_of_numbers1:\n",
    "    answer = math_output(i)\n",
    "    answers.append(answer)\n",
    "answers"
   ]
  },
  {
   "cell_type": "markdown",
   "metadata": {},
   "source": [
    "--------\n",
    "##### Sidenote: List Comprehensions\n",
    "Sometimes you want to create a simple list and writing so many lines of code might seem silly. List comprehensions are a nice, clean, efficient way to create lists without having to write out so much code."
   ]
  },
  {
   "cell_type": "code",
   "execution_count": 31,
   "metadata": {},
   "outputs": [
    {
     "data": {
      "text/plain": [
       "[64.0,\n",
       " 48627.125,\n",
       " 11390.625,\n",
       " 216.0,\n",
       " 5359.375,\n",
       " 85184.0,\n",
       " 48627.125,\n",
       " 54872.0,\n",
       " 42.875,\n",
       " 100544.625]"
      ]
     },
     "execution_count": 31,
     "metadata": {},
     "output_type": "execute_result"
    }
   ],
   "source": [
    "#SIDENOTE: You can also use something called list comprehensions to create the above code in one line\n",
    "answers = [math_output(i) for i in list_of_numbers1] #Create in-line for-loops\n",
    "answers"
   ]
  },
  {
   "cell_type": "code",
   "execution_count": 32,
   "metadata": {},
   "outputs": [
    {
     "data": {
      "text/plain": [
       "[1, 0, 0, 1, 0, 1, 0, 1, 0, 0]"
      ]
     },
     "execution_count": 32,
     "metadata": {},
     "output_type": "execute_result"
    }
   ],
   "source": [
    "remainders = [i % 2 for i in list_of_numbers1]\n",
    "remainders"
   ]
  },
  {
   "cell_type": "markdown",
   "metadata": {},
   "source": [
    "While list comprehensions are cool and clean looking, please be careful to not go overboard with these. They are easy to screw up, so the more complex your logic, the harder it is to write them.\n",
    "\n",
    "---"
   ]
  },
  {
   "cell_type": "code",
   "execution_count": 33,
   "metadata": {},
   "outputs": [
    {
     "data": {
      "text/plain": [
       "array([6.40000000e+01, 4.86271250e+04, 1.13906250e+04, 2.16000000e+02,\n",
       "       5.35937500e+03, 8.51840000e+04, 4.86271250e+04, 5.48720000e+04,\n",
       "       4.28750000e+01, 1.00544625e+05])"
      ]
     },
     "execution_count": 33,
     "metadata": {},
     "output_type": "execute_result"
    }
   ],
   "source": [
    "math_output(np_array_of_numbers1)"
   ]
  },
  {
   "cell_type": "code",
   "execution_count": 34,
   "metadata": {},
   "outputs": [],
   "source": [
    "def logical_output(x):\n",
    "    if x % 2 == 0:\n",
    "        return 'even'\n",
    "    elif x % 2 == 1:\n",
    "        return 'odd'\n",
    "    else:\n",
    "        return 'something else'"
   ]
  },
  {
   "cell_type": "code",
   "execution_count": 35,
   "metadata": {},
   "outputs": [
    {
     "data": {
      "text/plain": [
       "'even'"
      ]
     },
     "execution_count": 35,
     "metadata": {},
     "output_type": "execute_result"
    }
   ],
   "source": [
    "logical_output(4)"
   ]
  },
  {
   "cell_type": "code",
   "execution_count": 36,
   "metadata": {},
   "outputs": [
    {
     "data": {
      "text/plain": [
       "['odd', 'even', 'even', 'odd', 'even', 'odd', 'even', 'odd', 'even', 'even']"
      ]
     },
     "execution_count": 36,
     "metadata": {},
     "output_type": "execute_result"
    }
   ],
   "source": [
    "answers = []\n",
    "for i in list_of_numbers1:\n",
    "    answer = logical_output(i)\n",
    "    answers.append(answer)\n",
    "answers"
   ]
  },
  {
   "cell_type": "code",
   "execution_count": 37,
   "metadata": {},
   "outputs": [
    {
     "ename": "ValueError",
     "evalue": "The truth value of an array with more than one element is ambiguous. Use a.any() or a.all()",
     "traceback": [
      "\u001b[0;31m---------------------------------------------------------------------------\u001b[0m",
      "\u001b[0;31mValueError\u001b[0m                                Traceback (most recent call last)",
      "\u001b[0;32m<ipython-input-37-3641631b47eb>\u001b[0m in \u001b[0;36m<module>\u001b[0;34m()\u001b[0m\n\u001b[0;32m----> 1\u001b[0;31m \u001b[0mlogical_output\u001b[0m\u001b[0;34m(\u001b[0m\u001b[0mnp_array_of_numbers1\u001b[0m\u001b[0;34m)\u001b[0m \u001b[0;31m#You cannot vectorize control flow\u001b[0m\u001b[0;34m\u001b[0m\u001b[0m\n\u001b[0m",
      "\u001b[0;32m<ipython-input-34-cb5c92b202e2>\u001b[0m in \u001b[0;36mlogical_output\u001b[0;34m(x)\u001b[0m\n\u001b[1;32m      1\u001b[0m \u001b[0;32mdef\u001b[0m \u001b[0mlogical_output\u001b[0m\u001b[0;34m(\u001b[0m\u001b[0mx\u001b[0m\u001b[0;34m)\u001b[0m\u001b[0;34m:\u001b[0m\u001b[0;34m\u001b[0m\u001b[0m\n\u001b[0;32m----> 2\u001b[0;31m     \u001b[0;32mif\u001b[0m \u001b[0mx\u001b[0m \u001b[0;34m%\u001b[0m \u001b[0;36m2\u001b[0m \u001b[0;34m==\u001b[0m \u001b[0;36m0\u001b[0m\u001b[0;34m:\u001b[0m\u001b[0;34m\u001b[0m\u001b[0m\n\u001b[0m\u001b[1;32m      3\u001b[0m         \u001b[0;32mreturn\u001b[0m \u001b[0;34m'even'\u001b[0m\u001b[0;34m\u001b[0m\u001b[0m\n\u001b[1;32m      4\u001b[0m     \u001b[0;32melif\u001b[0m \u001b[0mx\u001b[0m \u001b[0;34m%\u001b[0m \u001b[0;36m2\u001b[0m \u001b[0;34m==\u001b[0m \u001b[0;36m1\u001b[0m\u001b[0;34m:\u001b[0m\u001b[0;34m\u001b[0m\u001b[0m\n\u001b[1;32m      5\u001b[0m         \u001b[0;32mreturn\u001b[0m \u001b[0;34m'odd'\u001b[0m\u001b[0;34m\u001b[0m\u001b[0m\n",
      "\u001b[0;31mValueError\u001b[0m: The truth value of an array with more than one element is ambiguous. Use a.any() or a.all()"
     ],
     "output_type": "error"
    }
   ],
   "source": [
    "logical_output(np_array_of_numbers1) #You cannot vectorize control flow"
   ]
  },
  {
   "cell_type": "code",
   "execution_count": null,
   "metadata": {},
   "outputs": [],
   "source": []
  },
  {
   "cell_type": "markdown",
   "metadata": {},
   "source": [
    "What you're seeing here in the Numpy version is called filtering. Let's look at the various pieces of filtering that is super powerful.\n",
    "\n",
    "#### Numpy Filtering\n",
    "\n",
    "Filters are arrays consisting of True and False values. You can obtain these by applying in-line logic comparisons."
   ]
  },
  {
   "cell_type": "code",
   "execution_count": 38,
   "metadata": {},
   "outputs": [
    {
     "data": {
      "text/plain": [
       "array([ 3, 68, 40,  7, 30, 83, 68, 71,  2, 88])"
      ]
     },
     "execution_count": 38,
     "metadata": {},
     "output_type": "execute_result"
    }
   ],
   "source": [
    "np_array_of_numbers1"
   ]
  },
  {
   "cell_type": "code",
   "execution_count": 39,
   "metadata": {
    "scrolled": true
   },
   "outputs": [
    {
     "data": {
      "text/plain": [
       "array([False,  True,  True, False,  True, False,  True, False,  True,\n",
       "        True])"
      ]
     },
     "execution_count": 39,
     "metadata": {},
     "output_type": "execute_result"
    }
   ],
   "source": [
    "#Let's find the even numbers in our array\n",
    "is_even = np_array_of_numbers1 % 2 == 0\n",
    "is_even"
   ]
  },
  {
   "cell_type": "markdown",
   "metadata": {},
   "source": [
    "Now, much like indexing in an array, we can use this filter to only return the values that are true."
   ]
  },
  {
   "cell_type": "code",
   "execution_count": 40,
   "metadata": {},
   "outputs": [
    {
     "data": {
      "text/plain": [
       "array([68, 40, 30, 68,  2, 88])"
      ]
     },
     "execution_count": 40,
     "metadata": {},
     "output_type": "execute_result"
    }
   ],
   "source": [
    "np_array_of_numbers1[is_even]"
   ]
  },
  {
   "cell_type": "code",
   "execution_count": 41,
   "metadata": {},
   "outputs": [
    {
     "data": {
      "text/plain": [
       "array([ 3, 30])"
      ]
     },
     "execution_count": 41,
     "metadata": {},
     "output_type": "execute_result"
    }
   ],
   "source": [
    "#Let's now find the numbers divisible by 3 in our array\n",
    "divis_by_3_filter = np_array_of_numbers1 % 3 == 0\n",
    "nums_divisible_by_3 = np_array_of_numbers1[divis_by_3_filter]\n",
    "nums_divisible_by_3"
   ]
  },
  {
   "cell_type": "code",
   "execution_count": 42,
   "metadata": {},
   "outputs": [
    {
     "data": {
      "text/plain": [
       "array([ 3, 30])"
      ]
     },
     "execution_count": 42,
     "metadata": {},
     "output_type": "execute_result"
    }
   ],
   "source": [
    "#We can also do this without creating a filter\n",
    "np_array_of_numbers1[np_array_of_numbers1 % 3 == 0]"
   ]
  },
  {
   "cell_type": "markdown",
   "metadata": {},
   "source": [
    "Filtering will be an extremely important concept as we move forward."
   ]
  },
  {
   "cell_type": "markdown",
   "metadata": {},
   "source": [
    "We can also use these filters on other arrays of the same shape, assuming the indices of the array are all associated with the same entity (e.g. the same student for the example below).\n",
    "\n",
    "Imagine we're on the school board and want to identify all of the honors students. We want to start by finding everyone with a GPA 3.7 or higher. When we did this previously, it required a complicated loop. Now, with Numpy, we can use simple filtering to identify those students."
   ]
  },
  {
   "cell_type": "code",
   "execution_count": 43,
   "metadata": {},
   "outputs": [],
   "source": [
    "students = json.load(open('students.json', 'r'))\n",
    "ids = np.array([i['student_id'] for i in students])\n",
    "gpas = np.array([i['gpa'] for i in students])"
   ]
  },
  {
   "cell_type": "code",
   "execution_count": 44,
   "metadata": {},
   "outputs": [
    {
     "ename": "SyntaxError",
     "evalue": "invalid syntax (<ipython-input-44-7e7ebbeba1e4>, line 2)",
     "traceback": [
      "\u001b[0;36m  File \u001b[0;32m\"<ipython-input-44-7e7ebbeba1e4>\"\u001b[0;36m, line \u001b[0;32m2\u001b[0m\n\u001b[0;31m    high_gpa_filter = <insert code here>\u001b[0m\n\u001b[0m                      ^\u001b[0m\n\u001b[0;31mSyntaxError\u001b[0m\u001b[0;31m:\u001b[0m invalid syntax\n"
     ],
     "output_type": "error"
    }
   ],
   "source": [
    "#Let's find the students with GPAs over 3.7\n",
    "high_gpa_filter = <insert code here>\n",
    "\n",
    "print('There are {} students eligible for honor roll. They have the following IDs'.format(len(honor_ids)))\n",
    "honor_ids"
   ]
  },
  {
   "cell_type": "code",
   "execution_count": 45,
   "metadata": {},
   "outputs": [
    {
     "data": {
      "text/plain": [
       "array([ True,  True, False, ..., False, False, False])"
      ]
     },
     "execution_count": 45,
     "metadata": {},
     "output_type": "execute_result"
    }
   ],
   "source": [
    "#If we wanted to know all of the students that were economics majors, we could create another filter\n",
    "majors = np.array([i['major'] for i in students])\n",
    "is_economics = majors == 'Economics'\n",
    "is_economics"
   ]
  },
  {
   "cell_type": "code",
   "execution_count": 46,
   "metadata": {},
   "outputs": [
    {
     "name": "stdout",
     "output_type": "stream",
     "text": [
      "The following students are economics majors\n",
      "['5a397209-3782-4764-a285-10fae807ee71'\n",
      " 'e26c3d69-3c74-49b6-81d7-47232787fad9'\n",
      " '1846c044-9a87-49e4-ad4f-d1bfadb4e41b' ...\n",
      " '32606dc2-862b-45cc-b0ac-f2b24253abdf'\n",
      " '8dc612f4-8150-4045-9e2d-cf160fb71da4'\n",
      " 'bc551659-ba48-447e-aa6a-0c2f49aaa9c1']\n"
     ]
    }
   ],
   "source": [
    "economics_ids = ids[is_economics]\n",
    "print('The following students are economics majors')\n",
    "print(economics_ids)"
   ]
  },
  {
   "cell_type": "markdown",
   "metadata": {},
   "source": [
    "##### Limits on usage of arrays\n",
    "There is one significant difference between arrays and lists where arrays are not as useful as lists, and that is in its ability to hold different variable types."
   ]
  },
  {
   "cell_type": "code",
   "execution_count": 47,
   "metadata": {},
   "outputs": [
    {
     "data": {
      "text/plain": [
       "[1, 2.0, '3']"
      ]
     },
     "execution_count": 47,
     "metadata": {},
     "output_type": "execute_result"
    }
   ],
   "source": [
    "mixed_list = [1, 2.0, '3']\n",
    "mixed_list"
   ]
  },
  {
   "cell_type": "code",
   "execution_count": 48,
   "metadata": {},
   "outputs": [],
   "source": [
    "mixed_array = np.array(mixed_list) #No error, but be wary of what you wish for"
   ]
  },
  {
   "cell_type": "code",
   "execution_count": 49,
   "metadata": {},
   "outputs": [
    {
     "data": {
      "text/plain": [
       "array(['1', '2.0', '3'], dtype='<U32')"
      ]
     },
     "execution_count": 49,
     "metadata": {},
     "output_type": "execute_result"
    }
   ],
   "source": [
    "mixed_array"
   ]
  },
  {
   "cell_type": "markdown",
   "metadata": {},
   "source": [
    "In this case, Numpy is \"helping\" you by auto-casting all of the variable into a common data type. Unfortunately, this is not always something you want and you have to be mindful of when it happens."
   ]
  },
  {
   "cell_type": "markdown",
   "metadata": {},
   "source": [
    "##### Numpy built-in array methods"
   ]
  },
  {
   "cell_type": "code",
   "execution_count": 50,
   "metadata": {},
   "outputs": [
    {
     "data": {
      "text/plain": [
       "3.376526"
      ]
     },
     "execution_count": 50,
     "metadata": {},
     "output_type": "execute_result"
    }
   ],
   "source": [
    "gpas.mean() #Compute the arithmetic mean"
   ]
  },
  {
   "cell_type": "code",
   "execution_count": 51,
   "metadata": {},
   "outputs": [
    {
     "data": {
      "text/plain": [
       "4.0"
      ]
     },
     "execution_count": 51,
     "metadata": {},
     "output_type": "execute_result"
    }
   ],
   "source": [
    "gpas.max() #Find the maximum value"
   ]
  },
  {
   "cell_type": "code",
   "execution_count": 52,
   "metadata": {},
   "outputs": [
    {
     "data": {
      "text/plain": [
       "1.72"
      ]
     },
     "execution_count": 52,
     "metadata": {},
     "output_type": "execute_result"
    }
   ],
   "source": [
    "gpas.min() #Find the minimum value"
   ]
  },
  {
   "cell_type": "code",
   "execution_count": 53,
   "metadata": {},
   "outputs": [
    {
     "data": {
      "text/plain": [
       "0.37002301458693077"
      ]
     },
     "execution_count": 53,
     "metadata": {},
     "output_type": "execute_result"
    }
   ],
   "source": [
    "gpas.std() #Find the standard deviation"
   ]
  },
  {
   "cell_type": "code",
   "execution_count": 54,
   "metadata": {},
   "outputs": [
    {
     "data": {
      "text/plain": [
       "4"
      ]
     },
     "execution_count": 54,
     "metadata": {},
     "output_type": "execute_result"
    }
   ],
   "source": [
    "gpas.argmax() #Find the FIRST index where the max value occurs"
   ]
  },
  {
   "cell_type": "code",
   "execution_count": 55,
   "metadata": {},
   "outputs": [
    {
     "data": {
      "text/plain": [
       "array(['84cec8f4-0b64-44ce-a628-c0eb73f6ca6f',\n",
       "       '1418830a-ca98-4b96-96c4-2b06a51ea306',\n",
       "       'e0d1dcc2-d48d-481e-ac3d-2a3cacf11787',\n",
       "       'd3170950-f20b-4121-bd44-2d0595dd46c1',\n",
       "       '2900cea4-e471-4cb1-9c81-0248b3d7c6e7',\n",
       "       '634c6900-4a15-495e-93f2-a46296706be8',\n",
       "       '5aa1f9cd-1313-4443-abce-e74df66ae16a',\n",
       "       '05cebb19-39bc-47d1-9ce8-95b5b3a82f9a',\n",
       "       '3c468120-f16a-4aa0-87a7-62c7678d1016',\n",
       "       '13a5fabf-787b-4f40-8609-08366ebae350',\n",
       "       'cd424190-fc3b-45e0-a439-c0171bc12634',\n",
       "       'c7bdcbce-737c-4a10-b040-380feddd9bb6',\n",
       "       '2cea7bd0-5730-4046-b8bd-5b867a9a81ca',\n",
       "       '177d8fcb-363b-42bb-9823-0aa657f4e201',\n",
       "       'e0184616-f3be-4028-b2cf-a7a47e8e175e',\n",
       "       '59ddb994-4270-4a6a-9a59-05157e95ab9c',\n",
       "       'dc5987a2-ab7a-4030-9180-83058c2a01ce',\n",
       "       '0908951a-47c9-428c-92f5-5bb78ab8dfe5',\n",
       "       '75fb1c66-2d88-4b3a-885c-f00925271e03',\n",
       "       '78008297-6fdf-40a5-93eb-f7783d14e41d',\n",
       "       'f404b1e1-0e62-47a6-88b2-eed3478badac',\n",
       "       '1d89f30e-7a49-4243-bc54-4b9caf18a238',\n",
       "       'f4991a73-dd59-4ac6-ad7b-ab1cb9949f49',\n",
       "       '1fb6edad-a5d2-4808-9f65-cf0f7da2167a',\n",
       "       '82ac9143-7f27-437d-b02a-984735c24198',\n",
       "       '511c2979-f3d5-428b-80cf-9dbe12967dda',\n",
       "       '3036fcbb-561d-4ca7-bcf1-16ed3f2de79d',\n",
       "       '68424f6c-ffab-424f-b308-30a6e6a641e7',\n",
       "       '26173abc-254d-4026-aef2-4edfcd2cc1f1',\n",
       "       'b0b67a57-35b4-4c83-b4a4-de7baf94ae6d',\n",
       "       '89de3e86-8a37-42ab-8ef5-8e702bcd050a',\n",
       "       'df631eff-6f3a-4cc6-afdb-52df5f1fa0e2',\n",
       "       '05745d8d-163d-4e22-b1b9-0c092905e9b8',\n",
       "       'cdb85f7f-4322-4290-97c7-8b2437b57c48',\n",
       "       '8c988d5f-59f6-4f4f-9cb6-5f682c95c0f1',\n",
       "       '6d54d7c1-3ec8-440b-b5cc-58461656c009',\n",
       "       'f82881c7-37ac-432f-b3ee-a032e2ece2cd',\n",
       "       '4ef85dc6-6c78-4961-be4a-44e24b1cd0a6',\n",
       "       '84720929-1441-4749-bc48-e607d81548e7',\n",
       "       'd2ac8132-9951-4c6b-8187-5240d6e41cb9',\n",
       "       'e81b8544-5a80-44de-b10e-c783ca559094',\n",
       "       '86a3faff-dbe5-4af1-bbec-96781a4c4e6b',\n",
       "       'cfe03647-b794-446e-b2f7-b96715a54c8d',\n",
       "       '3b14c8d9-9020-4adc-8965-960477352eff',\n",
       "       '617a6026-b86b-49bc-b9a4-efc4a6432a8b',\n",
       "       'a434eeb3-613c-4844-9da7-776136adb7b7',\n",
       "       '1ec42604-ac8f-4fc4-8937-d26390b52561',\n",
       "       'c4dc0064-2ebb-4a36-991e-f000b04cb7b3',\n",
       "       '57596f75-47f6-4464-aa31-2ea82548951e',\n",
       "       '8eca7dad-54ae-415f-9423-38b9a6c14464',\n",
       "       '100010cf-1fcd-4558-8c00-f40fb66a1c4f',\n",
       "       'c61a78d0-95d3-4a70-b9ad-5de56273483b',\n",
       "       'e9ace713-675f-4197-8e91-893347cf4fc8',\n",
       "       'd0204226-2af3-47ef-8716-61139b58f309',\n",
       "       'e009ccdf-809a-4d12-928f-72d37a9c30d9',\n",
       "       'd4bc98ff-c9da-45b9-8e4a-cdd374443756',\n",
       "       '67a365cd-de52-4c48-a253-112084579780',\n",
       "       '2e853090-2973-4ba4-a003-cd631e5e2da4',\n",
       "       '755bf06f-d985-482b-9551-be861c1d9d8e',\n",
       "       '181c61db-d1a9-4a63-b93a-844c25f2371e',\n",
       "       '5b793cc1-9d8f-4d90-8c69-c3c564ba7db2',\n",
       "       '8a8cf9d3-91f3-4659-ba14-ec9a8105807c',\n",
       "       '1b4a6252-bccc-4df8-8207-0fe8a054cafb',\n",
       "       'b0753a32-7973-434a-9600-472f838a2e49',\n",
       "       'baa2901d-a51c-4a3f-b7a5-8d21b8ef1962',\n",
       "       'b0f85374-3283-42eb-a6ff-4e0e26b7230a',\n",
       "       '57ba0363-1219-4b44-bcc8-6d1c69204b4d',\n",
       "       '436568b5-2ebf-46df-996b-f1a3d11dc952',\n",
       "       '38dd5e2b-bd54-4f71-9d47-9ac156fc53d1',\n",
       "       '93074224-5fec-42ae-b273-057c48d4540e',\n",
       "       '3edbb1b0-2e36-4b4d-9725-4e77ca1d76e4',\n",
       "       '458a5ae3-4069-4f0d-8169-777bbd558e79',\n",
       "       '430950db-4e1c-4554-92b5-935e1fbbf2bf',\n",
       "       '6d640158-279c-4776-82f8-9bedffb70fe0',\n",
       "       'cf1db0af-0af5-42a5-b8b6-d69753885e4d',\n",
       "       '04b21e79-6002-43f3-bd23-4c2dd5b642fe',\n",
       "       'df91d4b1-5e09-4eaf-b48f-74b4722e3843',\n",
       "       '16bee267-dcd3-4863-b02d-cc71e0b2f69c',\n",
       "       '90c2849b-ac8a-425a-bb8e-d5c833a2ec34',\n",
       "       '09602da3-5198-4f62-803c-5c010ce847ff',\n",
       "       '1fcd2c90-b23c-4651-b0e4-1686eef3e817',\n",
       "       'bae275cb-67b1-402a-9b8e-dddb08a0c7e0',\n",
       "       '23ee7b8c-db78-4576-8059-429e5e970d48',\n",
       "       'e336960c-e250-499a-baa7-18ca67657967',\n",
       "       '2ac106e5-cebe-48d4-93c6-bc0ad37da6af',\n",
       "       '80c93ae8-5dab-451e-a76e-af8f2178e6de',\n",
       "       'e02e5f1f-de1e-4aea-b8cc-9482a847fab4',\n",
       "       'dc687411-0d8b-4765-ad4a-5ed5021684c8',\n",
       "       'da5ebf81-7bee-4995-8137-c56ab6221af5',\n",
       "       '66e854f4-4c89-48c0-9f78-d59ee9925b55',\n",
       "       'c66bca9c-8f6e-4a20-8463-01f0caba2a35',\n",
       "       '1a282e3f-879e-4bc1-aa57-4d7a26e783e9',\n",
       "       'e08c860a-4e60-4509-a640-14bb6f57135f',\n",
       "       '5e195d76-0d73-4633-8b39-7456b491f6bd',\n",
       "       '2c7efdb0-b995-4a29-baad-d72d2e53268b',\n",
       "       'd1e22e20-1593-49db-8176-04f2c86502c4',\n",
       "       '5d99da2f-f657-459d-8051-f378126d6c85',\n",
       "       '38d41df6-fdc0-49b1-9d0f-c52b215dcdf4',\n",
       "       '2ed51f85-a082-4441-8fed-3f7c0dace986',\n",
       "       'efae9886-ce24-42bc-b761-9f1283ffcb85',\n",
       "       'ec788bc3-9bb3-4e46-ae1e-231c2f98e1a0',\n",
       "       'b6ec6a84-f614-46f3-950b-71a3ab694775',\n",
       "       '207e1d9c-3b42-4a54-9b26-bcd6d46da51e',\n",
       "       '977c9cac-ed2c-47c9-9458-21b2c4fa9300',\n",
       "       '89488cd7-c39c-49a9-9c50-4cfa8319ca29',\n",
       "       '32d32cc3-a02f-45bf-80fb-6407f1a84780',\n",
       "       '2ba2b960-76ff-48ae-87d4-df69453013e1',\n",
       "       '32fb3ac7-0baf-4c17-9c99-0c87a130fb65',\n",
       "       'bf4b175e-31c5-4101-92a6-4c088642d05d',\n",
       "       '0b7a6251-69bc-4d4f-8a06-56f764807a23',\n",
       "       '02729256-3eb3-46dd-8dc1-fd5fcb07d842',\n",
       "       'a9058359-02fd-4093-bac6-eff9650169f4',\n",
       "       'f0a56170-52d8-44c4-a83e-151e80ac9a67',\n",
       "       'a98c52e5-6250-43d8-ace6-e25e9720f7ec',\n",
       "       'd6afe420-5e15-4f1c-b299-66df3ea063e7',\n",
       "       'f3850fef-bd4d-4c26-abe8-ba921d0ca5b7',\n",
       "       'ca588281-ec7d-4154-8585-6b9b59e7d43c',\n",
       "       'b947fc6e-9d84-4076-9da8-20f76459d735',\n",
       "       '8fb248d8-d20a-4725-ba10-35485a8220d6',\n",
       "       'e16aed23-af8d-4030-add7-96f277e5eebe',\n",
       "       'baa0568d-5dc7-416b-a192-48fc81fc250d',\n",
       "       'b9e2f4a1-632c-41ff-bd82-a90ff5bdef38',\n",
       "       'ede9ca1c-c965-4fb2-aefa-35b68872c2c9',\n",
       "       '8ca52ece-4211-4542-8aed-711e5f4cd08d',\n",
       "       '7c2331da-94ec-4056-ba4d-202deb757fb1',\n",
       "       'dfeb00f0-419c-4fa5-a2e9-e5558c3aac10',\n",
       "       'f584635b-a3f5-42f6-8c66-fd3e67b8bc54',\n",
       "       'd3aeba4d-723f-45cb-b0e4-4d9e0d1e6738',\n",
       "       '8d739b68-4c72-49a7-b816-dada8e5c4f0f',\n",
       "       '6d9f065d-dbe7-45df-908e-5bf01f74c2eb',\n",
       "       '109cec34-4f08-43b7-a704-63954194e182',\n",
       "       '79003b63-7463-4e32-ad4e-7938ce25065a',\n",
       "       'eafa37d7-4f27-46bb-98f9-ea71ed3b0b42',\n",
       "       '8c594054-1065-4e41-92c4-20b31f1c1da6',\n",
       "       'aa54b6f0-23b2-4277-bd06-c509089d252d',\n",
       "       'bc8b52cc-7763-4744-899b-bff6f9e0e3a4',\n",
       "       '216d4e41-1ec8-4aca-8db1-e67c595bf216',\n",
       "       'cff25690-a71e-479a-8309-89c9e3c4f298',\n",
       "       'f554b635-619e-4048-8227-993a1ee2731e',\n",
       "       'a66a3719-3fb8-4fc9-9c6a-a24cb3bd09ad',\n",
       "       '6b087248-bcce-4d83-835b-042271a37bc3',\n",
       "       '9fbaf476-bff4-4617-a42b-0581f7196c5d',\n",
       "       '3068332a-0164-4468-94a4-57c1a0278198',\n",
       "       '931b3769-187c-4867-bdf5-2f60547b75ea',\n",
       "       '495cf388-9d8f-43cd-a6e6-1ffcd0b728ab',\n",
       "       'd87bc775-b9ac-472c-870b-c6aa3ae825e8',\n",
       "       '7fff5d89-667d-4433-a602-d4408abed9b1',\n",
       "       '79f9e3ec-ce20-4447-9cd5-64ca56cc2e4e',\n",
       "       'def408fe-cf2e-4ecc-a129-b27edc616217',\n",
       "       '99487f21-1a68-4d26-8959-0421874da8a5',\n",
       "       '892c6dfc-a986-41d6-bdf8-a31ce80f5ece',\n",
       "       '00f8a2a0-953a-4cca-8a20-370beef6256a',\n",
       "       '51ddd93e-9711-42f9-894d-40b88d6db7cd',\n",
       "       '1ee0fe81-2ca9-4587-961c-cf97511cff82',\n",
       "       '45cb9b45-f643-4057-bd9e-bdd0a242c33f',\n",
       "       'cd30d068-abb9-41d5-bc87-5b2679536e22',\n",
       "       '610a5a9e-1b40-462c-a650-7ae9d7b1bb66',\n",
       "       '71ec3101-3381-4e56-8934-78677ff8b428',\n",
       "       'b5ff64e4-2e05-4845-8ea4-07cf5124daed',\n",
       "       'c6560dea-0b98-4f06-b0cd-e7ec6cbb1170',\n",
       "       '6efed9fe-ac14-4fe5-8375-077fbc73b451',\n",
       "       'eb9f2b23-338d-45df-9789-04ab1c410d8b',\n",
       "       '326bcea7-dd92-456e-abce-04bfb356d9b8',\n",
       "       '800be2a0-6032-4bd8-8cf6-639ae047a02b',\n",
       "       '8f56f6a7-59be-4728-b2f7-1995ba691e10',\n",
       "       'b5f0c67b-ded0-4a78-af1c-9ceee0a9a59e',\n",
       "       '2bcc59ab-3e9b-4fb9-8137-62f022eaead3',\n",
       "       '6d48d500-880b-4636-8566-e3872676ce8e',\n",
       "       '5467082b-79ec-4824-8794-cea80020274f',\n",
       "       '16b643bd-2f5c-4a7c-8fa9-dfd051e216fc',\n",
       "       '2301dcc2-0906-4af3-b596-93e1ba18659b',\n",
       "       '108f72ce-87d8-4a07-8176-31afceec0c15',\n",
       "       '9b4a47be-245f-4195-82fb-495ed4e5918c',\n",
       "       'f9f8ef56-dc6a-4e09-b974-f4640412983b',\n",
       "       '88a37598-255f-4f94-b9d6-301b9e33ac23',\n",
       "       'b349765b-2f73-4286-b14a-945d21cd7cfd',\n",
       "       'ad4cb279-f14a-48e6-90f1-230d911e1b68',\n",
       "       '9ea7fe26-9b5e-4720-ad99-442d4bcb0eb6',\n",
       "       '28119145-4191-4157-b355-5424499933d0',\n",
       "       '2f26e75a-f8d3-4a90-9fdd-106ef8644d77',\n",
       "       'bb4ddb9e-9887-4e19-bf6c-f134eab9d8ce',\n",
       "       '85432fd8-5fdf-407b-8d0a-f4fd1f5c70cc',\n",
       "       '3557fed0-33a5-43d9-983e-eb2f270e041a',\n",
       "       '30dd42e8-8ceb-47f8-b637-29db145c683f',\n",
       "       '7e797467-a6fc-4fc5-b9cd-17c5075765e5',\n",
       "       '00c71e2d-7db8-41c9-bc03-06819e32b91b',\n",
       "       '6190d385-51b6-426a-b191-b5ce71eb01bc',\n",
       "       '48600868-362e-4e73-b3f0-7fdcb5438f4f',\n",
       "       'a890d8b1-81e3-41a2-a222-06823dfb865c',\n",
       "       'f60ca1bd-f92a-4c09-8a52-2ccd81570d97',\n",
       "       'ca7687ad-9aa6-4b76-a4d0-07c07af4a792',\n",
       "       '7f903ef2-052a-44ae-864e-fef8d36d239a',\n",
       "       '2409782c-12fc-47cd-8e1e-7b28164ab3f8',\n",
       "       'd7f9ba5b-56da-4971-895f-b8e2bb337cf6',\n",
       "       'd1c724b6-e201-4085-8a54-e8428fe34d5d',\n",
       "       '766b830f-1850-4fcb-85d3-161b9994f19e',\n",
       "       'b7d0eb7c-9781-4a7b-aa46-e9f1fc6aa73b',\n",
       "       '590c1b2e-b87d-40aa-be86-34431743331a',\n",
       "       'a92f5fe4-b646-432c-ab12-2683f8f64b12',\n",
       "       '693cd228-ac6b-4d38-8a0c-eea00454ad5f',\n",
       "       '1a18d78a-d5cd-49e1-97a6-94ddea72c691',\n",
       "       '75fe4d33-d1c8-4b1d-8ebf-ff79b6111193',\n",
       "       '03e102ae-dd2c-4146-8b6e-b54b9d1c7e5b',\n",
       "       '2603848e-ebf3-4815-ac24-0866f45c816e',\n",
       "       'fcbd78d5-271f-4ff6-9635-7115c7b1ae0b',\n",
       "       '5e3cf78c-0a23-4475-ae07-009fedde432b',\n",
       "       'a2df1c1f-d986-452d-b5f8-1b962d1fdcd0',\n",
       "       '7c1f8508-1ac8-4c58-9a7a-5e4cb4df0d8b',\n",
       "       'ec6d3b74-0bf4-4cce-bd2c-3366a28c429e',\n",
       "       '25ec740f-acb9-4650-897b-7628d7aa5310',\n",
       "       'f655d993-8146-4426-b1dc-5bc94b60b4a2',\n",
       "       'd5c109d8-24d7-4222-b1dc-f0d49692da99',\n",
       "       '18952229-eae2-4083-b75f-8f63f5502432',\n",
       "       'db2e2279-2e53-41b6-aa03-9e1cf1053ced',\n",
       "       'a51f04e7-2fdd-47cb-89b0-1bd742817f5e',\n",
       "       '3768f942-a0f5-418d-b763-c44a05b4eff0',\n",
       "       '46c81f22-1939-44c2-9ee9-bff336ee618d',\n",
       "       'cdbd6d76-fc6a-44e2-8b34-6cad7f5f12e9',\n",
       "       '7500b509-60bb-413c-b97b-b95986c62f1e',\n",
       "       'af10e980-37eb-4650-87ca-5f688d4bf7d5',\n",
       "       'a6dee6a4-2b4a-406e-9c2c-4608cc86c877',\n",
       "       '864e3fcd-d1a5-4d5e-a389-d0c1a54ac1e5',\n",
       "       '00170884-93bb-47c2-a43f-8257c7c88926',\n",
       "       'addf42b4-f61f-4d59-9fae-a27c588ea843',\n",
       "       'a2788a28-3ebb-4f25-b4e5-f8a4ea000584',\n",
       "       'd658a236-966a-421b-a06d-50100d1e4d7d',\n",
       "       'e314ff4e-f3ac-4807-8674-96fb9581b6dd',\n",
       "       'fb859d84-cc64-4233-818d-4db625c6e765',\n",
       "       '8976444e-8486-4b0d-8790-4f47f5465a0d',\n",
       "       '630d52cd-82c8-4c79-ae54-5ed548663f9f',\n",
       "       '8fa02d26-784b-436f-8f38-4931d162d9b6',\n",
       "       'ecb5e4e1-d376-40e2-b8a3-bd38c9ec3ea8',\n",
       "       '38a5e7ab-1b08-4901-a737-2bd85d2e3485',\n",
       "       'd8f71ff2-c834-44a0-9c69-5cc548c6c975',\n",
       "       '74d49e88-f8af-4238-a1a1-72d4b9688094',\n",
       "       '4b7d6666-fdd7-4104-9b5f-e11d47385178',\n",
       "       'd70d64b1-c16c-4794-a019-63516d5a046a',\n",
       "       '85149c46-930a-493e-8ddd-c283f4c9ac75',\n",
       "       '7193b598-2402-4c76-b90b-0cf436c49334',\n",
       "       '782aa5bd-1c5f-47fd-aa51-348003b78e42',\n",
       "       '481990dc-8182-4383-b9ee-a58443127782',\n",
       "       '6792b2f2-ff98-48b9-b8a8-e7553f68a0ae',\n",
       "       'd9baa5f9-dfae-4fe3-beb9-b766ad47095e',\n",
       "       '5a0ed81b-2b10-4ef5-a7d1-570cc3377bd7',\n",
       "       '6fed3d12-8043-41fc-8d7e-6a3741a85624',\n",
       "       'b1b398f9-c086-4b35-af31-0e45f9e77712',\n",
       "       '1ae0b320-8079-4e87-b357-1456c481d2ef',\n",
       "       'da486d1c-d2df-4ac7-841c-04212af8acc4',\n",
       "       '21a91efe-c6c3-42c7-b26a-f03de70805ed',\n",
       "       'cf40d187-5de9-4bdd-baac-662f87db0c05',\n",
       "       '9a384e41-dccd-4ace-8461-3421a3cf2244',\n",
       "       '233c2007-5d33-49cc-96f3-446bc461304e',\n",
       "       '6f871d2a-03fa-4db1-b39b-aae99fbd73ac',\n",
       "       'ad4d9814-448c-4aba-bc5d-5f40a488d212',\n",
       "       '07c5ba22-5c9c-456a-801b-574b560132d0',\n",
       "       'c715cd6c-b229-4f7c-b3dd-0ac4332d38dc',\n",
       "       'f33bea8d-8a12-4bb9-a679-0ebe02ff6200',\n",
       "       '2e0c4d2b-07c4-473a-a188-b68cb501b8f8',\n",
       "       'c3804534-d324-4670-86e1-581b9936eba1',\n",
       "       'a6a8ad96-ea93-4bd4-a983-bc81530c6e37',\n",
       "       'd05697cc-9345-4dfd-af6f-86a3f7586545',\n",
       "       'b1195152-eba4-4bf5-aa40-8d3f8540c426',\n",
       "       '3b632b69-94e0-4abd-8ba0-1652c1bf7230',\n",
       "       'e01d17cd-4782-4b11-b525-c53a459ca2a8',\n",
       "       '81883a7c-3e0d-41f6-bff2-d036c1edb1c9',\n",
       "       'a1708c2b-d001-498c-a176-932f71f518d8',\n",
       "       '000b22b0-47f4-4404-b701-3167dba1cccd',\n",
       "       '5349c2fd-005a-4db1-8b17-57bd47e86d34',\n",
       "       '99807c16-aa6d-45ff-a36c-2b56bad706c1',\n",
       "       '1e35a240-971d-429a-988b-56c5d0150d72',\n",
       "       '89dfc8da-c9b8-4cb3-9b45-7a8a249058fb',\n",
       "       'f1c6919e-c10d-4e21-976e-254e49b36c28',\n",
       "       '02e49952-a98e-492c-b5ae-c78feef8c9fe',\n",
       "       '3f0ed053-a80e-4c7a-82b6-4e84ad0ffc32',\n",
       "       '5f50a017-7237-4f5f-8081-64adfb025cb0',\n",
       "       '05021b57-b6b3-4d02-94f0-5ba5fdd7636f',\n",
       "       'a3fc6118-b9c6-465c-9f6e-21e3ab2797fb',\n",
       "       'b03d07f2-d701-44b9-9d91-7f13d9d645db',\n",
       "       'bf2aaf2d-230e-4d60-a8be-08314642b72f',\n",
       "       '361c0e6b-29dd-49cc-bb0c-cbcee66e391e',\n",
       "       '9f7df9c4-a994-4e18-b02b-52fb63fa1c30',\n",
       "       '7d37f1a0-f749-4bf0-9b82-7ff19aee7537',\n",
       "       '0b0f3cd0-d61b-454e-9a2f-715c1126d461',\n",
       "       '354ef101-5f01-4181-a5a4-0e9afa092cbc',\n",
       "       'a793a7da-9f2f-49f5-90f5-06166dfb3694',\n",
       "       '0014e16a-952c-4c9a-ac8d-b7e62113d440',\n",
       "       'ad253df4-72bf-4496-b304-adb138dd85a3',\n",
       "       'ab4451f9-d462-4b51-94a1-d557be52b418',\n",
       "       '29d9bb3f-917b-4d7c-a803-6336f5390e6c',\n",
       "       '41dd724e-743e-48ee-b2c4-ec6ccf52d201',\n",
       "       'e26674ca-09ff-4246-8524-e53045afac34',\n",
       "       '827621a9-1da6-4926-aa55-90ceb04272e5',\n",
       "       '108992e4-8f44-400c-a01c-63d530478605',\n",
       "       '8c40784f-50e6-48af-b7fc-e62f3a06bcad',\n",
       "       '23991051-060d-4fdf-a703-c12cf259ac00',\n",
       "       'd1fefed3-e14f-4976-8d99-d8c89b1698ba',\n",
       "       'b38a856a-355f-4f1f-969f-c1fbd241ea89',\n",
       "       '8cb262f7-8042-4491-b8f9-de6442380e4c',\n",
       "       '69f98187-e5fa-4cc7-89ee-40269c1e61fc',\n",
       "       '46b707b1-fbc2-4d17-ac45-fb21d296a610',\n",
       "       'aa6056af-dc6c-4755-9591-384340420ac3',\n",
       "       '7e94255d-e329-45b7-90ae-9c4219168f85',\n",
       "       '22bdca92-5076-43cf-89fc-99c563254273',\n",
       "       'a6075994-00aa-4978-ad4d-3955fd88e73d',\n",
       "       'c1f14725-fa2f-49ce-9a91-7ca5a14568f4',\n",
       "       '03fd4fde-c6a0-408e-91e4-e6761db2ab82',\n",
       "       '9e01fe23-d6b7-485e-84ab-94a84c21ac76',\n",
       "       '83b362c9-c67a-4245-96eb-d196596515f3',\n",
       "       'fcad9730-fcd6-4f14-a6be-e4af5058cc42',\n",
       "       '55de48d8-efdb-48e2-b482-98cf997330bd',\n",
       "       '7dafb99e-4c29-4bfc-90b8-d05001f4919d',\n",
       "       'cc92a97e-d458-4e90-bb44-91a37689d0f1',\n",
       "       'e7717e32-3094-45bb-8524-608d90fa1866',\n",
       "       'fabb61a8-f41a-456d-8bba-e934fa5a964f',\n",
       "       '7567b21a-adc7-45de-aa3f-79b897b3fa10',\n",
       "       '696fab52-b619-46cb-b9af-2ef49fb297e8',\n",
       "       '3c4c268a-87e3-4863-bcf0-2c5ba7e0c746',\n",
       "       '470495dc-f76d-4aff-8471-9b52c2aac7a7',\n",
       "       '733cd7c1-4e98-4556-bc87-ac95ab45a515',\n",
       "       '886417c7-565a-4569-9261-4b39652b5161',\n",
       "       'f0bd4a6b-5ce8-441c-a535-ff163539db54',\n",
       "       '5f446a90-1274-49ad-a4f0-f8fdde0015f2',\n",
       "       '0ab1c254-3b6c-4f3d-8d12-62e1c67a63dc',\n",
       "       '21dbcfa5-376a-4bb4-acaf-1c3dc84ef81d',\n",
       "       '98c8e561-0d1d-4144-9905-979019bfc087',\n",
       "       'fdee9f6f-1c4c-4fbf-97ba-3fe5d4ebd3a4',\n",
       "       '17ebb523-f7ec-4a18-8c7a-1c49587c7b1e',\n",
       "       '4391ee18-b72c-4158-83b4-62ddd9142ddc',\n",
       "       '3b3014ea-2d40-425e-b10c-ffcc5d00b6ac',\n",
       "       '6db3572e-4809-49f6-ad71-6f78dc5779e4',\n",
       "       '3d942a1c-d9b2-403c-8163-cd10392f7e84',\n",
       "       '052122fe-2a67-425e-a85d-0f74e4d0eec4',\n",
       "       '88d87a2c-7435-4679-b0de-a97747f2fad1',\n",
       "       'b6516a2a-b702-4974-a439-059696f90d65',\n",
       "       '1ec7298a-b238-48ce-8663-09b78ad5da75',\n",
       "       'e4f8e71f-618a-4892-be79-746f10be96e3',\n",
       "       'e7b13abd-a84a-486c-b34b-3c96a2956b58',\n",
       "       '6457d7f5-fcc5-4110-8157-32489196d823',\n",
       "       '68a51924-3692-4d14-a53e-55d82d5c3038',\n",
       "       'dde25402-54c3-4ecb-8ebd-f71e3a417728',\n",
       "       'fa080995-901d-4e3d-ac6a-3dc021918e86',\n",
       "       'b9c7a794-7a07-43aa-b319-0a5a40f24d0c',\n",
       "       '9d6043af-70eb-4881-a593-0b642268a367',\n",
       "       'a81e74aa-4858-4558-a43f-7eab6dc7d9b1',\n",
       "       'b12d33d2-e905-498e-a428-a98f0ca22308',\n",
       "       '7874f604-be86-4c10-8aeb-778fc4fa60ca',\n",
       "       '476b1f72-3827-47a1-bbd9-1ad8afa4992e',\n",
       "       '98a1d2b0-b02e-4490-9364-970a311f6d7d',\n",
       "       'a3cf7ba5-629d-4d6a-a42b-f2a37ef75823',\n",
       "       '8159c572-adbc-42a9-a948-1b7e93c697b8',\n",
       "       '8e995d18-16b4-4659-8c8b-602f94df1091',\n",
       "       '10099ef5-b7aa-47ab-9c5b-c07909213648',\n",
       "       '56f6e3f6-a643-425e-9711-989c31d6157a',\n",
       "       '7b049536-ec77-4a56-8479-b91bc2d4c351',\n",
       "       'a010011b-568f-4798-940d-f9ffc4f09bac',\n",
       "       '0ae717a4-cd79-4221-8f8e-405a0e89fb24',\n",
       "       'dd48702e-1604-4221-bbbe-d80bc9ebb172',\n",
       "       '24fb0359-612e-4166-9e55-cc110895ccac',\n",
       "       'd497d82e-afc6-48db-a545-c1d810d02ff8',\n",
       "       '7f046e13-c550-4d07-b402-073956e053d3',\n",
       "       '2b13ce4b-8ed2-4879-803f-a7c75bb6879f',\n",
       "       '55e2217b-6868-4a5f-acec-b56ef9b0a195',\n",
       "       '13dd60ab-a5df-4984-a635-721da7e91e72',\n",
       "       'b60b0c17-7129-4362-b6e6-ee2babe4a229',\n",
       "       'b884778c-4dd7-43ef-9330-e2bd458903e0',\n",
       "       '98f39ad1-b3ae-48a4-8e5c-1d46a581bf8c',\n",
       "       'fd85e783-6132-4092-a4a7-3f39b5ed9676',\n",
       "       '0e4b3f4c-01b2-489e-abb9-34d34e37abef',\n",
       "       'd2015a82-c103-495e-bb03-ff61615b1bd4',\n",
       "       'ebb03b40-751f-42d8-aad6-bc940738a774',\n",
       "       '19015146-f407-45b4-ae98-29fc76c36b65',\n",
       "       'edaec4ab-a50b-407a-9018-b9dbc065324b',\n",
       "       '98f92f24-733b-4896-877a-5994b4ef9887',\n",
       "       '1b663979-c646-4122-9924-252d8be6f676',\n",
       "       '92717212-ed4b-47d8-b164-ca64432a9123',\n",
       "       'cb48eb61-e261-48b7-bdb6-c173c0082753',\n",
       "       'c8a1de6c-1987-4851-83a3-e936f59c2b51',\n",
       "       '9260d49b-2cd5-458d-8bc0-abb2d5180cb9',\n",
       "       '5b06307f-92fa-4138-9f53-7bcf2d6de655',\n",
       "       '8c36ac9c-bc0a-4ca3-bb18-35d25551959a',\n",
       "       '82f40ab3-4aba-426e-8d74-d454779c5a12',\n",
       "       '3e6dca93-8728-48f1-9076-7d8b71852a1c',\n",
       "       'a7bd9455-4791-42b9-ba3e-442ce3d8f840',\n",
       "       '695124a6-ca1d-4110-ac37-fd324ab67f0c',\n",
       "       '1bc51673-f679-41b7-91da-9bfe3b93dc70',\n",
       "       'e6b62163-fdd8-4b0e-a526-eb631aae93e2',\n",
       "       'f999a7ab-902e-467e-8d44-b433d8e804cf',\n",
       "       '4c3519d0-d2bc-41c5-9a5f-7e22875797f3',\n",
       "       '0d414771-e0bc-4642-a5cb-dc1d3b3204d0',\n",
       "       '224bc713-2cb3-4e00-a26e-569f3cbd8e8d',\n",
       "       '500459ed-ac68-47d9-852c-68508bbfdc4a',\n",
       "       '41446cdf-1f2f-4127-87a6-665c0cdf07ed',\n",
       "       '4faf328c-a232-4f04-b5c2-26e49418da55',\n",
       "       '42af1bff-8c9c-40b2-b8df-4ecddae2088e',\n",
       "       'b058ee64-1a08-4bfe-abd6-6e35b40cf230',\n",
       "       '4739cde3-84e3-4392-af7c-49396a7b471d',\n",
       "       'bb6c62b5-4073-4925-b11a-63e19b82bdc5',\n",
       "       '5de296a4-2204-4548-947f-ecd63530d575',\n",
       "       '5df0c169-a8e0-43b7-875b-2da755fbe53b',\n",
       "       'c960c517-05b1-42b5-87aa-f659188bdf71',\n",
       "       '89ee2e5b-96be-44e9-a2dc-e8c6169a87cb',\n",
       "       '884417eb-5bca-4205-9b50-575124c35006',\n",
       "       '6a54ada8-b1fc-481d-aad4-db3aaf5f0d8a',\n",
       "       '7f1a6f49-536e-48e7-811e-ee58c39b57e1',\n",
       "       'c09eddc5-6d91-455b-861b-5a0cb42b27a9',\n",
       "       '42203d8f-f589-4184-83c4-6c49fbbd7168',\n",
       "       '24c0965a-cbfe-401b-8e7c-f50fe467d633',\n",
       "       '21869e74-2465-403c-85c3-74fdfb1e82d8',\n",
       "       '66614cd3-0282-4853-82b4-6cda958a0653',\n",
       "       '13961e1e-80e2-419e-a3e5-66c4d9e47914',\n",
       "       '969c3504-a011-4d91-a6d7-c07697ca91cf',\n",
       "       '3def1aeb-4089-4812-ab03-d537304c3d3c',\n",
       "       '6f635f14-d001-44e2-b2f0-d24450619bd1',\n",
       "       '3c250164-4a34-47ee-919d-6a8a294d3604',\n",
       "       '66961560-0adf-45f9-b84d-74325f8b0b42',\n",
       "       '2f08b0bc-73b9-4adb-8ffd-8702b5a6bfc0',\n",
       "       'b2780238-9427-457c-87e8-5d7877574284',\n",
       "       '58fbc13c-a524-4e95-8238-97113478022c',\n",
       "       'cb7cb063-43c0-4242-84cf-83037c3592b3',\n",
       "       'b6e89bdf-f1b7-4458-87c0-4d520ca65302',\n",
       "       'ab6a98ee-551b-4bbd-be06-ca3cd0376900',\n",
       "       'b84217ba-bc3e-4ed0-8f69-a705a989f07a',\n",
       "       'a4a524bd-a6f9-4761-a470-c2d136331ad0',\n",
       "       'a65bd33b-0262-442b-9bb5-1d1216b02947',\n",
       "       '42bff6fb-a1f7-4aa4-ae7e-ecffeee70eae',\n",
       "       '90c72c35-07d5-44d6-9be4-3ea622cc069b',\n",
       "       'b33781f1-eac3-45bc-8548-ada921074aa8',\n",
       "       '52024fb3-98c9-4543-8d5b-821348d43bb2',\n",
       "       '827f4d33-d943-4cd3-ab11-3591be1d4417',\n",
       "       'fa2d2486-314b-4ab6-9e40-434fdb991b13',\n",
       "       'd2d32e38-72b3-44fb-9a88-18fb94bd4ee8',\n",
       "       '743e9442-6f4f-4add-a655-df9923f6193b',\n",
       "       'b4d7286b-39f8-48bb-8d80-355f82a3c5cb',\n",
       "       '8b895680-3292-4dc7-a536-6ee69538239a',\n",
       "       '00aa931f-8276-4e6c-bae9-075b60950962',\n",
       "       'f21f5c96-cb58-47d5-82d7-9ad025bbbf03',\n",
       "       'a03ec4dd-6c64-4a5c-992d-66efc880d285',\n",
       "       '1488079c-84c1-4c02-810a-82c4df8d949b',\n",
       "       '57e20a18-3c10-47ce-9a9b-fc4a416fd7f8',\n",
       "       '74ebe970-ccf3-49c9-8fa6-7fef742d340a',\n",
       "       'cfc4e5fa-d8b9-4c2a-b2c3-dce97cc7a2a8',\n",
       "       'ca9b9fd3-d575-47e0-abca-a220901d126c',\n",
       "       '2d8ca56c-ec9d-40da-84f0-75cb16b0d504',\n",
       "       'e29356b0-94d8-4ee6-8603-055c72495b19',\n",
       "       'c7a74fb8-dfed-46ae-a55f-7cdc6c5e7bf8',\n",
       "       'd337b3d2-de68-4cf1-893a-53805aa52c9e',\n",
       "       '9fb47f8b-74b8-4ecb-b32c-8e14da358129',\n",
       "       '58bb28ff-0ba7-459d-97b6-e3a701b30027',\n",
       "       '2155b16c-1a09-468e-a024-35ccf2779562',\n",
       "       '6507f8f8-39eb-45c3-a3dc-c40cea45e169',\n",
       "       '57ad76b2-6688-4170-b908-daaf44685cf7',\n",
       "       'ecc5e204-bc54-4628-8a40-49b0f6e3a2e9',\n",
       "       '9a374bad-feab-4549-84af-4e9ca62cf1c3',\n",
       "       'dde17f7b-1039-404c-8a13-813ff94ec006',\n",
       "       'f23a360f-8366-471c-b689-7774f4f00eb2',\n",
       "       'c5b5f9de-f746-4399-90ba-5cb91519e344',\n",
       "       '0b9956e6-1a6c-404e-bc6f-499ec88c0488',\n",
       "       '9d298dab-42e8-4ee4-8d8d-b03761ac364f',\n",
       "       '159b833e-eb5b-44bd-aff7-19f5effe0aa7',\n",
       "       '9f267a25-76ef-4c38-91b3-1d4bccf66dec',\n",
       "       'd5db0105-f642-42ef-a620-1cec135913d3',\n",
       "       '07e85a24-7582-4f0a-ab63-0afd41416b26',\n",
       "       'eb8ef863-25de-4317-9829-72faf3d50928',\n",
       "       '6dbf2bbd-58df-401b-9e73-8809fe64ba36',\n",
       "       'df3f9c8d-65e5-4569-a59f-5d439c050bfc',\n",
       "       'fb14649f-4344-4283-a2cc-1fd54f7d6474',\n",
       "       '11de25e3-7fd2-4289-b2e9-0b728e189fe8',\n",
       "       '6e791bd0-f652-4670-9f80-3e93aa37d8b2',\n",
       "       '864ba65e-936a-4c4e-9f88-043a22660f6c',\n",
       "       '524f0827-f4da-4187-a427-97c922075d45',\n",
       "       '78e0eaa4-1e2e-45f9-936f-045b8a2c7bb2',\n",
       "       'f007d00f-3f47-41e4-8d25-90caa6bbb653',\n",
       "       'c2693679-fcb6-482b-af15-cdf3a4060c5e',\n",
       "       '19ff0b8c-4414-4fcb-bcc0-b6d116ca7889',\n",
       "       '3ed7b314-d658-4ddb-b019-cb4e6d2c97a7',\n",
       "       'bb6fb417-5e8d-48b6-9dab-7d7a26b95dfa',\n",
       "       'b883a130-0ff5-443d-86ca-601ae973e80f',\n",
       "       '88f34c0c-7f16-49cd-84cb-f1e151be83e2',\n",
       "       '8a3b6cb0-b9c4-4dc4-a7fa-f3bdd93b46f9',\n",
       "       '589a7ccc-98d7-4852-b360-9aa9097ddeef',\n",
       "       'f282b19e-d947-469e-9eb2-655556a2cf4d',\n",
       "       '14686a7a-d017-47be-8f14-ef49c0da57fa',\n",
       "       '108d1791-ed98-42ec-adae-53d040026293',\n",
       "       'dea4a57e-c781-4ae1-b2e5-b793dd21124b',\n",
       "       '1b7cb878-70f1-4cae-9bdd-bf6a724f0143',\n",
       "       '1acb8c8e-57a0-468e-b566-3d3efdbaa78e',\n",
       "       'f686b60c-9a56-473d-9d75-ab565fb6037a',\n",
       "       '5cacc831-576b-4b78-8cfd-fb16ce142820',\n",
       "       '306dab88-db87-4e88-adb6-11dfdff53894',\n",
       "       '17c0b9fa-ca07-49da-843a-ad443ed7e7d3',\n",
       "       '0e2f367f-f180-4f8c-ad84-d554e93712d2',\n",
       "       '7a66240f-1d32-47fc-bc14-33b7d03e9814',\n",
       "       'a2f64df1-df35-4a5d-a176-bde98ae6e89a',\n",
       "       '569a9a29-5acc-4104-9277-67e8d57b3f46',\n",
       "       'aad2449b-fc6d-4f63-b010-ea3d8e6be8ab',\n",
       "       'dd2767f7-9804-4df7-840c-3bd78c45f9e1',\n",
       "       'ba32ebd9-604a-4a41-84fd-0a62afb287a1',\n",
       "       'e9934d1a-d1aa-42ba-8633-8bb46c7dd8c1',\n",
       "       '758bfa2c-672a-4ea5-bd68-153aef74eb2a',\n",
       "       '8f766a22-7d0e-4e1d-9bfd-cf141ca4c9c9',\n",
       "       '381bcdc4-f2b5-4c77-b245-3ffbab53c11e',\n",
       "       '242c58a4-d460-40b5-990b-d46b75cd9a1e',\n",
       "       '82aada5d-fc8a-4017-b24d-7f98b48567c5',\n",
       "       '174983c1-4deb-40ab-b6d3-13fe98a71c34',\n",
       "       'd963b6a4-0514-4ab2-8539-9ffb393dbb87',\n",
       "       'f01721a3-48e3-41d4-bae7-49c092100e19',\n",
       "       'e5246cd6-3ce4-49e9-84cc-09e45f4be5d3',\n",
       "       '2e62d95d-1ea1-4a4f-b1c6-e57b8c2ec7b8',\n",
       "       '596a7023-3372-4d28-a35b-9aaea52c3993',\n",
       "       'dfcfb59d-1d3f-4c82-8b88-964d37ddae58',\n",
       "       '9f0bb254-2e1e-43f1-914d-3a4a0374b0d3',\n",
       "       '1cf854e5-8d34-4302-8f30-0e8115da49a6',\n",
       "       '645efba1-d211-41cf-a2a6-4b8d29d3093f',\n",
       "       '3ac3b1a8-1a72-468b-ba18-a2dbb946476e',\n",
       "       'b13c8245-46c4-41cb-b2e8-514cfb41720f',\n",
       "       '2f04eee9-fa61-4b75-8e98-516aa8e5f20b',\n",
       "       'eb50be01-f17b-4686-b558-7b61aa725a91',\n",
       "       'f2b86027-e7a8-4e2f-bb4e-9137905e9f8b',\n",
       "       '2ba0b3be-849a-4bf3-a3a5-7aa89b29446e',\n",
       "       '55ed4c52-4fbc-4f45-9d2e-666b0c32df17',\n",
       "       '3063e328-9e0d-4ac7-b576-af47b6c453fa',\n",
       "       'f8780457-167b-4ccf-a482-29554c379e94',\n",
       "       '9022ffa2-84f8-40b2-a0fd-d96ac3c36b0b',\n",
       "       '91be3bd1-bddf-4404-af09-c3ff344ad5e4',\n",
       "       'cd3552c1-d9dc-49cd-a82b-548df7929e7e',\n",
       "       '84a4db3d-829f-4e24-9b4e-c9755df48869',\n",
       "       '4b7cbb9e-5283-45c1-9393-a2e7c9ab31e4',\n",
       "       '2b572ee6-9294-42e0-8b00-2efada80e5a8',\n",
       "       'd81df575-7f56-4484-b737-b8dea7fff840',\n",
       "       '12b06f0d-17b1-4953-9d2a-0230f731ae9c',\n",
       "       '5429ae1a-2309-4f0a-bf1e-30548e127553',\n",
       "       'dae5019c-64e2-4d55-b786-a3802cfd2946',\n",
       "       '03a4c83f-5ac2-4aa9-9ecd-8bc0a54fb6d9',\n",
       "       'a3d4128f-0d34-4e36-b1c2-fb6ed3424703',\n",
       "       '8badcaba-24bc-4532-a9c0-2f1cb765c4ea',\n",
       "       'c5cb14e8-7e62-4129-a7a5-198494f27154',\n",
       "       '28114cc8-3e65-456c-a3d4-c0a4f7c43903',\n",
       "       '5f6defb4-4b21-4d22-8a76-d952437f28d8',\n",
       "       'eff6bed7-79ca-4c0c-a7ac-c7fec9619526',\n",
       "       'c2d815ca-091c-42fc-b97f-b6f64167bc56',\n",
       "       '1aa33f11-7310-4ca8-809f-b9ff28b8ac78',\n",
       "       '21701a26-b297-4b85-a240-aa06fb13d2ee',\n",
       "       'a293b842-cd6f-4d85-986b-fb149f16f688',\n",
       "       '921b934d-773d-4453-b23d-23cbc4b73d77',\n",
       "       '0aee8b10-d804-4848-97ba-e1b562edf6d8',\n",
       "       'bd2ca950-6860-4f1a-8170-52c55676d829',\n",
       "       'c778eeb8-d1c4-49f5-af2c-4bfcffccb988',\n",
       "       'f7d8950d-1c84-4f88-b7f4-92c9e42d626a',\n",
       "       'd839429b-8e1f-4cb6-b64c-cc20cfb57a4c',\n",
       "       'd56dcf3d-6ab5-45f7-b490-5127f37f8ee2',\n",
       "       'b445664e-b4cc-4386-bb28-d9774cf2baa9',\n",
       "       '325f9ba3-b345-4c94-979c-6246a55c8a67',\n",
       "       'f3e2e364-5121-43be-8c09-c94ba15172b6',\n",
       "       '042535b3-9f19-4422-a81e-c5561c60cfc6',\n",
       "       '6f6cd62c-cc2e-43ba-812b-11d7a277db75',\n",
       "       '297298bd-1091-4da3-8a62-c44c174ba6ca',\n",
       "       '88eb49d8-e1d1-45d6-849b-1f68b651e6b4',\n",
       "       'd58ad9ea-2cfa-4f32-bc10-2157f5146878',\n",
       "       '77e5e7bf-13d0-4169-8021-243d8dd88206',\n",
       "       'fd2e0fee-829c-40ec-a8d5-b6f1ad219c4f',\n",
       "       'e9c99cfb-fa39-4613-bc64-fa94282a033c',\n",
       "       '74374c79-1604-45c7-bc8b-cb897e138e75',\n",
       "       '17880300-370e-4fc1-850e-5c9218e51dda',\n",
       "       '0bd301d3-433d-4c76-bda8-ab819089a307',\n",
       "       '071d3545-027f-439d-9f89-852580f25ef0',\n",
       "       'c835239a-91af-4f8e-ba4c-96eee22d4692',\n",
       "       '15156e0e-9614-439c-b3b2-a9cf8ffe55fe',\n",
       "       '4583ecf0-f5ee-42f0-9704-22bc98165cbf',\n",
       "       '0e17f154-8c7e-4dbd-a29c-447314cd0144',\n",
       "       'a136e955-41cd-432c-8117-b4d0d643c1f9',\n",
       "       '5468beeb-5004-427d-84d3-b5464697e4a1',\n",
       "       '24694d1f-b53f-4dca-bca9-0de19afa2582',\n",
       "       '841497c7-15d9-460d-a1a2-5d41d54ecb98',\n",
       "       '6fa33dfa-e356-4d06-9263-2a31b49e80ec',\n",
       "       '55a45f73-1d33-4c5b-8379-19b31f12e450',\n",
       "       '83a14429-16c7-48c9-97b2-3a740f2f235e',\n",
       "       '30eda36d-32c5-4452-8d78-6657e656054c',\n",
       "       '6d84c81a-61b5-4e85-a2c9-8fcedf5a2b10',\n",
       "       '87575bcc-16ae-432d-9f41-5dda0829d8d6',\n",
       "       '55a38466-fe3d-46aa-b33c-7bdf17e326ca',\n",
       "       '79c6eef6-3cd7-4af3-aad3-da839875663e',\n",
       "       'ed98ecbf-2f6f-42cf-8980-01e9237f03ca',\n",
       "       '7b17f305-4d3b-43ac-b31a-4e59393a585b',\n",
       "       'c4c22431-9a55-488f-9c19-6894ab6032b6',\n",
       "       'f3e6b649-c48d-46fe-bcf6-62f7d7470ec8',\n",
       "       'eb604f73-4745-4192-827e-ade22e7f3066',\n",
       "       '1182eb46-f802-4dcf-ba92-b84b59a103e9',\n",
       "       '69682a35-51a0-403e-b325-ff8bd47ea5a0',\n",
       "       '7ae7b427-6157-4830-b14f-2138b3d1ef72',\n",
       "       '79135081-faff-4fc7-9b16-d68e58d43c57',\n",
       "       'd1e976a5-fe48-400f-9dcb-454781939dc0',\n",
       "       '1effdc18-a36d-4535-8ab6-fa5c42650240',\n",
       "       '3d991796-cbf6-4474-a170-7cc4c4bef830',\n",
       "       '16d56890-802a-445c-8edb-b7c5f689b992',\n",
       "       '98092e35-463c-4869-a3b5-2d2beb28cdd7',\n",
       "       '251f7e7c-f1be-49a2-9048-0a4e38cdcd32',\n",
       "       'be93dfec-389a-4450-af70-e13a67a19ff6',\n",
       "       '4b25b117-176e-4502-9b64-31beb80cfa87',\n",
       "       '2db7648b-4c21-4b50-98b3-9a50f759542d',\n",
       "       'e9ba6264-a642-4c01-8550-d2200f6f1d3f',\n",
       "       'c52f24b1-34fc-48ca-a4fb-627a4cda0365',\n",
       "       'd8bd94bd-b536-47b3-8257-40b878789f00',\n",
       "       '12f91443-959a-43bc-9658-3be98f9738a5',\n",
       "       '2ea1a871-f001-4abd-9a6c-3aeeb94579d3',\n",
       "       '1458d748-084d-4276-908d-69c4dfdcf41b',\n",
       "       '04642fa4-3baa-43e2-9169-3c6591df1354',\n",
       "       '6cd7c606-2a8a-4abb-bd84-92166492e075',\n",
       "       'eed74986-6423-4f46-832e-6d0a5e3c400d',\n",
       "       'b76c5009-eaef-4b02-a1c3-ac23b5a6e29e',\n",
       "       'a233b657-5fe2-4dee-89d2-c82d7813020f',\n",
       "       'aef8760b-3929-4d84-8528-0dee7808ce78',\n",
       "       '75c1aa7e-b199-4b3f-9a0e-af004f84861e',\n",
       "       '33f75895-95c7-4a8c-9413-ff500e5e0cab',\n",
       "       '07a34207-047e-4d77-97af-20286ad65c82',\n",
       "       '79cf5a5b-1db4-47c7-b12a-925467cd8a54',\n",
       "       '8ef5e77d-f931-4c5b-8173-93365c049e48',\n",
       "       'df0c5607-c1a8-4852-80b2-0298b2e791a1',\n",
       "       'a3e94faf-2d76-42d1-802e-1ce1af7aeb53',\n",
       "       '7746c5a0-97d6-440a-b165-7702a996a8b8',\n",
       "       'a9ce454a-d391-4575-b221-641a6e06cadf',\n",
       "       'a39de9ac-1321-47b8-a492-f859d969b846',\n",
       "       '6fe03ceb-01b7-4c29-8ea5-4391d1821d1e',\n",
       "       'bf10b95d-32e8-4116-a8e7-edb5fdc044a7',\n",
       "       '882f52ac-dba1-457d-b890-4b3f60d5acb2',\n",
       "       '32affc96-108f-4faa-996a-c3f79cebd9ae',\n",
       "       '9b783fb3-b4b9-4b3f-abe8-278925019e97',\n",
       "       '296f0911-6e4d-49c7-ad97-015f72c28b71',\n",
       "       '6db8adc8-c7a6-4d33-ac5b-46b8a28217df',\n",
       "       '611c69d3-b767-42ee-ae79-d28ea23a31cf',\n",
       "       'e3868745-5b8f-45a3-bc65-d66aa03289fe',\n",
       "       '0e28b647-4ef1-4cb1-835a-99613c35e03c',\n",
       "       'de906bd9-4e37-41aa-9896-ab2a9fcf5df7',\n",
       "       'b861fadb-fcbf-4a6b-ab7f-487e13df403f',\n",
       "       '644f5d68-92d4-46ad-981c-cf3ad7911765',\n",
       "       '67e1cd6c-fcb1-4a61-8895-b09f7de89235',\n",
       "       'e48a1c29-eb2a-4b79-a7df-2af409ee22d4',\n",
       "       'ae9861d1-2b6e-4d9f-b409-b038a5042c16',\n",
       "       '9f70c478-de52-4f73-b103-ca0eee51f56b',\n",
       "       'a08d5df1-47fc-4968-b026-968dbe5b6bc9',\n",
       "       '9c678b9e-3763-441f-b83c-7603ea771a2d',\n",
       "       'aa99cc91-9307-4bd2-a050-87216f91d455',\n",
       "       '777ce64a-61c8-4809-92d8-cc7d36ac4f91',\n",
       "       'ce502cd2-06f1-463a-9ee9-34d3d07b1c55',\n",
       "       '7c82f3f5-c6fc-46da-b413-5f8657d87dc7',\n",
       "       'a08425cd-9113-4396-a116-91a9637a1a3b',\n",
       "       '94a06c9f-237a-429a-80e9-4abb8361ec25',\n",
       "       'c31cafba-45e9-445e-baca-48efa98a2c91',\n",
       "       '3f741ab4-8e5e-4fbc-8fad-abd27085448e',\n",
       "       '91065aad-9c47-4238-b326-92877f71b857',\n",
       "       '1fdc452f-6ee7-47c1-b679-57304bce3152',\n",
       "       '98377677-40a1-48c7-a3a8-b82ca065ec16',\n",
       "       '2f73b4b1-88a1-47bf-82c8-a29f48e326c7',\n",
       "       'ceb68079-4273-482b-ab60-c922c8e9f78c',\n",
       "       '2cae7b43-7646-4988-b825-b1d57b7dd401'], dtype='<U36')"
      ]
     },
     "execution_count": 55,
     "metadata": {},
     "output_type": "execute_result"
    }
   ],
   "source": [
    "#Alternatively, you can do this to find all of the IDs with a max value\n",
    "max_gpa = gpas.max()\n",
    "max_gpa_ids = ids[gpas == max_gpa]\n",
    "max_gpa_ids"
   ]
  },
  {
   "cell_type": "markdown",
   "metadata": {},
   "source": [
    "What percent of students have a 4.0?\n",
    "\n",
    "There are two ways."
   ]
  },
  {
   "cell_type": "code",
   "execution_count": 56,
   "metadata": {},
   "outputs": [
    {
     "data": {
      "text/plain": [
       "0.0654"
      ]
     },
     "execution_count": 56,
     "metadata": {},
     "output_type": "execute_result"
    }
   ],
   "source": [
    "len(max_gpa_ids) / len(students)"
   ]
  },
  {
   "cell_type": "code",
   "execution_count": 57,
   "metadata": {},
   "outputs": [
    {
     "data": {
      "text/plain": [
       "0.0654"
      ]
     },
     "execution_count": 57,
     "metadata": {},
     "output_type": "execute_result"
    }
   ],
   "source": [
    "(gpas == max_gpa).mean() #True's can be autocast as 1.0 and False's can be autocast as 0.0"
   ]
  },
  {
   "cell_type": "markdown",
   "metadata": {},
   "source": [
    "##### Numpy built-in scientific helper Objects\n",
    "\n",
    "Numpy has several built-in Objects that help with your analyses. There are WAY too many to cover, but here are a few that you may find yourself using.\n",
    "\n",
    "##### Native Math functions"
   ]
  },
  {
   "cell_type": "code",
   "execution_count": 58,
   "metadata": {},
   "outputs": [
    {
     "data": {
      "text/plain": [
       "5.0"
      ]
     },
     "execution_count": 58,
     "metadata": {},
     "output_type": "execute_result"
    }
   ],
   "source": [
    "#Square root\n",
    "np.sqrt(25)"
   ]
  },
  {
   "cell_type": "code",
   "execution_count": 59,
   "metadata": {},
   "outputs": [
    {
     "data": {
      "text/plain": [
       "2.995732273553991"
      ]
     },
     "execution_count": 59,
     "metadata": {},
     "output_type": "execute_result"
    }
   ],
   "source": [
    "#Base e logarithm\n",
    "np.log(20)"
   ]
  },
  {
   "cell_type": "code",
   "execution_count": 60,
   "metadata": {},
   "outputs": [
    {
     "data": {
      "text/plain": [
       "1.3010299956639813"
      ]
     },
     "execution_count": 60,
     "metadata": {},
     "output_type": "execute_result"
    }
   ],
   "source": [
    "#Base 10 logarithm\n",
    "np.log10(20)"
   ]
  },
  {
   "cell_type": "code",
   "execution_count": 61,
   "metadata": {},
   "outputs": [
    {
     "data": {
      "text/plain": [
       "1.301029995663981"
      ]
     },
     "execution_count": 61,
     "metadata": {},
     "output_type": "execute_result"
    }
   ],
   "source": [
    "#Base n logarithm\n",
    "n = 10\n",
    "np.log(20) / np.log(n)"
   ]
  },
  {
   "cell_type": "code",
   "execution_count": 62,
   "metadata": {},
   "outputs": [
    {
     "data": {
      "text/plain": [
       "array([ 1,  4,  9, 16, 25, 36, 49, 64, 81])"
      ]
     },
     "execution_count": 62,
     "metadata": {},
     "output_type": "execute_result"
    }
   ],
   "source": [
    "squares = np.array([i**2 for i in range(1,10)])\n",
    "squares"
   ]
  },
  {
   "cell_type": "code",
   "execution_count": 63,
   "metadata": {},
   "outputs": [
    {
     "data": {
      "text/plain": [
       "array([1., 2., 3., 4., 5., 6., 7., 8., 9.])"
      ]
     },
     "execution_count": 63,
     "metadata": {},
     "output_type": "execute_result"
    }
   ],
   "source": [
    "#As we showed before, we can vectorize mathematical operations\n",
    "np.sqrt(squares)"
   ]
  },
  {
   "cell_type": "code",
   "execution_count": 64,
   "metadata": {},
   "outputs": [
    {
     "data": {
      "text/plain": [
       "array([0.        , 1.38629436, 2.19722458, 2.77258872, 3.21887582,\n",
       "       3.58351894, 3.8918203 , 4.15888308, 4.39444915])"
      ]
     },
     "execution_count": 64,
     "metadata": {},
     "output_type": "execute_result"
    }
   ],
   "source": [
    "np.log(squares)"
   ]
  },
  {
   "cell_type": "markdown",
   "metadata": {},
   "source": [
    "##### Random Number Generator and Sampler"
   ]
  },
  {
   "cell_type": "code",
   "execution_count": 65,
   "metadata": {},
   "outputs": [
    {
     "data": {
      "text/plain": [
       "array([60, 36, 57, 50, 87, 90, 63, 71, 41, 15])"
      ]
     },
     "execution_count": 65,
     "metadata": {},
     "output_type": "execute_result"
    }
   ],
   "source": [
    "np.random.randint(1,100,size=10)"
   ]
  },
  {
   "cell_type": "code",
   "execution_count": 66,
   "metadata": {},
   "outputs": [
    {
     "data": {
      "text/plain": [
       "array([0.57618648, 0.61020781, 0.25649117, 0.06070109, 0.5438586 ,\n",
       "       0.96589935, 0.30048617, 0.95570261, 0.39798286, 0.05638088])"
      ]
     },
     "execution_count": 66,
     "metadata": {},
     "output_type": "execute_result"
    }
   ],
   "source": [
    "np.random.random(size=10)"
   ]
  },
  {
   "cell_type": "code",
   "execution_count": 67,
   "metadata": {},
   "outputs": [
    {
     "data": {
      "text/plain": [
       "array([2.90285679, 1.40545779, 9.4832202 , 1.97975768, 2.34419616,\n",
       "       5.65221295, 5.61556918, 6.52002614, 3.77583904, 5.16654763])"
      ]
     },
     "execution_count": 67,
     "metadata": {},
     "output_type": "execute_result"
    }
   ],
   "source": [
    "np.random.random(size=10) * 10"
   ]
  },
  {
   "cell_type": "code",
   "execution_count": 68,
   "metadata": {},
   "outputs": [
    {
     "data": {
      "text/plain": [
       "array([ 1.38565065,  0.69318036,  1.54080356, -0.58210496,  1.50552311,\n",
       "        0.72335224,  1.7283337 ,  1.65015739,  1.29118943,  2.0077785 ])"
      ]
     },
     "execution_count": 68,
     "metadata": {},
     "output_type": "execute_result"
    }
   ],
   "source": [
    "np.random.normal(1,.5, size=10)"
   ]
  },
  {
   "cell_type": "code",
   "execution_count": 69,
   "metadata": {},
   "outputs": [],
   "source": [
    "lots_of_numbers = np.arange(1,10000) #Equivalent of native range() function"
   ]
  },
  {
   "cell_type": "code",
   "execution_count": 70,
   "metadata": {},
   "outputs": [
    {
     "data": {
      "text/plain": [
       "array([2309, 9126, 1836, 3912, 3645,  850,  801, 7876, 4218, 9546])"
      ]
     },
     "execution_count": 70,
     "metadata": {},
     "output_type": "execute_result"
    }
   ],
   "source": [
    "random_sample = np.random.choice(lots_of_numbers, size=10)\n",
    "random_sample"
   ]
  },
  {
   "cell_type": "code",
   "execution_count": 71,
   "metadata": {},
   "outputs": [
    {
     "data": {
      "text/plain": [
       "array(['Economics', 'Economics', 'Physics', 'Math', 'Physics',\n",
       "       'Economics', 'Physics', 'Physics', 'Math', 'Math', 'Physics',\n",
       "       'Physics', 'Math', 'Economics', 'Physics', 'Math', 'Economics',\n",
       "       'Economics', 'Economics', 'Math', 'Physics', 'Physics', 'Physics',\n",
       "       'Economics', 'Physics', 'Physics', 'Physics', 'Math', 'Physics',\n",
       "       'Physics', 'Physics', 'Physics', 'Math', 'Physics', 'Math',\n",
       "       'Physics', 'Math', 'Physics', 'Math', 'Physics', 'Math', 'Math',\n",
       "       'Physics', 'Math', 'Physics', 'Economics', 'Math', 'Math',\n",
       "       'Physics', 'Economics', 'Math', 'Physics', 'Economics',\n",
       "       'Economics', 'Physics', 'Math', 'Economics', 'Math', 'Physics',\n",
       "       'Economics', 'Physics', 'Physics', 'Economics', 'Math',\n",
       "       'Economics', 'Math', 'Physics', 'Physics', 'Physics', 'Physics',\n",
       "       'Economics', 'Physics', 'Physics', 'Physics', 'Physics', 'Math',\n",
       "       'Physics', 'Math', 'Physics', 'Physics', 'Math', 'Physics', 'Math',\n",
       "       'Math', 'Math', 'Economics', 'Math', 'Economics', 'Physics',\n",
       "       'Economics', 'Economics', 'Physics', 'Math', 'Physics', 'Physics',\n",
       "       'Physics', 'Math', 'Physics', 'Economics', 'Physics', 'Physics',\n",
       "       'Physics', 'Physics', 'Math', 'Math', 'Physics', 'Physics', 'Math',\n",
       "       'Economics', 'Physics', 'Physics', 'Math', 'Physics', 'Math',\n",
       "       'Physics', 'Economics', 'Math', 'Physics', 'Math', 'Economics',\n",
       "       'Physics', 'Economics', 'Economics', 'Physics', 'Physics', 'Math',\n",
       "       'Physics', 'Physics', 'Physics', 'Physics', 'Physics', 'Physics',\n",
       "       'Physics', 'Physics', 'Physics', 'Physics', 'Math', 'Math',\n",
       "       'Physics', 'Physics', 'Physics', 'Physics', 'Economics', 'Math',\n",
       "       'Physics', 'Math', 'Physics', 'Physics', 'Physics', 'Economics',\n",
       "       'Physics', 'Physics', 'Math', 'Economics', 'Math', 'Math',\n",
       "       'Physics', 'Physics', 'Math', 'Economics', 'Physics', 'Math',\n",
       "       'Physics', 'Math', 'Physics', 'Math', 'Physics', 'Economics',\n",
       "       'Physics', 'Economics', 'Physics', 'Physics', 'Economics',\n",
       "       'Economics', 'Math', 'Economics', 'Math', 'Math', 'Physics',\n",
       "       'Physics', 'Physics', 'Physics', 'Physics', 'Physics', 'Physics',\n",
       "       'Physics', 'Math', 'Physics', 'Physics', 'Math', 'Math', 'Math',\n",
       "       'Economics', 'Math', 'Physics', 'Math', 'Physics', 'Physics',\n",
       "       'Physics', 'Physics', 'Physics', 'Physics', 'Physics', 'Math',\n",
       "       'Math', 'Economics', 'Economics', 'Physics', 'Economics', 'Math',\n",
       "       'Math', 'Math', 'Economics', 'Physics', 'Physics', 'Math',\n",
       "       'Physics', 'Math', 'Physics', 'Economics', 'Physics', 'Physics',\n",
       "       'Math', 'Physics', 'Economics', 'Physics', 'Physics', 'Math',\n",
       "       'Physics', 'Physics', 'Math', 'Physics', 'Physics', 'Economics',\n",
       "       'Physics', 'Math', 'Physics', 'Physics', 'Economics', 'Physics',\n",
       "       'Math', 'Physics', 'Math', 'Physics', 'Physics', 'Physics',\n",
       "       'Economics', 'Economics', 'Math', 'Math', 'Physics', 'Physics',\n",
       "       'Physics', 'Math', 'Math', 'Math', 'Math', 'Economics',\n",
       "       'Economics', 'Economics', 'Physics', 'Economics', 'Physics',\n",
       "       'Physics', 'Physics', 'Economics', 'Physics', 'Physics', 'Physics',\n",
       "       'Math', 'Math', 'Physics', 'Economics', 'Math', 'Math', 'Physics',\n",
       "       'Math', 'Math', 'Physics', 'Math', 'Math', 'Economics', 'Math',\n",
       "       'Physics', 'Math', 'Physics', 'Physics', 'Math', 'Physics',\n",
       "       'Economics', 'Physics', 'Physics', 'Math', 'Math', 'Math',\n",
       "       'Physics', 'Economics', 'Physics', 'Math', 'Physics', 'Math',\n",
       "       'Math', 'Math', 'Physics', 'Economics', 'Economics', 'Economics',\n",
       "       'Economics', 'Economics', 'Physics', 'Physics', 'Physics',\n",
       "       'Physics', 'Physics', 'Physics', 'Physics', 'Math', 'Math',\n",
       "       'Physics', 'Physics', 'Physics', 'Physics', 'Economics', 'Physics',\n",
       "       'Physics', 'Physics', 'Physics', 'Economics', 'Math', 'Physics',\n",
       "       'Math', 'Economics', 'Physics', 'Physics', 'Physics', 'Physics',\n",
       "       'Math', 'Physics', 'Math', 'Economics', 'Physics', 'Physics',\n",
       "       'Economics', 'Math', 'Economics', 'Physics', 'Physics', 'Physics',\n",
       "       'Physics', 'Physics', 'Math', 'Math', 'Math', 'Economics', 'Math',\n",
       "       'Physics', 'Economics', 'Physics', 'Math', 'Math', 'Math',\n",
       "       'Economics', 'Physics', 'Physics', 'Math', 'Physics', 'Math',\n",
       "       'Math', 'Physics', 'Physics', 'Physics', 'Physics', 'Economics',\n",
       "       'Physics', 'Physics', 'Physics', 'Physics', 'Physics', 'Economics',\n",
       "       'Economics', 'Math', 'Physics', 'Economics', 'Physics', 'Math',\n",
       "       'Physics', 'Physics', 'Math', 'Physics', 'Economics', 'Physics',\n",
       "       'Economics', 'Physics', 'Math', 'Math', 'Physics', 'Math',\n",
       "       'Physics', 'Physics', 'Math', 'Economics', 'Physics', 'Physics',\n",
       "       'Math', 'Physics', 'Economics', 'Physics', 'Economics', 'Math',\n",
       "       'Physics', 'Math', 'Physics', 'Physics', 'Economics', 'Physics',\n",
       "       'Physics', 'Math', 'Physics', 'Physics', 'Math', 'Math', 'Math',\n",
       "       'Math', 'Math', 'Math', 'Economics', 'Math', 'Economics', 'Math',\n",
       "       'Physics', 'Economics', 'Math', 'Physics', 'Physics', 'Math',\n",
       "       'Math', 'Physics', 'Math', 'Physics', 'Physics', 'Math', 'Physics',\n",
       "       'Math', 'Economics', 'Math', 'Physics', 'Math', 'Physics',\n",
       "       'Physics', 'Math', 'Math', 'Physics', 'Physics', 'Math', 'Physics',\n",
       "       'Physics', 'Physics', 'Math', 'Physics', 'Math', 'Math', 'Math',\n",
       "       'Physics', 'Math', 'Math', 'Economics', 'Physics', 'Math', 'Math',\n",
       "       'Physics', 'Physics', 'Economics', 'Economics', 'Math', 'Physics',\n",
       "       'Physics', 'Math', 'Physics', 'Physics', 'Physics', 'Economics',\n",
       "       'Physics', 'Math', 'Math', 'Economics', 'Math', 'Physics', 'Math',\n",
       "       'Math', 'Physics', 'Physics', 'Physics', 'Economics', 'Physics',\n",
       "       'Physics', 'Physics', 'Economics', 'Physics', 'Math', 'Physics',\n",
       "       'Economics', 'Math', 'Physics', 'Math', 'Math', 'Physics', 'Math',\n",
       "       'Physics', 'Physics', 'Math', 'Physics', 'Economics', 'Physics',\n",
       "       'Economics', 'Physics', 'Math', 'Math', 'Math', 'Math', 'Physics',\n",
       "       'Math', 'Economics', 'Economics', 'Math', 'Physics', 'Physics',\n",
       "       'Math', 'Physics', 'Physics', 'Math', 'Math', 'Math', 'Physics',\n",
       "       'Physics', 'Economics', 'Physics', 'Physics', 'Math', 'Economics',\n",
       "       'Physics', 'Physics', 'Economics', 'Physics', 'Math', 'Economics',\n",
       "       'Math', 'Physics', 'Physics', 'Physics', 'Physics', 'Math',\n",
       "       'Physics', 'Math', 'Physics', 'Economics', 'Physics', 'Physics',\n",
       "       'Math', 'Math', 'Physics', 'Math', 'Math', 'Physics', 'Math',\n",
       "       'Math', 'Physics', 'Physics', 'Math', 'Math', 'Physics', 'Physics',\n",
       "       'Math', 'Physics', 'Physics', 'Economics', 'Physics', 'Math',\n",
       "       'Physics', 'Economics', 'Physics', 'Economics', 'Economics',\n",
       "       'Economics', 'Economics', 'Math', 'Math', 'Physics', 'Math',\n",
       "       'Physics', 'Physics', 'Physics', 'Math', 'Physics', 'Physics',\n",
       "       'Math', 'Math', 'Physics', 'Math', 'Math', 'Economics', 'Physics',\n",
       "       'Physics', 'Physics', 'Math', 'Math', 'Math', 'Physics',\n",
       "       'Economics', 'Math', 'Physics', 'Physics', 'Math', 'Math',\n",
       "       'Economics', 'Physics', 'Physics', 'Economics', 'Math', 'Physics',\n",
       "       'Physics', 'Physics', 'Physics', 'Physics', 'Physics', 'Physics',\n",
       "       'Economics', 'Physics', 'Physics', 'Economics', 'Economics',\n",
       "       'Math', 'Physics', 'Economics', 'Physics', 'Economics', 'Physics',\n",
       "       'Physics', 'Physics', 'Physics', 'Physics', 'Physics', 'Physics',\n",
       "       'Physics', 'Math', 'Physics', 'Economics', 'Math', 'Math',\n",
       "       'Physics', 'Physics', 'Math', 'Physics', 'Physics', 'Physics',\n",
       "       'Physics', 'Physics', 'Economics', 'Physics', 'Economics',\n",
       "       'Economics', 'Math', 'Math', 'Economics', 'Economics', 'Physics',\n",
       "       'Math', 'Economics', 'Physics', 'Physics', 'Physics', 'Economics',\n",
       "       'Physics', 'Physics', 'Physics', 'Physics', 'Physics', 'Math',\n",
       "       'Economics', 'Physics', 'Math', 'Economics', 'Math', 'Physics',\n",
       "       'Math', 'Physics', 'Physics', 'Math', 'Economics', 'Physics',\n",
       "       'Math', 'Economics', 'Economics', 'Physics', 'Math', 'Physics',\n",
       "       'Physics', 'Math', 'Physics', 'Physics', 'Economics', 'Economics',\n",
       "       'Math', 'Physics', 'Math', 'Economics', 'Math', 'Physics',\n",
       "       'Physics', 'Economics', 'Economics', 'Physics', 'Economics',\n",
       "       'Math', 'Math', 'Physics', 'Physics', 'Math', 'Physics',\n",
       "       'Economics', 'Physics', 'Economics', 'Math', 'Economics', 'Math',\n",
       "       'Math', 'Math', 'Math', 'Math', 'Physics', 'Math', 'Physics',\n",
       "       'Physics', 'Physics', 'Math', 'Physics', 'Physics', 'Physics',\n",
       "       'Economics', 'Physics', 'Math', 'Physics', 'Math', 'Economics',\n",
       "       'Economics', 'Physics', 'Math', 'Physics', 'Physics', 'Math',\n",
       "       'Economics', 'Physics', 'Physics', 'Economics', 'Math',\n",
       "       'Economics', 'Math', 'Physics', 'Physics', 'Math', 'Physics',\n",
       "       'Physics', 'Economics', 'Economics', 'Math', 'Physics', 'Math',\n",
       "       'Physics', 'Physics', 'Physics', 'Physics', 'Math', 'Physics',\n",
       "       'Math', 'Math', 'Physics', 'Physics', 'Physics', 'Physics', 'Math',\n",
       "       'Physics', 'Physics', 'Math', 'Math', 'Physics', 'Economics',\n",
       "       'Physics', 'Physics', 'Math', 'Physics', 'Economics', 'Physics',\n",
       "       'Physics', 'Economics', 'Physics', 'Math', 'Math', 'Physics',\n",
       "       'Economics', 'Physics', 'Math', 'Physics', 'Economics',\n",
       "       'Economics', 'Physics', 'Math', 'Economics', 'Economics', 'Math',\n",
       "       'Economics', 'Physics', 'Math', 'Physics', 'Physics', 'Math',\n",
       "       'Math', 'Math', 'Math', 'Economics', 'Math', 'Math', 'Physics',\n",
       "       'Math', 'Physics', 'Physics', 'Math', 'Math', 'Physics', 'Physics',\n",
       "       'Economics', 'Math', 'Physics', 'Physics', 'Economics', 'Math',\n",
       "       'Math', 'Economics', 'Math', 'Math', 'Physics', 'Physics',\n",
       "       'Physics', 'Physics', 'Economics', 'Physics', 'Physics', 'Physics',\n",
       "       'Physics', 'Economics', 'Physics', 'Physics', 'Physics', 'Math',\n",
       "       'Physics', 'Math', 'Math', 'Economics', 'Math', 'Physics', 'Math',\n",
       "       'Math', 'Math', 'Math', 'Physics', 'Economics', 'Economics',\n",
       "       'Physics', 'Economics', 'Math', 'Physics', 'Physics', 'Math',\n",
       "       'Physics', 'Math', 'Math', 'Physics', 'Physics', 'Physics', 'Math',\n",
       "       'Math', 'Physics', 'Physics', 'Economics', 'Physics', 'Physics',\n",
       "       'Physics', 'Physics', 'Physics', 'Physics', 'Physics', 'Math',\n",
       "       'Math', 'Economics', 'Physics', 'Economics', 'Physics', 'Physics',\n",
       "       'Math', 'Math', 'Economics', 'Physics', 'Economics', 'Math',\n",
       "       'Economics', 'Math', 'Math', 'Physics', 'Physics', 'Math',\n",
       "       'Physics', 'Physics', 'Economics', 'Economics', 'Physics', 'Math',\n",
       "       'Math', 'Economics', 'Math', 'Math', 'Math', 'Economics',\n",
       "       'Physics', 'Economics', 'Economics', 'Math', 'Math', 'Economics',\n",
       "       'Math', 'Physics', 'Physics', 'Physics', 'Physics', 'Math',\n",
       "       'Physics', 'Physics', 'Math', 'Economics', 'Math', 'Physics',\n",
       "       'Economics', 'Physics', 'Math', 'Math', 'Physics', 'Economics',\n",
       "       'Physics', 'Physics', 'Math', 'Math', 'Physics', 'Physics',\n",
       "       'Physics', 'Physics', 'Physics', 'Physics', 'Math', 'Physics',\n",
       "       'Physics', 'Physics', 'Physics', 'Physics', 'Physics', 'Math',\n",
       "       'Physics', 'Physics', 'Math', 'Math', 'Economics', 'Math',\n",
       "       'Physics', 'Math', 'Math', 'Economics', 'Math', 'Physics', 'Math',\n",
       "       'Physics', 'Math', 'Physics', 'Economics', 'Physics', 'Physics',\n",
       "       'Physics', 'Math', 'Economics', 'Economics', 'Physics',\n",
       "       'Economics', 'Math', 'Physics', 'Math', 'Economics', 'Physics',\n",
       "       'Physics', 'Economics', 'Economics', 'Physics', 'Math', 'Math',\n",
       "       'Physics', 'Math'], dtype='<U9')"
      ]
     },
     "execution_count": 71,
     "metadata": {},
     "output_type": "execute_result"
    }
   ],
   "source": [
    "majors = ['Economics', 'Physics', 'Math']\n",
    "lots_of_majors = np.random.choice(majors, p=[.2,.5,.3], size=1000)\n",
    "lots_of_majors"
   ]
  },
  {
   "cell_type": "code",
   "execution_count": 72,
   "metadata": {},
   "outputs": [],
   "source": [
    "#How many Physics majors did we get?\n"
   ]
  },
  {
   "cell_type": "markdown",
   "metadata": {},
   "source": [
    "### Intro to Pandas\n",
    "Pandas is going to be your best friend for the rest of your time analyzing data in Python. It offers much of the functionality of Numpy, but with a MUCH more user-friendly way of displaying and accessing data.\n",
    "\n",
    "The two fundamental data structures of Pandas are the Series and the DataFrame. A Series can be viewed as equivalent to a Numpy array, while a DataFrame can be viewed as a combination of Series, with some additional functionality.\n",
    "\n",
    "Let's start by opening a file using Pandas built-in method."
   ]
  },
  {
   "cell_type": "code",
   "execution_count": 73,
   "metadata": {},
   "outputs": [],
   "source": [
    "import pandas as pd\n",
    "students_df = pd.read_csv('students.csv')"
   ]
  },
  {
   "cell_type": "code",
   "execution_count": 74,
   "metadata": {},
   "outputs": [
    {
     "data": {
      "text/html": [
       "<div>\n",
       "<style scoped>\n",
       "    .dataframe tbody tr th:only-of-type {\n",
       "        vertical-align: middle;\n",
       "    }\n",
       "\n",
       "    .dataframe tbody tr th {\n",
       "        vertical-align: top;\n",
       "    }\n",
       "\n",
       "    .dataframe thead th {\n",
       "        text-align: right;\n",
       "    }\n",
       "</style>\n",
       "<table border=\"1\" class=\"dataframe\">\n",
       "  <thead>\n",
       "    <tr style=\"text-align: right;\">\n",
       "      <th></th>\n",
       "      <th>student_id</th>\n",
       "      <th>first</th>\n",
       "      <th>last</th>\n",
       "      <th>gender</th>\n",
       "      <th>class</th>\n",
       "      <th>major</th>\n",
       "      <th>gpa</th>\n",
       "    </tr>\n",
       "  </thead>\n",
       "  <tbody>\n",
       "    <tr>\n",
       "      <th>0</th>\n",
       "      <td>5a397209-3782-4764-a285-10fae807ee71</td>\n",
       "      <td>Janis</td>\n",
       "      <td>Brown</td>\n",
       "      <td>Female</td>\n",
       "      <td>Junior</td>\n",
       "      <td>Economics</td>\n",
       "      <td>3.12</td>\n",
       "    </tr>\n",
       "    <tr>\n",
       "      <th>1</th>\n",
       "      <td>e26c3d69-3c74-49b6-81d7-47232787fad9</td>\n",
       "      <td>Timothy</td>\n",
       "      <td>Bishop</td>\n",
       "      <td>Male</td>\n",
       "      <td>Sophomore</td>\n",
       "      <td>Economics</td>\n",
       "      <td>3.48</td>\n",
       "    </tr>\n",
       "    <tr>\n",
       "      <th>2</th>\n",
       "      <td>975c1581-5ba2-430c-a3d1-01ce03bd83f9</td>\n",
       "      <td>Elizabeth</td>\n",
       "      <td>Owens</td>\n",
       "      <td>Female</td>\n",
       "      <td>Freshman</td>\n",
       "      <td>Finance</td>\n",
       "      <td>3.40</td>\n",
       "    </tr>\n",
       "    <tr>\n",
       "      <th>3</th>\n",
       "      <td>6081f91d-365c-46ce-ad1b-38af120781d9</td>\n",
       "      <td>Edward</td>\n",
       "      <td>Pearson</td>\n",
       "      <td>Male</td>\n",
       "      <td>Freshman</td>\n",
       "      <td>Math</td>\n",
       "      <td>3.84</td>\n",
       "    </tr>\n",
       "    <tr>\n",
       "      <th>4</th>\n",
       "      <td>84cec8f4-0b64-44ce-a628-c0eb73f6ca6f</td>\n",
       "      <td>Lisa</td>\n",
       "      <td>Gonzalez</td>\n",
       "      <td>Female</td>\n",
       "      <td>Junior</td>\n",
       "      <td>Finance</td>\n",
       "      <td>4.00</td>\n",
       "    </tr>\n",
       "  </tbody>\n",
       "</table>\n",
       "</div>"
      ],
      "text/plain": [
       "                             student_id      first      last  gender  \\\n",
       "0  5a397209-3782-4764-a285-10fae807ee71      Janis     Brown  Female   \n",
       "1  e26c3d69-3c74-49b6-81d7-47232787fad9    Timothy    Bishop    Male   \n",
       "2  975c1581-5ba2-430c-a3d1-01ce03bd83f9  Elizabeth     Owens  Female   \n",
       "3  6081f91d-365c-46ce-ad1b-38af120781d9     Edward   Pearson    Male   \n",
       "4  84cec8f4-0b64-44ce-a628-c0eb73f6ca6f       Lisa  Gonzalez  Female   \n",
       "\n",
       "       class      major   gpa  \n",
       "0     Junior  Economics  3.12  \n",
       "1  Sophomore  Economics  3.48  \n",
       "2   Freshman    Finance  3.40  \n",
       "3   Freshman       Math  3.84  \n",
       "4     Junior    Finance  4.00  "
      ]
     },
     "execution_count": 74,
     "metadata": {},
     "output_type": "execute_result"
    }
   ],
   "source": [
    "#Let's look at the first few records of the students DataFrame\n",
    "students_df.head()"
   ]
  },
  {
   "cell_type": "markdown",
   "metadata": {},
   "source": [
    "##### Accessing data in DataFrame"
   ]
  },
  {
   "cell_type": "code",
   "execution_count": 75,
   "metadata": {},
   "outputs": [],
   "source": [
    "students_first_names = students_df['first'] #Returns a Series object"
   ]
  },
  {
   "cell_type": "code",
   "execution_count": 76,
   "metadata": {},
   "outputs": [
    {
     "data": {
      "text/plain": [
       "0        Janis\n",
       "1      Timothy\n",
       "2    Elizabeth\n",
       "3       Edward\n",
       "4         Lisa\n",
       "5     Alphonse\n",
       "6      Linwood\n",
       "7       Arthur\n",
       "8       Daniel\n",
       "9        Barry\n",
       "Name: first, dtype: object"
      ]
     },
     "execution_count": 76,
     "metadata": {},
     "output_type": "execute_result"
    }
   ],
   "source": [
    "students_first_names.head(10)"
   ]
  },
  {
   "cell_type": "code",
   "execution_count": 77,
   "metadata": {},
   "outputs": [
    {
     "data": {
      "text/plain": [
       "0    Robert\n",
       "dtype: object"
      ]
     },
     "execution_count": 77,
     "metadata": {},
     "output_type": "execute_result"
    }
   ],
   "source": [
    "students_first_names.mode()"
   ]
  },
  {
   "cell_type": "code",
   "execution_count": null,
   "metadata": {},
   "outputs": [],
   "source": []
  },
  {
   "cell_type": "code",
   "execution_count": null,
   "metadata": {},
   "outputs": [],
   "source": []
  },
  {
   "cell_type": "code",
   "execution_count": null,
   "metadata": {},
   "outputs": [],
   "source": []
  },
  {
   "cell_type": "code",
   "execution_count": null,
   "metadata": {
    "collapsed": true
   },
   "outputs": [],
   "source": []
  },
  {
   "cell_type": "code",
   "execution_count": null,
   "metadata": {
    "collapsed": true
   },
   "outputs": [],
   "source": []
  },
  {
   "cell_type": "code",
   "execution_count": null,
   "metadata": {
    "collapsed": true
   },
   "outputs": [],
   "source": []
  }
 ],
 "metadata": {
  "anaconda-cloud": {},
  "kernelspec": {
   "display_name": "Python 3",
   "language": "python",
   "name": "python3"
  },
  "language_info": {
   "codemirror_mode": {
    "name": "ipython",
    "version": 3
   },
   "file_extension": ".py",
   "mimetype": "text/x-python",
   "name": "python",
   "nbconvert_exporter": "python",
   "pygments_lexer": "ipython3",
   "version": "3.7.0"
  }
 },
 "nbformat": 4,
 "nbformat_minor": 1
}
