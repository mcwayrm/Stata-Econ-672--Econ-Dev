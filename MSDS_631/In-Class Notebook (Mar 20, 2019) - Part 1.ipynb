{
 "cells": [
  {
   "cell_type": "markdown",
   "metadata": {},
   "source": [
    "# MSDS 631 - Lecture 8 (March 20, 2019)\n",
    "\n",
    "## Combining Data in Pandas"
   ]
  },
  {
   "cell_type": "markdown",
   "metadata": {},
   "source": [
    "### Merging Data\n",
    "\n",
    "Merging data is one of the most powerful tools in Pandas. If you've learned SQL before, then you'll be familiar with a lot of these concepts. Merging allows us to match data from different DataFrames.\n",
    "\n",
    "Using the students data, imagine we are trying to \"standardize\" the students GPAs. For those of you unfamiliar with standardization, it is measuring the number of standard deviations away from the mean that a value is.\n",
    "\n",
    "Since each major has a slightly different level of difficulty and each class has a different composition of student talent, we want to compare each student's GPA against the values for their major and class. Let's do that now."
   ]
  },
  {
   "cell_type": "code",
   "execution_count": 46,
   "metadata": {},
   "outputs": [],
   "source": [
    "import pandas as pd\n",
    "students_df = pd.read_csv('students.csv')"
   ]
  },
  {
   "cell_type": "code",
   "execution_count": 47,
   "metadata": {},
   "outputs": [
    {
     "data": {
      "text/html": [
       "<div>\n",
       "<style scoped>\n",
       "    .dataframe tbody tr th:only-of-type {\n",
       "        vertical-align: middle;\n",
       "    }\n",
       "\n",
       "    .dataframe tbody tr th {\n",
       "        vertical-align: top;\n",
       "    }\n",
       "\n",
       "    .dataframe thead th {\n",
       "        text-align: right;\n",
       "    }\n",
       "</style>\n",
       "<table border=\"1\" class=\"dataframe\">\n",
       "  <thead>\n",
       "    <tr style=\"text-align: right;\">\n",
       "      <th></th>\n",
       "      <th>student_id</th>\n",
       "      <th>first</th>\n",
       "      <th>last</th>\n",
       "      <th>gender</th>\n",
       "      <th>class</th>\n",
       "      <th>major</th>\n",
       "      <th>gpa</th>\n",
       "    </tr>\n",
       "  </thead>\n",
       "  <tbody>\n",
       "    <tr>\n",
       "      <th>0</th>\n",
       "      <td>5a397209-3782-4764-a285-10fae807ee71</td>\n",
       "      <td>Janis</td>\n",
       "      <td>Brown</td>\n",
       "      <td>Female</td>\n",
       "      <td>Junior</td>\n",
       "      <td>Economics</td>\n",
       "      <td>3.12</td>\n",
       "    </tr>\n",
       "    <tr>\n",
       "      <th>1</th>\n",
       "      <td>e26c3d69-3c74-49b6-81d7-47232787fad9</td>\n",
       "      <td>Timothy</td>\n",
       "      <td>Bishop</td>\n",
       "      <td>Male</td>\n",
       "      <td>Sophomore</td>\n",
       "      <td>Economics</td>\n",
       "      <td>3.48</td>\n",
       "    </tr>\n",
       "    <tr>\n",
       "      <th>2</th>\n",
       "      <td>975c1581-5ba2-430c-a3d1-01ce03bd83f9</td>\n",
       "      <td>Elizabeth</td>\n",
       "      <td>Owens</td>\n",
       "      <td>Female</td>\n",
       "      <td>Freshman</td>\n",
       "      <td>Finance</td>\n",
       "      <td>3.40</td>\n",
       "    </tr>\n",
       "    <tr>\n",
       "      <th>3</th>\n",
       "      <td>6081f91d-365c-46ce-ad1b-38af120781d9</td>\n",
       "      <td>Edward</td>\n",
       "      <td>Pearson</td>\n",
       "      <td>Male</td>\n",
       "      <td>Freshman</td>\n",
       "      <td>Math</td>\n",
       "      <td>3.84</td>\n",
       "    </tr>\n",
       "    <tr>\n",
       "      <th>4</th>\n",
       "      <td>84cec8f4-0b64-44ce-a628-c0eb73f6ca6f</td>\n",
       "      <td>Lisa</td>\n",
       "      <td>Gonzalez</td>\n",
       "      <td>Female</td>\n",
       "      <td>Junior</td>\n",
       "      <td>Finance</td>\n",
       "      <td>4.00</td>\n",
       "    </tr>\n",
       "  </tbody>\n",
       "</table>\n",
       "</div>"
      ],
      "text/plain": [
       "                             student_id      first      last  gender  \\\n",
       "0  5a397209-3782-4764-a285-10fae807ee71      Janis     Brown  Female   \n",
       "1  e26c3d69-3c74-49b6-81d7-47232787fad9    Timothy    Bishop    Male   \n",
       "2  975c1581-5ba2-430c-a3d1-01ce03bd83f9  Elizabeth     Owens  Female   \n",
       "3  6081f91d-365c-46ce-ad1b-38af120781d9     Edward   Pearson    Male   \n",
       "4  84cec8f4-0b64-44ce-a628-c0eb73f6ca6f       Lisa  Gonzalez  Female   \n",
       "\n",
       "       class      major   gpa  \n",
       "0     Junior  Economics  3.12  \n",
       "1  Sophomore  Economics  3.48  \n",
       "2   Freshman    Finance  3.40  \n",
       "3   Freshman       Math  3.84  \n",
       "4     Junior    Finance  4.00  "
      ]
     },
     "execution_count": 47,
     "metadata": {},
     "output_type": "execute_result"
    }
   ],
   "source": [
    "students_df.head()"
   ]
  },
  {
   "cell_type": "code",
   "execution_count": 48,
   "metadata": {},
   "outputs": [],
   "source": [
    "mean_gpa_by_major_and_class = students_df.groupby(['major', 'class'])[['gpa']].mean()\n",
    "std_gpa_by_major_and_class = students_df.groupby(['major', 'class'])[['gpa']].std()                                                                     "
   ]
  },
  {
   "cell_type": "code",
   "execution_count": 49,
   "metadata": {},
   "outputs": [
    {
     "data": {
      "text/plain": [
       "3.4765645514223205"
      ]
     },
     "execution_count": 49,
     "metadata": {},
     "output_type": "execute_result"
    }
   ],
   "source": [
    "mean_gpa_by_major_and_class.loc[('Economics', 'Junior')]['gpa'] #What does this do again? #where are we explicitly shown std"
   ]
  },
  {
   "cell_type": "code",
   "execution_count": 50,
   "metadata": {},
   "outputs": [],
   "source": [
    "major_and_class = mean_gpa_by_major_and_class = mean_gpa_by_major_and_class.rename(columns={'gpa':'mean_gpa'})"
   ]
  },
  {
   "cell_type": "code",
   "execution_count": 51,
   "metadata": {
    "scrolled": true
   },
   "outputs": [
    {
     "data": {
      "text/html": [
       "<div>\n",
       "<style scoped>\n",
       "    .dataframe tbody tr th:only-of-type {\n",
       "        vertical-align: middle;\n",
       "    }\n",
       "\n",
       "    .dataframe tbody tr th {\n",
       "        vertical-align: top;\n",
       "    }\n",
       "\n",
       "    .dataframe thead th {\n",
       "        text-align: right;\n",
       "    }\n",
       "</style>\n",
       "<table border=\"1\" class=\"dataframe\">\n",
       "  <thead>\n",
       "    <tr style=\"text-align: right;\">\n",
       "      <th></th>\n",
       "      <th></th>\n",
       "      <th>mean_gpa</th>\n",
       "    </tr>\n",
       "    <tr>\n",
       "      <th>major</th>\n",
       "      <th>class</th>\n",
       "      <th></th>\n",
       "    </tr>\n",
       "  </thead>\n",
       "  <tbody>\n",
       "    <tr>\n",
       "      <th rowspan=\"4\" valign=\"top\">Chemistry</th>\n",
       "      <th>Freshman</th>\n",
       "      <td>3.353288</td>\n",
       "    </tr>\n",
       "    <tr>\n",
       "      <th>Junior</th>\n",
       "      <td>3.379573</td>\n",
       "    </tr>\n",
       "    <tr>\n",
       "      <th>Senior</th>\n",
       "      <td>3.364355</td>\n",
       "    </tr>\n",
       "    <tr>\n",
       "      <th>Sophomore</th>\n",
       "      <td>3.341518</td>\n",
       "    </tr>\n",
       "    <tr>\n",
       "      <th>Economics</th>\n",
       "      <th>Freshman</th>\n",
       "      <td>3.492404</td>\n",
       "    </tr>\n",
       "  </tbody>\n",
       "</table>\n",
       "</div>"
      ],
      "text/plain": [
       "                     mean_gpa\n",
       "major     class              \n",
       "Chemistry Freshman   3.353288\n",
       "          Junior     3.379573\n",
       "          Senior     3.364355\n",
       "          Sophomore  3.341518\n",
       "Economics Freshman   3.492404"
      ]
     },
     "execution_count": 51,
     "metadata": {},
     "output_type": "execute_result"
    }
   ],
   "source": [
    "mean_gpa_by_major_and_class.head()"
   ]
  },
  {
   "cell_type": "code",
   "execution_count": 52,
   "metadata": {},
   "outputs": [
    {
     "data": {
      "text/html": [
       "<div>\n",
       "<style scoped>\n",
       "    .dataframe tbody tr th:only-of-type {\n",
       "        vertical-align: middle;\n",
       "    }\n",
       "\n",
       "    .dataframe tbody tr th {\n",
       "        vertical-align: top;\n",
       "    }\n",
       "\n",
       "    .dataframe thead th {\n",
       "        text-align: right;\n",
       "    }\n",
       "</style>\n",
       "<table border=\"1\" class=\"dataframe\">\n",
       "  <thead>\n",
       "    <tr style=\"text-align: right;\">\n",
       "      <th></th>\n",
       "      <th></th>\n",
       "      <th>gpa</th>\n",
       "    </tr>\n",
       "    <tr>\n",
       "      <th>major</th>\n",
       "      <th>class</th>\n",
       "      <th></th>\n",
       "    </tr>\n",
       "  </thead>\n",
       "  <tbody>\n",
       "    <tr>\n",
       "      <th rowspan=\"4\" valign=\"top\">Chemistry</th>\n",
       "      <th>Freshman</th>\n",
       "      <td>0.326013</td>\n",
       "    </tr>\n",
       "    <tr>\n",
       "      <th>Junior</th>\n",
       "      <td>0.313071</td>\n",
       "    </tr>\n",
       "    <tr>\n",
       "      <th>Senior</th>\n",
       "      <td>0.317976</td>\n",
       "    </tr>\n",
       "    <tr>\n",
       "      <th>Sophomore</th>\n",
       "      <td>0.341938</td>\n",
       "    </tr>\n",
       "    <tr>\n",
       "      <th>Economics</th>\n",
       "      <th>Freshman</th>\n",
       "      <td>0.329126</td>\n",
       "    </tr>\n",
       "  </tbody>\n",
       "</table>\n",
       "</div>"
      ],
      "text/plain": [
       "                          gpa\n",
       "major     class              \n",
       "Chemistry Freshman   0.326013\n",
       "          Junior     0.313071\n",
       "          Senior     0.317976\n",
       "          Sophomore  0.341938\n",
       "Economics Freshman   0.329126"
      ]
     },
     "execution_count": 52,
     "metadata": {},
     "output_type": "execute_result"
    }
   ],
   "source": [
    "std_gpa_by_major_and_class.head()"
   ]
  },
  {
   "cell_type": "code",
   "execution_count": null,
   "metadata": {},
   "outputs": [],
   "source": []
  },
  {
   "cell_type": "code",
   "execution_count": null,
   "metadata": {},
   "outputs": [],
   "source": []
  },
  {
   "cell_type": "code",
   "execution_count": 53,
   "metadata": {},
   "outputs": [
    {
     "name": "stderr",
     "output_type": "stream",
     "text": [
      "/Users/ayoellis/anaconda3/lib/python3.7/site-packages/ipykernel_launcher.py:2: UserWarning: Pandas doesn't allow columns to be created via a new attribute name - see https://pandas.pydata.org/pandas-docs/stable/indexing.html#attribute-access\n",
      "  \n"
     ]
    }
   ],
   "source": [
    "#Need to rename column since they share the same name - method 1\n",
    "mean_gpa_by_major_and_class.colums = ['mean_gpa']\n",
    "std_gpa_by_major_and_class.columns = ['std_gpa']"
   ]
  },
  {
   "cell_type": "code",
   "execution_count": 54,
   "metadata": {},
   "outputs": [],
   "source": [
    "#Method 2 for renaming columns\n",
    "#Note this method RETURNS the new dataframe\n",
    "mean_gpa_by_major_and_class = mean_gpa_by_major_and_class.rename(columns={'gpa':'mean_gpa'})\n",
    "std_gpa_by_major_and_class = std_gpa_by_major_and_class.rename(columns={'gpa':'std_gpa'})"
   ]
  },
  {
   "cell_type": "code",
   "execution_count": 55,
   "metadata": {},
   "outputs": [
    {
     "data": {
      "text/html": [
       "<div>\n",
       "<style scoped>\n",
       "    .dataframe tbody tr th:only-of-type {\n",
       "        vertical-align: middle;\n",
       "    }\n",
       "\n",
       "    .dataframe tbody tr th {\n",
       "        vertical-align: top;\n",
       "    }\n",
       "\n",
       "    .dataframe thead th {\n",
       "        text-align: right;\n",
       "    }\n",
       "</style>\n",
       "<table border=\"1\" class=\"dataframe\">\n",
       "  <thead>\n",
       "    <tr style=\"text-align: right;\">\n",
       "      <th></th>\n",
       "      <th>student_id</th>\n",
       "      <th>first</th>\n",
       "      <th>last</th>\n",
       "      <th>gender</th>\n",
       "      <th>class</th>\n",
       "      <th>major</th>\n",
       "      <th>gpa</th>\n",
       "      <th>mean_gpa</th>\n",
       "    </tr>\n",
       "  </thead>\n",
       "  <tbody>\n",
       "    <tr>\n",
       "      <th>0</th>\n",
       "      <td>5a397209-3782-4764-a285-10fae807ee71</td>\n",
       "      <td>Janis</td>\n",
       "      <td>Brown</td>\n",
       "      <td>Female</td>\n",
       "      <td>Junior</td>\n",
       "      <td>Economics</td>\n",
       "      <td>3.12</td>\n",
       "      <td>3.476565</td>\n",
       "    </tr>\n",
       "    <tr>\n",
       "      <th>1</th>\n",
       "      <td>e26c3d69-3c74-49b6-81d7-47232787fad9</td>\n",
       "      <td>Timothy</td>\n",
       "      <td>Bishop</td>\n",
       "      <td>Male</td>\n",
       "      <td>Sophomore</td>\n",
       "      <td>Economics</td>\n",
       "      <td>3.48</td>\n",
       "      <td>3.476573</td>\n",
       "    </tr>\n",
       "    <tr>\n",
       "      <th>2</th>\n",
       "      <td>975c1581-5ba2-430c-a3d1-01ce03bd83f9</td>\n",
       "      <td>Elizabeth</td>\n",
       "      <td>Owens</td>\n",
       "      <td>Female</td>\n",
       "      <td>Freshman</td>\n",
       "      <td>Finance</td>\n",
       "      <td>3.40</td>\n",
       "      <td>3.620223</td>\n",
       "    </tr>\n",
       "    <tr>\n",
       "      <th>3</th>\n",
       "      <td>6081f91d-365c-46ce-ad1b-38af120781d9</td>\n",
       "      <td>Edward</td>\n",
       "      <td>Pearson</td>\n",
       "      <td>Male</td>\n",
       "      <td>Freshman</td>\n",
       "      <td>Math</td>\n",
       "      <td>3.84</td>\n",
       "      <td>3.281886</td>\n",
       "    </tr>\n",
       "    <tr>\n",
       "      <th>4</th>\n",
       "      <td>84cec8f4-0b64-44ce-a628-c0eb73f6ca6f</td>\n",
       "      <td>Lisa</td>\n",
       "      <td>Gonzalez</td>\n",
       "      <td>Female</td>\n",
       "      <td>Junior</td>\n",
       "      <td>Finance</td>\n",
       "      <td>4.00</td>\n",
       "      <td>3.597969</td>\n",
       "    </tr>\n",
       "  </tbody>\n",
       "</table>\n",
       "</div>"
      ],
      "text/plain": [
       "                             student_id      first      last  gender  \\\n",
       "0  5a397209-3782-4764-a285-10fae807ee71      Janis     Brown  Female   \n",
       "1  e26c3d69-3c74-49b6-81d7-47232787fad9    Timothy    Bishop    Male   \n",
       "2  975c1581-5ba2-430c-a3d1-01ce03bd83f9  Elizabeth     Owens  Female   \n",
       "3  6081f91d-365c-46ce-ad1b-38af120781d9     Edward   Pearson    Male   \n",
       "4  84cec8f4-0b64-44ce-a628-c0eb73f6ca6f       Lisa  Gonzalez  Female   \n",
       "\n",
       "       class      major   gpa  mean_gpa  \n",
       "0     Junior  Economics  3.12  3.476565  \n",
       "1  Sophomore  Economics  3.48  3.476573  \n",
       "2   Freshman    Finance  3.40  3.620223  \n",
       "3   Freshman       Math  3.84  3.281886  \n",
       "4     Junior    Finance  4.00  3.597969  "
      ]
     },
     "execution_count": 55,
     "metadata": {},
     "output_type": "execute_result"
    }
   ],
   "source": [
    "#Merge means to students_df, by major and class what is themean and ST of every student, another column that says mean pga and avg \n",
    "students_df = students_df.merge(mean_gpa_by_major_and_class, how='left',left_on=['major','class'], right_index=True)\n",
    "students_df.head()\n",
    "#x = students_df.sort_values(['major','class'])"
   ]
  },
  {
   "cell_type": "code",
   "execution_count": 62,
   "metadata": {},
   "outputs": [],
   "source": [
    "students_df_w_mean_std = students_df_w_mean_std.merge(std_gpa_by_major_and_class, how='left',left_on=['major','class'], right_index=True)\n",
    "\n",
    "\n",
    "\n"
   ]
  },
  {
   "cell_type": "code",
   "execution_count": null,
   "metadata": {},
   "outputs": [],
   "source": []
  },
  {
   "cell_type": "code",
   "execution_count": 66,
   "metadata": {},
   "outputs": [
    {
     "ename": "NameError",
     "evalue": "name 'students_df_w_mean' is not defined",
     "output_type": "error",
     "traceback": [
      "\u001b[0;31m---------------------------------------------------------------------------\u001b[0m",
      "\u001b[0;31mNameError\u001b[0m                                 Traceback (most recent call last)",
      "\u001b[0;32m<ipython-input-66-5150f2f3acd2>\u001b[0m in \u001b[0;36m<module>\u001b[0;34m()\u001b[0m\n\u001b[1;32m      1\u001b[0m \u001b[0;31m#What does the DataFrame look like now?\u001b[0m\u001b[0;34m\u001b[0m\u001b[0;34m\u001b[0m\u001b[0m\n\u001b[0;32m----> 2\u001b[0;31m \u001b[0mstudents_df_w_mean\u001b[0m\u001b[0;34m.\u001b[0m\u001b[0mhead\u001b[0m\u001b[0;34m(\u001b[0m\u001b[0;34m)\u001b[0m\u001b[0;34m\u001b[0m\u001b[0m\n\u001b[0m",
      "\u001b[0;31mNameError\u001b[0m: name 'students_df_w_mean' is not defined"
     ]
    }
   ],
   "source": [
    "#What does the DataFrame look like now?\n",
    "students_df_w_mean.head()"
   ]
  },
  {
   "cell_type": "code",
   "execution_count": null,
   "metadata": {
    "collapsed": true
   },
   "outputs": [],
   "source": [
    "#Merge standard deviations to new students_df"
   ]
  },
  {
   "cell_type": "code",
   "execution_count": 65,
   "metadata": {},
   "outputs": [
    {
     "data": {
      "text/html": [
       "<div>\n",
       "<style scoped>\n",
       "    .dataframe tbody tr th:only-of-type {\n",
       "        vertical-align: middle;\n",
       "    }\n",
       "\n",
       "    .dataframe tbody tr th {\n",
       "        vertical-align: top;\n",
       "    }\n",
       "\n",
       "    .dataframe thead th {\n",
       "        text-align: right;\n",
       "    }\n",
       "</style>\n",
       "<table border=\"1\" class=\"dataframe\">\n",
       "  <thead>\n",
       "    <tr style=\"text-align: right;\">\n",
       "      <th></th>\n",
       "      <th>student_id</th>\n",
       "      <th>first</th>\n",
       "      <th>last</th>\n",
       "      <th>gender</th>\n",
       "      <th>class</th>\n",
       "      <th>major</th>\n",
       "      <th>gpa</th>\n",
       "      <th>mean_gpa</th>\n",
       "      <th>std_gpa</th>\n",
       "    </tr>\n",
       "  </thead>\n",
       "  <tbody>\n",
       "    <tr>\n",
       "      <th>0</th>\n",
       "      <td>5a397209-3782-4764-a285-10fae807ee71</td>\n",
       "      <td>Janis</td>\n",
       "      <td>Brown</td>\n",
       "      <td>Female</td>\n",
       "      <td>Junior</td>\n",
       "      <td>Economics</td>\n",
       "      <td>3.12</td>\n",
       "      <td>3.476565</td>\n",
       "      <td>0.326551</td>\n",
       "    </tr>\n",
       "    <tr>\n",
       "      <th>1</th>\n",
       "      <td>e26c3d69-3c74-49b6-81d7-47232787fad9</td>\n",
       "      <td>Timothy</td>\n",
       "      <td>Bishop</td>\n",
       "      <td>Male</td>\n",
       "      <td>Sophomore</td>\n",
       "      <td>Economics</td>\n",
       "      <td>3.48</td>\n",
       "      <td>3.476573</td>\n",
       "      <td>0.341059</td>\n",
       "    </tr>\n",
       "    <tr>\n",
       "      <th>2</th>\n",
       "      <td>975c1581-5ba2-430c-a3d1-01ce03bd83f9</td>\n",
       "      <td>Elizabeth</td>\n",
       "      <td>Owens</td>\n",
       "      <td>Female</td>\n",
       "      <td>Freshman</td>\n",
       "      <td>Finance</td>\n",
       "      <td>3.40</td>\n",
       "      <td>3.620223</td>\n",
       "      <td>0.328219</td>\n",
       "    </tr>\n",
       "    <tr>\n",
       "      <th>3</th>\n",
       "      <td>6081f91d-365c-46ce-ad1b-38af120781d9</td>\n",
       "      <td>Edward</td>\n",
       "      <td>Pearson</td>\n",
       "      <td>Male</td>\n",
       "      <td>Freshman</td>\n",
       "      <td>Math</td>\n",
       "      <td>3.84</td>\n",
       "      <td>3.281886</td>\n",
       "      <td>0.338766</td>\n",
       "    </tr>\n",
       "    <tr>\n",
       "      <th>4</th>\n",
       "      <td>84cec8f4-0b64-44ce-a628-c0eb73f6ca6f</td>\n",
       "      <td>Lisa</td>\n",
       "      <td>Gonzalez</td>\n",
       "      <td>Female</td>\n",
       "      <td>Junior</td>\n",
       "      <td>Finance</td>\n",
       "      <td>4.00</td>\n",
       "      <td>3.597969</td>\n",
       "      <td>0.322453</td>\n",
       "    </tr>\n",
       "  </tbody>\n",
       "</table>\n",
       "</div>"
      ],
      "text/plain": [
       "                             student_id      first      last  gender  \\\n",
       "0  5a397209-3782-4764-a285-10fae807ee71      Janis     Brown  Female   \n",
       "1  e26c3d69-3c74-49b6-81d7-47232787fad9    Timothy    Bishop    Male   \n",
       "2  975c1581-5ba2-430c-a3d1-01ce03bd83f9  Elizabeth     Owens  Female   \n",
       "3  6081f91d-365c-46ce-ad1b-38af120781d9     Edward   Pearson    Male   \n",
       "4  84cec8f4-0b64-44ce-a628-c0eb73f6ca6f       Lisa  Gonzalez  Female   \n",
       "\n",
       "       class      major   gpa  mean_gpa   std_gpa  \n",
       "0     Junior  Economics  3.12  3.476565  0.326551  \n",
       "1  Sophomore  Economics  3.48  3.476573  0.341059  \n",
       "2   Freshman    Finance  3.40  3.620223  0.328219  \n",
       "3   Freshman       Math  3.84  3.281886  0.338766  \n",
       "4     Junior    Finance  4.00  3.597969  0.322453  "
      ]
     },
     "execution_count": 65,
     "metadata": {},
     "output_type": "execute_result"
    }
   ],
   "source": [
    "#What does the DataFrame look like now?\n",
    "students_df_w_mean_std.head()"
   ]
  },
  {
   "cell_type": "code",
   "execution_count": 73,
   "metadata": {},
   "outputs": [
    {
     "data": {
      "text/html": [
       "<div>\n",
       "<style scoped>\n",
       "    .dataframe tbody tr th:only-of-type {\n",
       "        vertical-align: middle;\n",
       "    }\n",
       "\n",
       "    .dataframe tbody tr th {\n",
       "        vertical-align: top;\n",
       "    }\n",
       "\n",
       "    .dataframe thead th {\n",
       "        text-align: right;\n",
       "    }\n",
       "</style>\n",
       "<table border=\"1\" class=\"dataframe\">\n",
       "  <thead>\n",
       "    <tr style=\"text-align: right;\">\n",
       "      <th></th>\n",
       "      <th>student_id</th>\n",
       "      <th>first</th>\n",
       "      <th>last</th>\n",
       "      <th>gender</th>\n",
       "      <th>class</th>\n",
       "      <th>major</th>\n",
       "      <th>gpa</th>\n",
       "      <th>mean_gpa</th>\n",
       "      <th>std_gpa</th>\n",
       "      <th>points_from_mean</th>\n",
       "      <th>standardized_gpa</th>\n",
       "      <th>points_from</th>\n",
       "    </tr>\n",
       "  </thead>\n",
       "  <tbody>\n",
       "    <tr>\n",
       "      <th>0</th>\n",
       "      <td>5a397209-3782-4764-a285-10fae807ee71</td>\n",
       "      <td>Janis</td>\n",
       "      <td>Brown</td>\n",
       "      <td>Female</td>\n",
       "      <td>Junior</td>\n",
       "      <td>Economics</td>\n",
       "      <td>3.12</td>\n",
       "      <td>3.476565</td>\n",
       "      <td>0.326551</td>\n",
       "      <td>-0.356565</td>\n",
       "      <td>-1.091910</td>\n",
       "      <td>-0.356565</td>\n",
       "    </tr>\n",
       "    <tr>\n",
       "      <th>1</th>\n",
       "      <td>e26c3d69-3c74-49b6-81d7-47232787fad9</td>\n",
       "      <td>Timothy</td>\n",
       "      <td>Bishop</td>\n",
       "      <td>Male</td>\n",
       "      <td>Sophomore</td>\n",
       "      <td>Economics</td>\n",
       "      <td>3.48</td>\n",
       "      <td>3.476573</td>\n",
       "      <td>0.341059</td>\n",
       "      <td>0.003427</td>\n",
       "      <td>0.010048</td>\n",
       "      <td>0.003427</td>\n",
       "    </tr>\n",
       "    <tr>\n",
       "      <th>2</th>\n",
       "      <td>975c1581-5ba2-430c-a3d1-01ce03bd83f9</td>\n",
       "      <td>Elizabeth</td>\n",
       "      <td>Owens</td>\n",
       "      <td>Female</td>\n",
       "      <td>Freshman</td>\n",
       "      <td>Finance</td>\n",
       "      <td>3.40</td>\n",
       "      <td>3.620223</td>\n",
       "      <td>0.328219</td>\n",
       "      <td>-0.220223</td>\n",
       "      <td>-0.670964</td>\n",
       "      <td>-0.220223</td>\n",
       "    </tr>\n",
       "    <tr>\n",
       "      <th>3</th>\n",
       "      <td>6081f91d-365c-46ce-ad1b-38af120781d9</td>\n",
       "      <td>Edward</td>\n",
       "      <td>Pearson</td>\n",
       "      <td>Male</td>\n",
       "      <td>Freshman</td>\n",
       "      <td>Math</td>\n",
       "      <td>3.84</td>\n",
       "      <td>3.281886</td>\n",
       "      <td>0.338766</td>\n",
       "      <td>0.558114</td>\n",
       "      <td>1.647491</td>\n",
       "      <td>0.558114</td>\n",
       "    </tr>\n",
       "    <tr>\n",
       "      <th>4</th>\n",
       "      <td>84cec8f4-0b64-44ce-a628-c0eb73f6ca6f</td>\n",
       "      <td>Lisa</td>\n",
       "      <td>Gonzalez</td>\n",
       "      <td>Female</td>\n",
       "      <td>Junior</td>\n",
       "      <td>Finance</td>\n",
       "      <td>4.00</td>\n",
       "      <td>3.597969</td>\n",
       "      <td>0.322453</td>\n",
       "      <td>0.402031</td>\n",
       "      <td>1.246789</td>\n",
       "      <td>0.402031</td>\n",
       "    </tr>\n",
       "  </tbody>\n",
       "</table>\n",
       "</div>"
      ],
      "text/plain": [
       "                             student_id      first      last  gender  \\\n",
       "0  5a397209-3782-4764-a285-10fae807ee71      Janis     Brown  Female   \n",
       "1  e26c3d69-3c74-49b6-81d7-47232787fad9    Timothy    Bishop    Male   \n",
       "2  975c1581-5ba2-430c-a3d1-01ce03bd83f9  Elizabeth     Owens  Female   \n",
       "3  6081f91d-365c-46ce-ad1b-38af120781d9     Edward   Pearson    Male   \n",
       "4  84cec8f4-0b64-44ce-a628-c0eb73f6ca6f       Lisa  Gonzalez  Female   \n",
       "\n",
       "       class      major   gpa  mean_gpa   std_gpa  points_from_mean  \\\n",
       "0     Junior  Economics  3.12  3.476565  0.326551         -0.356565   \n",
       "1  Sophomore  Economics  3.48  3.476573  0.341059          0.003427   \n",
       "2   Freshman    Finance  3.40  3.620223  0.328219         -0.220223   \n",
       "3   Freshman       Math  3.84  3.281886  0.338766          0.558114   \n",
       "4     Junior    Finance  4.00  3.597969  0.322453          0.402031   \n",
       "\n",
       "   standardized_gpa  points_from  \n",
       "0         -1.091910    -0.356565  \n",
       "1          0.010048     0.003427  \n",
       "2         -0.670964    -0.220223  \n",
       "3          1.647491     0.558114  \n",
       "4          1.246789     0.402031  "
      ]
     },
     "execution_count": 73,
     "metadata": {},
     "output_type": "execute_result"
    }
   ],
   "source": [
    "#Compute how far from the mean the student's GPA is\n",
    "students_df_w_mean_std['points_from_mean'] = students_df_w_mean_std['gpa']- students_df_w_mean_std['mean_gpa']  #std_from_mean\n",
    "students_df_w_mean_std.head()"
   ]
  },
  {
   "cell_type": "code",
   "execution_count": 71,
   "metadata": {},
   "outputs": [],
   "source": [
    "#Compute how many standard deviations away from the mean the student's GPA is\n",
    "students_df_w_mean_std['standardized_gpa'] = students_df_w_mean_std['points_from_mean'] / students_df_w_mean_std['std_gpa']#points_from_mean"
   ]
  },
  {
   "cell_type": "code",
   "execution_count": 72,
   "metadata": {},
   "outputs": [
    {
     "data": {
      "text/html": [
       "<div>\n",
       "<style scoped>\n",
       "    .dataframe tbody tr th:only-of-type {\n",
       "        vertical-align: middle;\n",
       "    }\n",
       "\n",
       "    .dataframe tbody tr th {\n",
       "        vertical-align: top;\n",
       "    }\n",
       "\n",
       "    .dataframe thead th {\n",
       "        text-align: right;\n",
       "    }\n",
       "</style>\n",
       "<table border=\"1\" class=\"dataframe\">\n",
       "  <thead>\n",
       "    <tr style=\"text-align: right;\">\n",
       "      <th></th>\n",
       "      <th>student_id</th>\n",
       "      <th>first</th>\n",
       "      <th>last</th>\n",
       "      <th>gender</th>\n",
       "      <th>class</th>\n",
       "      <th>major</th>\n",
       "      <th>gpa</th>\n",
       "      <th>mean_gpa</th>\n",
       "      <th>std_gpa</th>\n",
       "      <th>points_from_mean</th>\n",
       "      <th>standardized_gpa</th>\n",
       "    </tr>\n",
       "  </thead>\n",
       "  <tbody>\n",
       "    <tr>\n",
       "      <th>0</th>\n",
       "      <td>5a397209-3782-4764-a285-10fae807ee71</td>\n",
       "      <td>Janis</td>\n",
       "      <td>Brown</td>\n",
       "      <td>Female</td>\n",
       "      <td>Junior</td>\n",
       "      <td>Economics</td>\n",
       "      <td>3.12</td>\n",
       "      <td>3.476565</td>\n",
       "      <td>0.326551</td>\n",
       "      <td>-0.356565</td>\n",
       "      <td>-1.091910</td>\n",
       "    </tr>\n",
       "    <tr>\n",
       "      <th>1</th>\n",
       "      <td>e26c3d69-3c74-49b6-81d7-47232787fad9</td>\n",
       "      <td>Timothy</td>\n",
       "      <td>Bishop</td>\n",
       "      <td>Male</td>\n",
       "      <td>Sophomore</td>\n",
       "      <td>Economics</td>\n",
       "      <td>3.48</td>\n",
       "      <td>3.476573</td>\n",
       "      <td>0.341059</td>\n",
       "      <td>0.003427</td>\n",
       "      <td>0.010048</td>\n",
       "    </tr>\n",
       "    <tr>\n",
       "      <th>2</th>\n",
       "      <td>975c1581-5ba2-430c-a3d1-01ce03bd83f9</td>\n",
       "      <td>Elizabeth</td>\n",
       "      <td>Owens</td>\n",
       "      <td>Female</td>\n",
       "      <td>Freshman</td>\n",
       "      <td>Finance</td>\n",
       "      <td>3.40</td>\n",
       "      <td>3.620223</td>\n",
       "      <td>0.328219</td>\n",
       "      <td>-0.220223</td>\n",
       "      <td>-0.670964</td>\n",
       "    </tr>\n",
       "    <tr>\n",
       "      <th>3</th>\n",
       "      <td>6081f91d-365c-46ce-ad1b-38af120781d9</td>\n",
       "      <td>Edward</td>\n",
       "      <td>Pearson</td>\n",
       "      <td>Male</td>\n",
       "      <td>Freshman</td>\n",
       "      <td>Math</td>\n",
       "      <td>3.84</td>\n",
       "      <td>3.281886</td>\n",
       "      <td>0.338766</td>\n",
       "      <td>0.558114</td>\n",
       "      <td>1.647491</td>\n",
       "    </tr>\n",
       "    <tr>\n",
       "      <th>4</th>\n",
       "      <td>84cec8f4-0b64-44ce-a628-c0eb73f6ca6f</td>\n",
       "      <td>Lisa</td>\n",
       "      <td>Gonzalez</td>\n",
       "      <td>Female</td>\n",
       "      <td>Junior</td>\n",
       "      <td>Finance</td>\n",
       "      <td>4.00</td>\n",
       "      <td>3.597969</td>\n",
       "      <td>0.322453</td>\n",
       "      <td>0.402031</td>\n",
       "      <td>1.246789</td>\n",
       "    </tr>\n",
       "  </tbody>\n",
       "</table>\n",
       "</div>"
      ],
      "text/plain": [
       "                             student_id      first      last  gender  \\\n",
       "0  5a397209-3782-4764-a285-10fae807ee71      Janis     Brown  Female   \n",
       "1  e26c3d69-3c74-49b6-81d7-47232787fad9    Timothy    Bishop    Male   \n",
       "2  975c1581-5ba2-430c-a3d1-01ce03bd83f9  Elizabeth     Owens  Female   \n",
       "3  6081f91d-365c-46ce-ad1b-38af120781d9     Edward   Pearson    Male   \n",
       "4  84cec8f4-0b64-44ce-a628-c0eb73f6ca6f       Lisa  Gonzalez  Female   \n",
       "\n",
       "       class      major   gpa  mean_gpa   std_gpa  points_from_mean  \\\n",
       "0     Junior  Economics  3.12  3.476565  0.326551         -0.356565   \n",
       "1  Sophomore  Economics  3.48  3.476573  0.341059          0.003427   \n",
       "2   Freshman    Finance  3.40  3.620223  0.328219         -0.220223   \n",
       "3   Freshman       Math  3.84  3.281886  0.338766          0.558114   \n",
       "4     Junior    Finance  4.00  3.597969  0.322453          0.402031   \n",
       "\n",
       "   standardized_gpa  \n",
       "0         -1.091910  \n",
       "1          0.010048  \n",
       "2         -0.670964  \n",
       "3          1.647491  \n",
       "4          1.246789  "
      ]
     },
     "execution_count": 72,
     "metadata": {},
     "output_type": "execute_result"
    }
   ],
   "source": [
    "#Look at the new data\n",
    "students_df_w_mean_std.head()"
   ]
  },
  {
   "cell_type": "code",
   "execution_count": 75,
   "metadata": {},
   "outputs": [
    {
     "data": {
      "image/png": "[encoded data removed]",
      "text/plain": [
       "<Figure size 432x288 with 1 Axes>"
      ]
     },
     "metadata": {
      "needs_background": "light"
     },
     "output_type": "display_data"
    }
   ],
   "source": [
    "#Look at the distribution of original GPAs\n",
    "from matplotlib import pyplot as plt\n",
    "students_df_w_mean_std['gpa'].hist(bins=20)\n",
    "plt.show()"
   ]
  },
  {
   "cell_type": "code",
   "execution_count": 76,
   "metadata": {},
   "outputs": [
    {
     "data": {
      "image/png": "[encoded data removed]",
      "text/plain": [
       "<Figure size 432x288 with 1 Axes>"
      ]
     },
     "metadata": {
      "needs_background": "light"
     },
     "output_type": "display_data"
    }
   ],
   "source": [
    "#Look at the distribution of standardized GPAs\n",
    "students_df_w_mean_std['standardized_gpa'].hist(bins=20)\n",
    "plt.show()"
   ]
  },
  {
   "cell_type": "code",
   "execution_count": null,
   "metadata": {},
   "outputs": [],
   "source": []
  },
  {
   "cell_type": "markdown",
   "metadata": {},
   "source": [
    "Let's try looking at disparate data and use it to join the data.\n",
    "\n",
    "Let's use Pandas to get all of the data from Quiz 2 into the same DataFrame."
   ]
  },
  {
   "cell_type": "code",
   "execution_count": null,
   "metadata": {},
   "outputs": [],
   "source": [
    "with open('department_enrollment.json', 'r') as f:\n",
    "    dept_enrollment = json.load(f)"
   ]
  },
  {
   "cell_type": "code",
   "execution_count": null,
   "metadata": {},
   "outputs": [],
   "source": [
    "dept_enrollment.keys()"
   ]
  },
  {
   "cell_type": "code",
   "execution_count": null,
   "metadata": {
    "collapsed": true
   },
   "outputs": [],
   "source": [
    "#Let's try creating a DataFrame from this dictionary of lists"
   ]
  },
  {
   "cell_type": "markdown",
   "metadata": {},
   "source": [
    "The creation of DataFrames from dictionaries of lists MUST have lists that are the same length. Since we can't do that with our dictionary here, we're going to have to manually do this."
   ]
  },
  {
   "cell_type": "code",
   "execution_count": null,
   "metadata": {
    "collapsed": true
   },
   "outputs": [],
   "source": [
    "#Write a function that makes a single DataFrame for a major"
   ]
  },
  {
   "cell_type": "code",
   "execution_count": null,
   "metadata": {
    "collapsed": true
   },
   "outputs": [],
   "source": [
    "#Let's create a list of DataFrames and concatenate them together"
   ]
  },
  {
   "cell_type": "code",
   "execution_count": null,
   "metadata": {
    "collapsed": true
   },
   "outputs": [],
   "source": [
    "#Take a look at the new big DataFrame"
   ]
  },
  {
   "cell_type": "code",
   "execution_count": null,
   "metadata": {
    "collapsed": true
   },
   "outputs": [],
   "source": [
    "#Let's load the student_gpas.json file"
   ]
  },
  {
   "cell_type": "code",
   "execution_count": null,
   "metadata": {},
   "outputs": [],
   "source": [
    "#Getting the data into a DataFrame isn't easy"
   ]
  },
  {
   "cell_type": "code",
   "execution_count": null,
   "metadata": {
    "collapsed": true
   },
   "outputs": [],
   "source": [
    "#Load student_directory data"
   ]
  },
  {
   "cell_type": "code",
   "execution_count": 186,
   "metadata": {},
   "outputs": [],
   "source": [
    "#Now let's combine all of the data together"
   ]
  },
  {
   "cell_type": "code",
   "execution_count": null,
   "metadata": {
    "collapsed": true
   },
   "outputs": [],
   "source": [
    "#We can convert a dictionary of values into a Pandas Series\n",
    "#Remember that a DataFrame is equivalent to a dictionary of lists\n",
    "pd.Series(average_gpas)"
   ]
  }
 ],
 "metadata": {
  "anaconda-cloud": {},
  "kernelspec": {
   "display_name": "Python 3",
   "language": "python",
   "name": "python3"
  },
  "language_info": {
   "codemirror_mode": {
    "name": "ipython",
    "version": 3
   },
   "file_extension": ".py",
   "mimetype": "text/x-python",
   "name": "python",
   "nbconvert_exporter": "python",
   "pygments_lexer": "ipython3",
   "version": "3.7.3"
  }
 },
 "nbformat": 4,
 "nbformat_minor": 1
}
