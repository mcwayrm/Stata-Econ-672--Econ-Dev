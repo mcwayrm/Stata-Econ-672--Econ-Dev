{
 "cells": [
  {
   "cell_type": "markdown",
   "metadata": {},
   "source": [
    "# Introduction to R Programming\n",
    "\n",
    "R is a language and environment for statistical computing and graphics. It provides a wide variety of statistical (linear and nonlinear modelling, classical statistical tests, time-series analysis, classification, clustering, etc.) and graphical techniques.\n",
    "\n",
    "In addition to its extensive analytical packages, R’s plotting capabilities far exceed that of almost any plotting library Python can offer. ggplot2 (R's graphical package) charts can be found in many (if not most) publications and papers you may read.\n",
    "\n",
    "R programming is very different from Python because it is an analytical language, not one designed for software engineering. Thus, many of the constructs were built with analysis in mind.\n",
    "\n",
    "In this lecture, we will go over basic syntax for R, the corolaries between Python and R, and some of the key differences between the two languages.\n",
    "\n",
    "### Basics\n",
    "\n",
    "#### Data Types and Variable Assignment\n",
    "\n",
    "R does several things differently for the same result in Python. Let's go through the basics. First, variables are assigned via \"arrows\" instead of equal signs. The equal sign *can* work, but there are situations where it will not, so defaulting to arrows should be your standard practice."
   ]
  },
  {
   "cell_type": "markdown",
   "metadata": {},
   "source": [
    "##### Numerics\n",
    "Numeric values in R are all the same. Unlike in Python, R does not distinguish between floats and integers."
   ]
  },
  {
   "cell_type": "code",
   "execution_count": 1,
   "metadata": {},
   "outputs": [],
   "source": [
    "#Assign numerics\n",
    "a <- 1\n",
    "b <- 1.1"
   ]
  },
  {
   "cell_type": "code",
   "execution_count": 2,
   "metadata": {},
   "outputs": [
    {
     "name": "stdout",
     "output_type": "stream",
     "text": [
      "[1] \"numeric\"\n",
      "[1] \"numeric\"\n"
     ]
    }
   ],
   "source": [
    "print(class(a))\n",
    "print(class(b))"
   ]
  },
  {
   "cell_type": "markdown",
   "metadata": {},
   "source": [
    "##### Characters\n",
    "Character values in R are like strings in Python."
   ]
  },
  {
   "cell_type": "code",
   "execution_count": 3,
   "metadata": {},
   "outputs": [],
   "source": [
    "#Assign characters\n",
    "c <- 'My name is Jason'\n",
    "d <- \"Quote types don't matter\""
   ]
  },
  {
   "cell_type": "code",
   "execution_count": 4,
   "metadata": {},
   "outputs": [
    {
     "name": "stdout",
     "output_type": "stream",
     "text": [
      "[1] \"My name is Jason\"\n",
      "[1] \"Quote types don't matter\"\n"
     ]
    }
   ],
   "source": [
    "print(c)\n",
    "print(d)"
   ]
  },
  {
   "cell_type": "code",
   "execution_count": 5,
   "metadata": {},
   "outputs": [
    {
     "name": "stdout",
     "output_type": "stream",
     "text": [
      "[1] \"character\"\n",
      "[1] \"character\"\n"
     ]
    }
   ],
   "source": [
    "print(class(c))\n",
    "print(class(d))"
   ]
  },
  {
   "cell_type": "markdown",
   "metadata": {},
   "source": [
    "#### Vectors\n",
    "Vectors in R are like lists in Python"
   ]
  },
  {
   "cell_type": "code",
   "execution_count": 6,
   "metadata": {},
   "outputs": [
    {
     "data": {
      "text/html": [
       "6"
      ],
      "text/latex": [
       "6"
      ],
      "text/markdown": [
       "6"
      ],
      "text/plain": [
       "[1] 6"
      ]
     },
     "metadata": {},
     "output_type": "display_data"
    },
    {
     "name": "stdout",
     "output_type": "stream",
     "text": [
      "[1] 1 2 4 7 9 1\n"
     ]
    },
    {
     "data": {
      "text/html": [
       "'numeric'"
      ],
      "text/latex": [
       "'numeric'"
      ],
      "text/markdown": [
       "'numeric'"
      ],
      "text/plain": [
       "[1] \"numeric\""
      ]
     },
     "metadata": {},
     "output_type": "display_data"
    }
   ],
   "source": [
    "e <- c(1,2,4,7,9,1)\n",
    "length(e)\n",
    "print(e)\n",
    "class(e)"
   ]
  },
  {
   "cell_type": "markdown",
   "metadata": {},
   "source": [
    "Accessing an element of a vector much like in Python lists. R, however, poses two distinct differences. First, it indexes starting with 1 instead of 0. Second, it is *inclusive* of the ending range."
   ]
  },
  {
   "cell_type": "code",
   "execution_count": 7,
   "metadata": {},
   "outputs": [
    {
     "data": {
      "text/html": [
       "1"
      ],
      "text/latex": [
       "1"
      ],
      "text/markdown": [
       "1"
      ],
      "text/plain": [
       "[1] 1"
      ]
     },
     "metadata": {},
     "output_type": "display_data"
    }
   ],
   "source": [
    "#First element\n",
    "e[1]"
   ]
  },
  {
   "cell_type": "code",
   "execution_count": 8,
   "metadata": {},
   "outputs": [
    {
     "data": {
      "text/html": [
       "9"
      ],
      "text/latex": [
       "9"
      ],
      "text/markdown": [
       "9"
      ],
      "text/plain": [
       "[1] 9"
      ]
     },
     "metadata": {},
     "output_type": "display_data"
    }
   ],
   "source": [
    "#Fifth element\n",
    "e[5]"
   ]
  },
  {
   "cell_type": "code",
   "execution_count": 9,
   "metadata": {},
   "outputs": [
    {
     "data": {
      "text/html": [
       "&lt;NA&gt;"
      ],
      "text/latex": [
       "<NA>"
      ],
      "text/markdown": [
       "&lt;NA&gt;"
      ],
      "text/plain": [
       "[1] NA"
      ]
     },
     "metadata": {},
     "output_type": "display_data"
    }
   ],
   "source": [
    "#Trying to access beyond what is available\n",
    "e[7]"
   ]
  },
  {
   "cell_type": "code",
   "execution_count": 10,
   "metadata": {},
   "outputs": [
    {
     "data": {
      "text/html": [
       "<ol class=list-inline>\n",
       "\t<li>1</li>\n",
       "\t<li>2</li>\n",
       "\t<li>4</li>\n",
       "</ol>\n"
      ],
      "text/latex": [
       "\\begin{enumerate*}\n",
       "\\item 1\n",
       "\\item 2\n",
       "\\item 4\n",
       "\\end{enumerate*}\n"
      ],
      "text/markdown": [
       "1. 1\n",
       "2. 2\n",
       "3. 4\n",
       "\n",
       "\n"
      ],
      "text/plain": [
       "[1] 1 2 4"
      ]
     },
     "metadata": {},
     "output_type": "display_data"
    }
   ],
   "source": [
    "#Accessing first through third\n",
    "e[1:3]"
   ]
  },
  {
   "cell_type": "code",
   "execution_count": 11,
   "metadata": {},
   "outputs": [
    {
     "ename": "ERROR",
     "evalue": "Error in parse(text = x, srcfile = src): <text>:2:5: unexpected ']'\n1: #Accessing third through end\n2: e[3:]\n       ^\n",
     "output_type": "error",
     "traceback": [
      "Error in parse(text = x, srcfile = src): <text>:2:5: unexpected ']'\n1: #Accessing third through end\n2: e[3:]\n       ^\nTraceback:\n"
     ]
    }
   ],
   "source": [
    "#Accessing third through end\n",
    "e[3:] #Nope!"
   ]
  },
  {
   "cell_type": "code",
   "execution_count": 12,
   "metadata": {},
   "outputs": [
    {
     "data": {
      "text/html": [
       "<ol class=list-inline>\n",
       "\t<li>4</li>\n",
       "\t<li>7</li>\n",
       "\t<li>9</li>\n",
       "\t<li>1</li>\n",
       "</ol>\n"
      ],
      "text/latex": [
       "\\begin{enumerate*}\n",
       "\\item 4\n",
       "\\item 7\n",
       "\\item 9\n",
       "\\item 1\n",
       "\\end{enumerate*}\n"
      ],
      "text/markdown": [
       "1. 4\n",
       "2. 7\n",
       "3. 9\n",
       "4. 1\n",
       "\n",
       "\n"
      ],
      "text/plain": [
       "[1] 4 7 9 1"
      ]
     },
     "metadata": {},
     "output_type": "display_data"
    }
   ],
   "source": [
    "e[3:length(e)]"
   ]
  },
  {
   "cell_type": "markdown",
   "metadata": {},
   "source": [
    "Note that the class for the vector is not of vector-type, but rather the type of data contained IN the vector. Let's see what happens when we try other combinations of values."
   ]
  },
  {
   "cell_type": "code",
   "execution_count": 13,
   "metadata": {},
   "outputs": [
    {
     "data": {
      "text/html": [
       "3"
      ],
      "text/latex": [
       "3"
      ],
      "text/markdown": [
       "3"
      ],
      "text/plain": [
       "[1] 3"
      ]
     },
     "metadata": {},
     "output_type": "display_data"
    },
    {
     "name": "stdout",
     "output_type": "stream",
     "text": [
      "[1] \"a\"     \"b\"     \"hello\"\n"
     ]
    },
    {
     "data": {
      "text/html": [
       "'character'"
      ],
      "text/latex": [
       "'character'"
      ],
      "text/markdown": [
       "'character'"
      ],
      "text/plain": [
       "[1] \"character\""
      ]
     },
     "metadata": {},
     "output_type": "display_data"
    }
   ],
   "source": [
    "f <- c('a', 'b', 'hello')\n",
    "length(f)\n",
    "print(f)\n",
    "class(f)"
   ]
  },
  {
   "cell_type": "markdown",
   "metadata": {},
   "source": [
    "Can we mix types like we can in Python?"
   ]
  },
  {
   "cell_type": "code",
   "execution_count": 14,
   "metadata": {},
   "outputs": [
    {
     "data": {
      "text/html": [
       "3"
      ],
      "text/latex": [
       "3"
      ],
      "text/markdown": [
       "3"
      ],
      "text/plain": [
       "[1] 3"
      ]
     },
     "metadata": {},
     "output_type": "display_data"
    },
    {
     "name": "stdout",
     "output_type": "stream",
     "text": [
      "[1] \"a\"     \"1\"     \"FALSE\"\n"
     ]
    },
    {
     "data": {
      "text/html": [
       "'character'"
      ],
      "text/latex": [
       "'character'"
      ],
      "text/markdown": [
       "'character'"
      ],
      "text/plain": [
       "[1] \"character\""
      ]
     },
     "metadata": {},
     "output_type": "display_data"
    }
   ],
   "source": [
    "g <- c('a', 1, FALSE)\n",
    "length(g)\n",
    "print(g)\n",
    "class(g)"
   ]
  },
  {
   "cell_type": "markdown",
   "metadata": {},
   "source": [
    "Uh oh! Much like Pandas and Numpy will sometimes do to get all of the data into the same data types, R is picking the \"lowest common denominator\" and auto-converting things for you. You should be very careful when creating arrays to ensure that you are not mixing data types."
   ]
  },
  {
   "cell_type": "markdown",
   "metadata": {},
   "source": [
    "#### Lists\n",
    "Ironically, lists in R are a hybrid of lists and dictionaries in Python. They are not restricted to holding all of the same data types as vectors are. The indices are defaulted to positions, but those positions can also be named."
   ]
  },
  {
   "cell_type": "code",
   "execution_count": 15,
   "metadata": {},
   "outputs": [
    {
     "data": {
      "text/html": [
       "4"
      ],
      "text/latex": [
       "4"
      ],
      "text/markdown": [
       "4"
      ],
      "text/plain": [
       "[1] 4"
      ]
     },
     "metadata": {},
     "output_type": "display_data"
    },
    {
     "name": "stdout",
     "output_type": "stream",
     "text": [
      "[[1]]\n",
      "[1] \"a\"\n",
      "\n",
      "[[2]]\n",
      "[1] 1\n",
      "\n",
      "[[3]]\n",
      "[1] 1 2 3\n",
      "\n",
      "[[4]]\n",
      "[1] FALSE\n",
      "\n"
     ]
    },
    {
     "data": {
      "text/html": [
       "'list'"
      ],
      "text/latex": [
       "'list'"
      ],
      "text/markdown": [
       "'list'"
      ],
      "text/plain": [
       "[1] \"list\""
      ]
     },
     "metadata": {},
     "output_type": "display_data"
    }
   ],
   "source": [
    "h <- list('a', 1, c(1,2,3), FALSE)\n",
    "length(h)\n",
    "print(h)\n",
    "class(h)"
   ]
  },
  {
   "cell_type": "code",
   "execution_count": 16,
   "metadata": {},
   "outputs": [
    {
     "data": {
      "text/html": [
       "<ol>\n",
       "\t<li>'a'</li>\n",
       "</ol>\n"
      ],
      "text/latex": [
       "\\begin{enumerate}\n",
       "\\item 'a'\n",
       "\\end{enumerate}\n"
      ],
      "text/markdown": [
       "1. 'a'\n",
       "\n",
       "\n"
      ],
      "text/plain": [
       "[[1]]\n",
       "[1] \"a\"\n"
      ]
     },
     "metadata": {},
     "output_type": "display_data"
    }
   ],
   "source": [
    "#Access first element of the list (unlike Python dictionaries, they are ordered!)\n",
    "h[1]"
   ]
  },
  {
   "cell_type": "code",
   "execution_count": 17,
   "metadata": {},
   "outputs": [
    {
     "name": "stdout",
     "output_type": "stream",
     "text": [
      "[[1]]\n",
      "[1] \"a\"\n",
      "\n",
      "[[2]]\n",
      "[1] 1 2 3\n",
      "\n"
     ]
    }
   ],
   "source": [
    "#Access first and third elements of the list\n",
    "print(h[c(1,3)])"
   ]
  },
  {
   "cell_type": "markdown",
   "metadata": {},
   "source": [
    "Now let's give these list indices some names"
   ]
  },
  {
   "cell_type": "code",
   "execution_count": 18,
   "metadata": {},
   "outputs": [],
   "source": [
    "names(h) <- c('first', 'second', 'third', 'fourth')"
   ]
  },
  {
   "cell_type": "code",
   "execution_count": 19,
   "metadata": {},
   "outputs": [
    {
     "name": "stdout",
     "output_type": "stream",
     "text": [
      "$first\n",
      "[1] \"a\"\n",
      "\n",
      "$second\n",
      "[1] 1\n",
      "\n",
      "$third\n",
      "[1] 1 2 3\n",
      "\n",
      "$fourth\n",
      "[1] FALSE\n",
      "\n"
     ]
    }
   ],
   "source": [
    "print(h)"
   ]
  },
  {
   "cell_type": "code",
   "execution_count": 20,
   "metadata": {},
   "outputs": [
    {
     "data": {
      "text/html": [
       "<strong>$first</strong> = 'a'"
      ],
      "text/latex": [
       "\\textbf{\\$first} = 'a'"
      ],
      "text/markdown": [
       "**$first** = 'a'"
      ],
      "text/plain": [
       "$first\n",
       "[1] \"a\"\n"
      ]
     },
     "metadata": {},
     "output_type": "display_data"
    }
   ],
   "source": [
    "h['first']"
   ]
  },
  {
   "cell_type": "code",
   "execution_count": 21,
   "metadata": {},
   "outputs": [
    {
     "data": {
      "text/html": [
       "'a'"
      ],
      "text/latex": [
       "'a'"
      ],
      "text/markdown": [
       "'a'"
      ],
      "text/plain": [
       "[1] \"a\""
      ]
     },
     "metadata": {},
     "output_type": "display_data"
    }
   ],
   "source": [
    "h$first"
   ]
  },
  {
   "cell_type": "code",
   "execution_count": 22,
   "metadata": {},
   "outputs": [
    {
     "data": {
      "text/html": [
       "<strong>$first</strong> = 'a'"
      ],
      "text/latex": [
       "\\textbf{\\$first} = 'a'"
      ],
      "text/markdown": [
       "**$first** = 'a'"
      ],
      "text/plain": [
       "$first\n",
       "[1] \"a\"\n"
      ]
     },
     "metadata": {},
     "output_type": "display_data"
    }
   ],
   "source": [
    "h[1]"
   ]
  },
  {
   "cell_type": "code",
   "execution_count": 23,
   "metadata": {},
   "outputs": [
    {
     "ename": "ERROR",
     "evalue": "Error in h[2] + 2: non-numeric argument to binary operator\n",
     "output_type": "error",
     "traceback": [
      "Error in h[2] + 2: non-numeric argument to binary operator\nTraceback:\n"
     ]
    }
   ],
   "source": [
    "h[2] + 2"
   ]
  },
  {
   "cell_type": "code",
   "execution_count": null,
   "metadata": {},
   "outputs": [],
   "source": []
  },
  {
   "cell_type": "code",
   "execution_count": 24,
   "metadata": {},
   "outputs": [
    {
     "data": {
      "text/html": [
       "3"
      ],
      "text/latex": [
       "3"
      ],
      "text/markdown": [
       "3"
      ],
      "text/plain": [
       "[1] 3"
      ]
     },
     "metadata": {},
     "output_type": "display_data"
    }
   ],
   "source": [
    "h$second + 2"
   ]
  },
  {
   "cell_type": "code",
   "execution_count": null,
   "metadata": {},
   "outputs": [],
   "source": []
  },
  {
   "cell_type": "code",
   "execution_count": null,
   "metadata": {},
   "outputs": [],
   "source": []
  },
  {
   "cell_type": "markdown",
   "metadata": {},
   "source": [
    "##### Variable Naming\n",
    "Unlike in Python, variable names in R often contain periods as opposed to underscores. For example:"
   ]
  },
  {
   "cell_type": "code",
   "execution_count": 25,
   "metadata": {},
   "outputs": [],
   "source": [
    "my_number <- 7"
   ]
  },
  {
   "cell_type": "code",
   "execution_count": 26,
   "metadata": {},
   "outputs": [
    {
     "data": {
      "text/html": [
       "14"
      ],
      "text/latex": [
       "14"
      ],
      "text/markdown": [
       "14"
      ],
      "text/plain": [
       "[1] 14"
      ]
     },
     "metadata": {},
     "output_type": "display_data"
    }
   ],
   "source": [
    "my_number.plus7 <- my_number + 7\n",
    "my_number.plus7"
   ]
  },
  {
   "cell_type": "code",
   "execution_count": 27,
   "metadata": {},
   "outputs": [
    {
     "data": {
      "text/html": [
       "21"
      ],
      "text/latex": [
       "21"
      ],
      "text/markdown": [
       "21"
      ],
      "text/plain": [
       "[1] 21"
      ]
     },
     "metadata": {},
     "output_type": "display_data"
    }
   ],
   "source": [
    "my_number.plus7.another7 <- my_number.plus7 + 7\n",
    "my_number.plus7.another7"
   ]
  },
  {
   "cell_type": "markdown",
   "metadata": {},
   "source": [
    "While this would never work in Python, this is common practice for people coding in R"
   ]
  },
  {
   "cell_type": "markdown",
   "metadata": {},
   "source": [
    "### Operators\n",
    "\n",
    "Many of the operators in R and Python are the same while others are different."
   ]
  },
  {
   "cell_type": "code",
   "execution_count": 28,
   "metadata": {},
   "outputs": [
    {
     "data": {
      "text/html": [
       "13"
      ],
      "text/latex": [
       "13"
      ],
      "text/markdown": [
       "13"
      ],
      "text/plain": [
       "[1] 13"
      ]
     },
     "metadata": {},
     "output_type": "display_data"
    }
   ],
   "source": [
    "#addition\n",
    "9 + 4"
   ]
  },
  {
   "cell_type": "code",
   "execution_count": 29,
   "metadata": {},
   "outputs": [
    {
     "data": {
      "text/html": [
       "36"
      ],
      "text/latex": [
       "36"
      ],
      "text/markdown": [
       "36"
      ],
      "text/plain": [
       "[1] 36"
      ]
     },
     "metadata": {},
     "output_type": "display_data"
    }
   ],
   "source": [
    "#multiplication\n",
    "9 * 4"
   ]
  },
  {
   "cell_type": "code",
   "execution_count": 30,
   "metadata": {},
   "outputs": [
    {
     "data": {
      "text/html": [
       "2.25"
      ],
      "text/latex": [
       "2.25"
      ],
      "text/markdown": [
       "2.25"
      ],
      "text/plain": [
       "[1] 2.25"
      ]
     },
     "metadata": {},
     "output_type": "display_data"
    }
   ],
   "source": [
    "#division\n",
    "9 / 4"
   ]
  },
  {
   "cell_type": "code",
   "execution_count": 31,
   "metadata": {},
   "outputs": [
    {
     "data": {
      "text/html": [
       "6561"
      ],
      "text/latex": [
       "6561"
      ],
      "text/markdown": [
       "6561"
      ],
      "text/plain": [
       "[1] 6561"
      ]
     },
     "metadata": {},
     "output_type": "display_data"
    },
    {
     "data": {
      "text/html": [
       "6561"
      ],
      "text/latex": [
       "6561"
      ],
      "text/markdown": [
       "6561"
      ],
      "text/plain": [
       "[1] 6561"
      ]
     },
     "metadata": {},
     "output_type": "display_data"
    }
   ],
   "source": [
    "#exponentiation\n",
    "9 ^ 4\n",
    "9 ** 4"
   ]
  },
  {
   "cell_type": "code",
   "execution_count": 32,
   "metadata": {},
   "outputs": [
    {
     "data": {
      "text/html": [
       "2"
      ],
      "text/latex": [
       "2"
      ],
      "text/markdown": [
       "2"
      ],
      "text/plain": [
       "[1] 2"
      ]
     },
     "metadata": {},
     "output_type": "display_data"
    }
   ],
   "source": [
    "#integer division\n",
    "9 %/% 4"
   ]
  },
  {
   "cell_type": "code",
   "execution_count": 33,
   "metadata": {},
   "outputs": [
    {
     "data": {
      "text/html": [
       "1"
      ],
      "text/latex": [
       "1"
      ],
      "text/markdown": [
       "1"
      ],
      "text/plain": [
       "[1] 1"
      ]
     },
     "metadata": {},
     "output_type": "display_data"
    }
   ],
   "source": [
    "#modulo\n",
    "9 %% 4"
   ]
  },
  {
   "cell_type": "markdown",
   "metadata": {},
   "source": [
    "### Conditionals\n",
    "Conditional statements are nearly identical to Python. Note that the values for booleans in R are in upper case rather than title case."
   ]
  },
  {
   "cell_type": "code",
   "execution_count": 34,
   "metadata": {},
   "outputs": [
    {
     "data": {
      "text/html": [
       "TRUE"
      ],
      "text/latex": [
       "TRUE"
      ],
      "text/markdown": [
       "TRUE"
      ],
      "text/plain": [
       "[1] TRUE"
      ]
     },
     "metadata": {},
     "output_type": "display_data"
    }
   ],
   "source": [
    "3 == 3.0"
   ]
  },
  {
   "cell_type": "code",
   "execution_count": 35,
   "metadata": {},
   "outputs": [
    {
     "data": {
      "text/html": [
       "FALSE"
      ],
      "text/latex": [
       "FALSE"
      ],
      "text/markdown": [
       "FALSE"
      ],
      "text/plain": [
       "[1] FALSE"
      ]
     },
     "metadata": {},
     "output_type": "display_data"
    }
   ],
   "source": [
    "3 < 3"
   ]
  },
  {
   "cell_type": "code",
   "execution_count": 36,
   "metadata": {},
   "outputs": [
    {
     "data": {
      "text/html": [
       "TRUE"
      ],
      "text/latex": [
       "TRUE"
      ],
      "text/markdown": [
       "TRUE"
      ],
      "text/plain": [
       "[1] TRUE"
      ]
     },
     "metadata": {},
     "output_type": "display_data"
    }
   ],
   "source": [
    "3 <= 4"
   ]
  },
  {
   "cell_type": "code",
   "execution_count": 37,
   "metadata": {},
   "outputs": [
    {
     "data": {
      "text/html": [
       "TRUE"
      ],
      "text/latex": [
       "TRUE"
      ],
      "text/markdown": [
       "TRUE"
      ],
      "text/plain": [
       "[1] TRUE"
      ]
     },
     "metadata": {},
     "output_type": "display_data"
    }
   ],
   "source": [
    "3 != 4"
   ]
  },
  {
   "cell_type": "code",
   "execution_count": 38,
   "metadata": {},
   "outputs": [
    {
     "data": {
      "text/html": [
       "TRUE"
      ],
      "text/latex": [
       "TRUE"
      ],
      "text/markdown": [
       "TRUE"
      ],
      "text/plain": [
       "[1] TRUE"
      ]
     },
     "metadata": {},
     "output_type": "display_data"
    }
   ],
   "source": [
    "(4+3) >= (14/2)"
   ]
  },
  {
   "cell_type": "code",
   "execution_count": 39,
   "metadata": {},
   "outputs": [
    {
     "data": {
      "text/html": [
       "TRUE"
      ],
      "text/latex": [
       "TRUE"
      ],
      "text/markdown": [
       "TRUE"
      ],
      "text/plain": [
       "[1] TRUE"
      ]
     },
     "metadata": {},
     "output_type": "display_data"
    }
   ],
   "source": [
    "1 %in% c(1,4,5)"
   ]
  },
  {
   "cell_type": "code",
   "execution_count": 40,
   "metadata": {},
   "outputs": [
    {
     "data": {
      "text/html": [
       "FALSE"
      ],
      "text/latex": [
       "FALSE"
      ],
      "text/markdown": [
       "FALSE"
      ],
      "text/plain": [
       "[1] FALSE"
      ]
     },
     "metadata": {},
     "output_type": "display_data"
    }
   ],
   "source": [
    "is.element(1, c(2,3,4))"
   ]
  },
  {
   "cell_type": "code",
   "execution_count": 41,
   "metadata": {},
   "outputs": [
    {
     "data": {
      "text/html": [
       "1"
      ],
      "text/latex": [
       "1"
      ],
      "text/markdown": [
       "1"
      ],
      "text/plain": [
       "[1] 1"
      ]
     },
     "metadata": {},
     "output_type": "display_data"
    }
   ],
   "source": [
    "match(1, c(1,4,5)) #returns index of first match; else NA"
   ]
  },
  {
   "cell_type": "code",
   "execution_count": 42,
   "metadata": {},
   "outputs": [
    {
     "data": {
      "text/html": [
       "&lt;NA&gt;"
      ],
      "text/latex": [
       "<NA>"
      ],
      "text/markdown": [
       "&lt;NA&gt;"
      ],
      "text/plain": [
       "[1] NA"
      ]
     },
     "metadata": {},
     "output_type": "display_data"
    }
   ],
   "source": [
    "match(1, c(2,3,4))"
   ]
  },
  {
   "cell_type": "markdown",
   "metadata": {},
   "source": [
    "### Control Flow in R\n",
    "\n",
    "Conditional statements in R are quite similar to Python. However, the big difference is that indentation is no longer the determining factor in identifying code blocks. R uses curly braces to segment off sections of code. Let's try it below."
   ]
  },
  {
   "cell_type": "code",
   "execution_count": 44,
   "metadata": {},
   "outputs": [
    {
     "data": {
      "text/html": [
       "'odd'"
      ],
      "text/latex": [
       "'odd'"
      ],
      "text/markdown": [
       "'odd'"
      ],
      "text/plain": [
       "[1] \"odd\""
      ]
     },
     "metadata": {},
     "output_type": "display_data"
    }
   ],
   "source": [
    "i <- 7\n",
    "\n",
    "if (i %% 2 == 1) {\n",
    "    return('odd')\n",
    "} else {\n",
    "    return('even')\n",
    "}"
   ]
  },
  {
   "cell_type": "code",
   "execution_count": 45,
   "metadata": {},
   "outputs": [
    {
     "data": {
      "text/html": [
       "'not a whole number'"
      ],
      "text/latex": [
       "'not a whole number'"
      ],
      "text/markdown": [
       "'not a whole number'"
      ],
      "text/plain": [
       "[1] \"not a whole number\""
      ]
     },
     "metadata": {},
     "output_type": "display_data"
    }
   ],
   "source": [
    "i <- 7.1\n",
    "\n",
    "if (i %% 2 == 1) {\n",
    "    return('odd')\n",
    "} else if (i %% 2 == 0) {\n",
    "    return('even')\n",
    "} else {\n",
    "    return('not a whole number')\n",
    "}"
   ]
  },
  {
   "cell_type": "markdown",
   "metadata": {},
   "source": [
    "### For-Loops\n",
    "The structure of for-loops in R is very similar to if statements."
   ]
  },
  {
   "cell_type": "code",
   "execution_count": 46,
   "metadata": {},
   "outputs": [
    {
     "name": "stdout",
     "output_type": "stream",
     "text": [
      "[1] 1\n",
      "[1] 2\n",
      "[1] 3\n",
      "[1] 4\n",
      "[1] 5\n",
      "[1] 6\n",
      "[1] 7\n",
      "[1] 8\n",
      "[1] 9\n",
      "[1] 10\n"
     ]
    }
   ],
   "source": [
    "for (i in c(1:10)) {\n",
    "    print(i)\n",
    "}"
   ]
  },
  {
   "cell_type": "code",
   "execution_count": 53,
   "metadata": {},
   "outputs": [
    {
     "name": "stdout",
     "output_type": "stream",
     "text": [
      "[1] \"1\"   \"odd\"\n",
      "[1] \"2\"    \"even\"\n",
      "[1] \"3\"   \"odd\"\n",
      "[1] \"4\"    \"even\"\n",
      "[1] \"5\"   \"odd\"\n",
      "[1] \"6\"    \"even\"\n",
      "[1] \"7\"   \"odd\"\n",
      "[1] \"8\"    \"even\"\n",
      "[1] \"9\"   \"odd\"\n",
      "[1] \"10\"   \"even\"\n"
     ]
    }
   ],
   "source": [
    "for (i in c(1:10)) { #NOTE: c(1:10) is equivalent to range(1,11) in Python\n",
    "    if (i %% 2 == 0) {\n",
    "        print(c(i, 'even'))\n",
    "    } else {\n",
    "        print(c(i, 'odd'))\n",
    "    }\n",
    "}"
   ]
  },
  {
   "cell_type": "markdown",
   "metadata": {},
   "source": [
    "### Functions\n",
    "Functions act exactly as they do in Python. They allow you to store procedures that are accessible by passing arguments (if any). Let's write a simple one here."
   ]
  },
  {
   "cell_type": "code",
   "execution_count": 61,
   "metadata": {},
   "outputs": [],
   "source": [
    "determine_if_even <- function(x,y,z) {\n",
    "    if(x %% 2 == 0) {\n",
    "        return(TRUE)\n",
    "    } else {\n",
    "        return(FALSE)\n",
    "    }\n",
    "}"
   ]
  },
  {
   "cell_type": "code",
   "execution_count": 62,
   "metadata": {},
   "outputs": [
    {
     "data": {
      "text/html": [
       "FALSE"
      ],
      "text/latex": [
       "FALSE"
      ],
      "text/markdown": [
       "FALSE"
      ],
      "text/plain": [
       "[1] FALSE"
      ]
     },
     "metadata": {},
     "output_type": "display_data"
    },
    {
     "data": {
      "text/html": [
       "FALSE"
      ],
      "text/latex": [
       "FALSE"
      ],
      "text/markdown": [
       "FALSE"
      ],
      "text/plain": [
       "[1] FALSE"
      ]
     },
     "metadata": {},
     "output_type": "display_data"
    }
   ],
   "source": [
    "j <- 7\n",
    "determine_if_even(j)\n",
    "k <- 5\n",
    "m <- 4\n",
    "determine_if_even(k, m)"
   ]
  },
  {
   "cell_type": "code",
   "execution_count": 50,
   "metadata": {},
   "outputs": [
    {
     "name": "stdout",
     "output_type": "stream",
     "text": [
      "[1] 1 0\n",
      "[1] 2 1\n",
      "[1] 3 0\n",
      "[1] 4 1\n",
      "[1] 5 0\n",
      "[1] 6 1\n",
      "[1] 7 0\n",
      "[1] 8 1\n",
      "[1] 9 0\n",
      "[1] 10  1\n"
     ]
    }
   ],
   "source": [
    "for (i in c(1:10)) {\n",
    "    print(c(i, determine_if_even(i)))\n",
    "}"
   ]
  },
  {
   "cell_type": "markdown",
   "metadata": {},
   "source": [
    "### DataFrames\n",
    "\n",
    "Pandas DataFrames were derived from R DataFrames. Some of their functionality is similar but the syntax is very different. Let's go over a few of the basic commands."
   ]
  },
  {
   "cell_type": "code",
   "execution_count": 63,
   "metadata": {},
   "outputs": [],
   "source": [
    "df <- read.csv('students.csv')"
   ]
  },
  {
   "cell_type": "code",
   "execution_count": 64,
   "metadata": {},
   "outputs": [
    {
     "data": {
      "text/html": [
       "<table>\n",
       "<thead><tr><th scope=col>student_id</th><th scope=col>first</th><th scope=col>last</th><th scope=col>gender</th><th scope=col>class</th><th scope=col>major</th><th scope=col>gpa</th></tr></thead>\n",
       "<tbody>\n",
       "\t<tr><td>5a397209-3782-4764-a285-10fae807ee71</td><td>Janis                               </td><td>Brown                               </td><td>Female                              </td><td>Junior                              </td><td>Economics                           </td><td>3.12                                </td></tr>\n",
       "\t<tr><td>e26c3d69-3c74-49b6-81d7-47232787fad9</td><td>Timothy                             </td><td>Bishop                              </td><td>Male                                </td><td>Sophomore                           </td><td>Economics                           </td><td>3.48                                </td></tr>\n",
       "\t<tr><td>975c1581-5ba2-430c-a3d1-01ce03bd83f9</td><td>Elizabeth                           </td><td>Owens                               </td><td>Female                              </td><td>Freshman                            </td><td>Finance                             </td><td>3.40                                </td></tr>\n",
       "\t<tr><td>6081f91d-365c-46ce-ad1b-38af120781d9</td><td>Edward                              </td><td>Pearson                             </td><td>Male                                </td><td>Freshman                            </td><td>Math                                </td><td>3.84                                </td></tr>\n",
       "\t<tr><td>84cec8f4-0b64-44ce-a628-c0eb73f6ca6f</td><td>Lisa                                </td><td>Gonzalez                            </td><td>Female                              </td><td>Junior                              </td><td>Finance                             </td><td>4.00                                </td></tr>\n",
       "</tbody>\n",
       "</table>\n"
      ],
      "text/latex": [
       "\\begin{tabular}{r|lllllll}\n",
       " student\\_id & first & last & gender & class & major & gpa\\\\\n",
       "\\hline\n",
       "\t 5a397209-3782-4764-a285-10fae807ee71 & Janis                                & Brown                                & Female                               & Junior                               & Economics                            & 3.12                                \\\\\n",
       "\t e26c3d69-3c74-49b6-81d7-47232787fad9 & Timothy                              & Bishop                               & Male                                 & Sophomore                            & Economics                            & 3.48                                \\\\\n",
       "\t 975c1581-5ba2-430c-a3d1-01ce03bd83f9 & Elizabeth                            & Owens                                & Female                               & Freshman                             & Finance                              & 3.40                                \\\\\n",
       "\t 6081f91d-365c-46ce-ad1b-38af120781d9 & Edward                               & Pearson                              & Male                                 & Freshman                             & Math                                 & 3.84                                \\\\\n",
       "\t 84cec8f4-0b64-44ce-a628-c0eb73f6ca6f & Lisa                                 & Gonzalez                             & Female                               & Junior                               & Finance                              & 4.00                                \\\\\n",
       "\\end{tabular}\n"
      ],
      "text/markdown": [
       "\n",
       "student_id | first | last | gender | class | major | gpa | \n",
       "|---|---|---|---|---|\n",
       "| 5a397209-3782-4764-a285-10fae807ee71 | Janis                                | Brown                                | Female                               | Junior                               | Economics                            | 3.12                                 | \n",
       "| e26c3d69-3c74-49b6-81d7-47232787fad9 | Timothy                              | Bishop                               | Male                                 | Sophomore                            | Economics                            | 3.48                                 | \n",
       "| 975c1581-5ba2-430c-a3d1-01ce03bd83f9 | Elizabeth                            | Owens                                | Female                               | Freshman                             | Finance                              | 3.40                                 | \n",
       "| 6081f91d-365c-46ce-ad1b-38af120781d9 | Edward                               | Pearson                              | Male                                 | Freshman                             | Math                                 | 3.84                                 | \n",
       "| 84cec8f4-0b64-44ce-a628-c0eb73f6ca6f | Lisa                                 | Gonzalez                             | Female                               | Junior                               | Finance                              | 4.00                                 | \n",
       "\n",
       "\n"
      ],
      "text/plain": [
       "  student_id                           first     last     gender class    \n",
       "1 5a397209-3782-4764-a285-10fae807ee71 Janis     Brown    Female Junior   \n",
       "2 e26c3d69-3c74-49b6-81d7-47232787fad9 Timothy   Bishop   Male   Sophomore\n",
       "3 975c1581-5ba2-430c-a3d1-01ce03bd83f9 Elizabeth Owens    Female Freshman \n",
       "4 6081f91d-365c-46ce-ad1b-38af120781d9 Edward    Pearson  Male   Freshman \n",
       "5 84cec8f4-0b64-44ce-a628-c0eb73f6ca6f Lisa      Gonzalez Female Junior   \n",
       "  major     gpa \n",
       "1 Economics 3.12\n",
       "2 Economics 3.48\n",
       "3 Finance   3.40\n",
       "4 Math      3.84\n",
       "5 Finance   4.00"
      ]
     },
     "metadata": {},
     "output_type": "display_data"
    }
   ],
   "source": [
    "head(df, 5)"
   ]
  },
  {
   "cell_type": "code",
   "execution_count": 65,
   "metadata": {},
   "outputs": [
    {
     "data": {
      "text/html": [
       "<table>\n",
       "<thead><tr><th></th><th scope=col>student_id</th><th scope=col>first</th><th scope=col>last</th><th scope=col>gender</th><th scope=col>class</th><th scope=col>major</th><th scope=col>gpa</th></tr></thead>\n",
       "<tbody>\n",
       "\t<tr><th scope=row>9991</th><td>3927810e-476d-45db-b88c-660e00385ae5</td><td>Mable                               </td><td>Thompson                            </td><td>Female                              </td><td>Senior                              </td><td>Economics                           </td><td>3.74                                </td></tr>\n",
       "\t<tr><th scope=row>9992</th><td>6b8c4f7a-546d-41d5-978f-d461c287fba1</td><td>Joseph                              </td><td>Robinson                            </td><td>Male                                </td><td>Senior                              </td><td>Engineering                         </td><td>2.89                                </td></tr>\n",
       "\t<tr><th scope=row>9993</th><td>c32e6f19-817d-4e60-bf20-ed7ca573a7f7</td><td>Gladys                              </td><td>Paul                                </td><td>Female                              </td><td>Freshman                            </td><td>Chemistry                           </td><td>2.96                                </td></tr>\n",
       "\t<tr><th scope=row>9994</th><td>32606dc2-862b-45cc-b0ac-f2b24253abdf</td><td>Douglas                             </td><td>Haas                                </td><td>Male                                </td><td>Junior                              </td><td>Economics                           </td><td>3.73                                </td></tr>\n",
       "\t<tr><th scope=row>9995</th><td>8dc612f4-8150-4045-9e2d-cf160fb71da4</td><td>Brandy                              </td><td>Alford                              </td><td>Female                              </td><td>Senior                              </td><td>Economics                           </td><td>3.02                                </td></tr>\n",
       "\t<tr><th scope=row>9996</th><td>3f1f6525-3ec0-4184-b435-c829419bf582</td><td>Kendra                              </td><td>Bayer                               </td><td>Female                              </td><td>Sophomore                           </td><td>Finance                             </td><td>3.86                                </td></tr>\n",
       "\t<tr><th scope=row>9997</th><td>bc551659-ba48-447e-aa6a-0c2f49aaa9c1</td><td>Tonya                               </td><td>Burnett                             </td><td>Female                              </td><td>Senior                              </td><td>Economics                           </td><td>3.94                                </td></tr>\n",
       "\t<tr><th scope=row>9998</th><td>4884e643-4a94-4362-a422-604763401487</td><td>Deborah                             </td><td>Conley                              </td><td>Female                              </td><td>Senior                              </td><td>Engineering                         </td><td>3.28                                </td></tr>\n",
       "\t<tr><th scope=row>9999</th><td>034754f5-50dd-42e5-a916-cc6c9d9d0131</td><td>David                               </td><td>Seay                                </td><td>Male                                </td><td>Senior                              </td><td>Math                                </td><td>3.14                                </td></tr>\n",
       "\t<tr><th scope=row>10000</th><td>75c02f31-566f-439e-875e-5af9fe412977</td><td>Cheryl                              </td><td>Edwards                             </td><td>Female                              </td><td>Junior                              </td><td>Engineering                         </td><td>2.93                                </td></tr>\n",
       "</tbody>\n",
       "</table>\n"
      ],
      "text/latex": [
       "\\begin{tabular}{r|lllllll}\n",
       "  & student\\_id & first & last & gender & class & major & gpa\\\\\n",
       "\\hline\n",
       "\t9991 & 3927810e-476d-45db-b88c-660e00385ae5 & Mable                                & Thompson                             & Female                               & Senior                               & Economics                            & 3.74                                \\\\\n",
       "\t9992 & 6b8c4f7a-546d-41d5-978f-d461c287fba1 & Joseph                               & Robinson                             & Male                                 & Senior                               & Engineering                          & 2.89                                \\\\\n",
       "\t9993 & c32e6f19-817d-4e60-bf20-ed7ca573a7f7 & Gladys                               & Paul                                 & Female                               & Freshman                             & Chemistry                            & 2.96                                \\\\\n",
       "\t9994 & 32606dc2-862b-45cc-b0ac-f2b24253abdf & Douglas                              & Haas                                 & Male                                 & Junior                               & Economics                            & 3.73                                \\\\\n",
       "\t9995 & 8dc612f4-8150-4045-9e2d-cf160fb71da4 & Brandy                               & Alford                               & Female                               & Senior                               & Economics                            & 3.02                                \\\\\n",
       "\t9996 & 3f1f6525-3ec0-4184-b435-c829419bf582 & Kendra                               & Bayer                                & Female                               & Sophomore                            & Finance                              & 3.86                                \\\\\n",
       "\t9997 & bc551659-ba48-447e-aa6a-0c2f49aaa9c1 & Tonya                                & Burnett                              & Female                               & Senior                               & Economics                            & 3.94                                \\\\\n",
       "\t9998 & 4884e643-4a94-4362-a422-604763401487 & Deborah                              & Conley                               & Female                               & Senior                               & Engineering                          & 3.28                                \\\\\n",
       "\t9999 & 034754f5-50dd-42e5-a916-cc6c9d9d0131 & David                                & Seay                                 & Male                                 & Senior                               & Math                                 & 3.14                                \\\\\n",
       "\t10000 & 75c02f31-566f-439e-875e-5af9fe412977 & Cheryl                               & Edwards                              & Female                               & Junior                               & Engineering                          & 2.93                                \\\\\n",
       "\\end{tabular}\n"
      ],
      "text/markdown": [
       "\n",
       "| <!--/--> | student_id | first | last | gender | class | major | gpa | \n",
       "|---|---|---|---|---|---|---|---|---|---|\n",
       "| 9991 | 3927810e-476d-45db-b88c-660e00385ae5 | Mable                                | Thompson                             | Female                               | Senior                               | Economics                            | 3.74                                 | \n",
       "| 9992 | 6b8c4f7a-546d-41d5-978f-d461c287fba1 | Joseph                               | Robinson                             | Male                                 | Senior                               | Engineering                          | 2.89                                 | \n",
       "| 9993 | c32e6f19-817d-4e60-bf20-ed7ca573a7f7 | Gladys                               | Paul                                 | Female                               | Freshman                             | Chemistry                            | 2.96                                 | \n",
       "| 9994 | 32606dc2-862b-45cc-b0ac-f2b24253abdf | Douglas                              | Haas                                 | Male                                 | Junior                               | Economics                            | 3.73                                 | \n",
       "| 9995 | 8dc612f4-8150-4045-9e2d-cf160fb71da4 | Brandy                               | Alford                               | Female                               | Senior                               | Economics                            | 3.02                                 | \n",
       "| 9996 | 3f1f6525-3ec0-4184-b435-c829419bf582 | Kendra                               | Bayer                                | Female                               | Sophomore                            | Finance                              | 3.86                                 | \n",
       "| 9997 | bc551659-ba48-447e-aa6a-0c2f49aaa9c1 | Tonya                                | Burnett                              | Female                               | Senior                               | Economics                            | 3.94                                 | \n",
       "| 9998 | 4884e643-4a94-4362-a422-604763401487 | Deborah                              | Conley                               | Female                               | Senior                               | Engineering                          | 3.28                                 | \n",
       "| 9999 | 034754f5-50dd-42e5-a916-cc6c9d9d0131 | David                                | Seay                                 | Male                                 | Senior                               | Math                                 | 3.14                                 | \n",
       "| 10000 | 75c02f31-566f-439e-875e-5af9fe412977 | Cheryl                               | Edwards                              | Female                               | Junior                               | Engineering                          | 2.93                                 | \n",
       "\n",
       "\n"
      ],
      "text/plain": [
       "      student_id                           first   last     gender class    \n",
       "9991  3927810e-476d-45db-b88c-660e00385ae5 Mable   Thompson Female Senior   \n",
       "9992  6b8c4f7a-546d-41d5-978f-d461c287fba1 Joseph  Robinson Male   Senior   \n",
       "9993  c32e6f19-817d-4e60-bf20-ed7ca573a7f7 Gladys  Paul     Female Freshman \n",
       "9994  32606dc2-862b-45cc-b0ac-f2b24253abdf Douglas Haas     Male   Junior   \n",
       "9995  8dc612f4-8150-4045-9e2d-cf160fb71da4 Brandy  Alford   Female Senior   \n",
       "9996  3f1f6525-3ec0-4184-b435-c829419bf582 Kendra  Bayer    Female Sophomore\n",
       "9997  bc551659-ba48-447e-aa6a-0c2f49aaa9c1 Tonya   Burnett  Female Senior   \n",
       "9998  4884e643-4a94-4362-a422-604763401487 Deborah Conley   Female Senior   \n",
       "9999  034754f5-50dd-42e5-a916-cc6c9d9d0131 David   Seay     Male   Senior   \n",
       "10000 75c02f31-566f-439e-875e-5af9fe412977 Cheryl  Edwards  Female Junior   \n",
       "      major       gpa \n",
       "9991  Economics   3.74\n",
       "9992  Engineering 2.89\n",
       "9993  Chemistry   2.96\n",
       "9994  Economics   3.73\n",
       "9995  Economics   3.02\n",
       "9996  Finance     3.86\n",
       "9997  Economics   3.94\n",
       "9998  Engineering 3.28\n",
       "9999  Math        3.14\n",
       "10000 Engineering 2.93"
      ]
     },
     "metadata": {},
     "output_type": "display_data"
    }
   ],
   "source": [
    "tail(df, 10)"
   ]
  },
  {
   "cell_type": "code",
   "execution_count": 66,
   "metadata": {},
   "outputs": [
    {
     "data": {
      "text/html": [
       "<table>\n",
       "<thead><tr><th scope=col>student_id</th><th scope=col>first</th><th scope=col>last</th><th scope=col>gender</th><th scope=col>class</th><th scope=col>major</th><th scope=col>gpa</th></tr></thead>\n",
       "<tbody>\n",
       "\t<tr><td>5a397209-3782-4764-a285-10fae807ee71</td><td>Janis                               </td><td>Brown                               </td><td>Female                              </td><td>Junior                              </td><td>Economics                           </td><td>3.12                                </td></tr>\n",
       "</tbody>\n",
       "</table>\n"
      ],
      "text/latex": [
       "\\begin{tabular}{r|lllllll}\n",
       " student\\_id & first & last & gender & class & major & gpa\\\\\n",
       "\\hline\n",
       "\t 5a397209-3782-4764-a285-10fae807ee71 & Janis                                & Brown                                & Female                               & Junior                               & Economics                            & 3.12                                \\\\\n",
       "\\end{tabular}\n"
      ],
      "text/markdown": [
       "\n",
       "student_id | first | last | gender | class | major | gpa | \n",
       "|---|\n",
       "| 5a397209-3782-4764-a285-10fae807ee71 | Janis                                | Brown                                | Female                               | Junior                               | Economics                            | 3.12                                 | \n",
       "\n",
       "\n"
      ],
      "text/plain": [
       "  student_id                           first last  gender class  major     gpa \n",
       "1 5a397209-3782-4764-a285-10fae807ee71 Janis Brown Female Junior Economics 3.12"
      ]
     },
     "metadata": {},
     "output_type": "display_data"
    }
   ],
   "source": [
    "df[1,]"
   ]
  },
  {
   "cell_type": "code",
   "execution_count": 67,
   "metadata": {},
   "outputs": [
    {
     "data": {
      "text/html": [
       "<table>\n",
       "<thead><tr><th></th><th scope=col>student_id</th><th scope=col>first</th><th scope=col>last</th></tr></thead>\n",
       "<tbody>\n",
       "\t<tr><th scope=row>1</th><td>5a397209-3782-4764-a285-10fae807ee71</td><td>Janis                               </td><td>Brown                               </td></tr>\n",
       "\t<tr><th scope=row>3</th><td>975c1581-5ba2-430c-a3d1-01ce03bd83f9</td><td>Elizabeth                           </td><td>Owens                               </td></tr>\n",
       "\t<tr><th scope=row>4</th><td>6081f91d-365c-46ce-ad1b-38af120781d9</td><td>Edward                              </td><td>Pearson                             </td></tr>\n",
       "</tbody>\n",
       "</table>\n"
      ],
      "text/latex": [
       "\\begin{tabular}{r|lll}\n",
       "  & student\\_id & first & last\\\\\n",
       "\\hline\n",
       "\t1 & 5a397209-3782-4764-a285-10fae807ee71 & Janis                                & Brown                               \\\\\n",
       "\t3 & 975c1581-5ba2-430c-a3d1-01ce03bd83f9 & Elizabeth                            & Owens                               \\\\\n",
       "\t4 & 6081f91d-365c-46ce-ad1b-38af120781d9 & Edward                               & Pearson                             \\\\\n",
       "\\end{tabular}\n"
      ],
      "text/markdown": [
       "\n",
       "| <!--/--> | student_id | first | last | \n",
       "|---|---|---|\n",
       "| 1 | 5a397209-3782-4764-a285-10fae807ee71 | Janis                                | Brown                                | \n",
       "| 3 | 975c1581-5ba2-430c-a3d1-01ce03bd83f9 | Elizabeth                            | Owens                                | \n",
       "| 4 | 6081f91d-365c-46ce-ad1b-38af120781d9 | Edward                               | Pearson                              | \n",
       "\n",
       "\n"
      ],
      "text/plain": [
       "  student_id                           first     last   \n",
       "1 5a397209-3782-4764-a285-10fae807ee71 Janis     Brown  \n",
       "3 975c1581-5ba2-430c-a3d1-01ce03bd83f9 Elizabeth Owens  \n",
       "4 6081f91d-365c-46ce-ad1b-38af120781d9 Edward    Pearson"
      ]
     },
     "metadata": {},
     "output_type": "display_data"
    }
   ],
   "source": [
    "df[c(1,3,4),c('student_id', 'first', 'last')]"
   ]
  },
  {
   "cell_type": "code",
   "execution_count": 69,
   "metadata": {},
   "outputs": [
    {
     "data": {
      "text/html": [
       "<table>\n",
       "<thead><tr><th></th><th scope=col>student_id</th><th scope=col>last</th><th scope=col>first</th></tr></thead>\n",
       "<tbody>\n",
       "\t<tr><th scope=row>1</th><td>5a397209-3782-4764-a285-10fae807ee71</td><td>Brown                               </td><td>Janis                               </td></tr>\n",
       "\t<tr><th scope=row>3</th><td>975c1581-5ba2-430c-a3d1-01ce03bd83f9</td><td>Owens                               </td><td>Elizabeth                           </td></tr>\n",
       "\t<tr><th scope=row>4</th><td>6081f91d-365c-46ce-ad1b-38af120781d9</td><td>Pearson                             </td><td>Edward                              </td></tr>\n",
       "</tbody>\n",
       "</table>\n"
      ],
      "text/latex": [
       "\\begin{tabular}{r|lll}\n",
       "  & student\\_id & last & first\\\\\n",
       "\\hline\n",
       "\t1 & 5a397209-3782-4764-a285-10fae807ee71 & Brown                                & Janis                               \\\\\n",
       "\t3 & 975c1581-5ba2-430c-a3d1-01ce03bd83f9 & Owens                                & Elizabeth                           \\\\\n",
       "\t4 & 6081f91d-365c-46ce-ad1b-38af120781d9 & Pearson                              & Edward                              \\\\\n",
       "\\end{tabular}\n"
      ],
      "text/markdown": [
       "\n",
       "| <!--/--> | student_id | last | first | \n",
       "|---|---|---|\n",
       "| 1 | 5a397209-3782-4764-a285-10fae807ee71 | Brown                                | Janis                                | \n",
       "| 3 | 975c1581-5ba2-430c-a3d1-01ce03bd83f9 | Owens                                | Elizabeth                            | \n",
       "| 4 | 6081f91d-365c-46ce-ad1b-38af120781d9 | Pearson                              | Edward                               | \n",
       "\n",
       "\n"
      ],
      "text/plain": [
       "  student_id                           last    first    \n",
       "1 5a397209-3782-4764-a285-10fae807ee71 Brown   Janis    \n",
       "3 975c1581-5ba2-430c-a3d1-01ce03bd83f9 Owens   Elizabeth\n",
       "4 6081f91d-365c-46ce-ad1b-38af120781d9 Pearson Edward   "
      ]
     },
     "metadata": {},
     "output_type": "display_data"
    }
   ],
   "source": [
    "df[c(1,3,4), c(1,3,2)]"
   ]
  },
  {
   "cell_type": "code",
   "execution_count": 72,
   "metadata": {},
   "outputs": [
    {
     "data": {
      "text/html": [
       "'factor'"
      ],
      "text/latex": [
       "'factor'"
      ],
      "text/markdown": [
       "'factor'"
      ],
      "text/plain": [
       "[1] \"factor\""
      ]
     },
     "metadata": {},
     "output_type": "display_data"
    }
   ],
   "source": [
    "student.genders <- df$student_id\n",
    "class(student.genders)"
   ]
  },
  {
   "cell_type": "code",
   "execution_count": 73,
   "metadata": {},
   "outputs": [
    {
     "data": {
      "text/html": [
       "<table>\n",
       "<thead><tr><th></th><th scope=col>student_id</th><th scope=col>first</th><th scope=col>last</th><th scope=col>gender</th><th scope=col>class</th><th scope=col>major</th><th scope=col>gpa</th></tr></thead>\n",
       "<tbody>\n",
       "\t<tr><th scope=row>2</th><td>e26c3d69-3c74-49b6-81d7-47232787fad9</td><td>Timothy                             </td><td>Bishop                              </td><td>Male                                </td><td>Sophomore                           </td><td>Economics                           </td><td>3.48                                </td></tr>\n",
       "\t<tr><th scope=row>4</th><td>6081f91d-365c-46ce-ad1b-38af120781d9</td><td>Edward                              </td><td>Pearson                             </td><td>Male                                </td><td>Freshman                            </td><td>Math                                </td><td>3.84                                </td></tr>\n",
       "\t<tr><th scope=row>6</th><td>6c849c3e-e640-4bba-a86a-4323fd513b90</td><td>Alphonse                            </td><td>Allen                               </td><td>Male                                </td><td>Freshman                            </td><td>Engineering                         </td><td>2.99                                </td></tr>\n",
       "\t<tr><th scope=row>7</th><td>a5c87c39-447c-4c29-92af-fa702a8d5595</td><td>Linwood                             </td><td>Coleman                             </td><td>Male                                </td><td>Freshman                            </td><td>Engineering                         </td><td>3.58                                </td></tr>\n",
       "\t<tr><th scope=row>8</th><td>f6b177e8-e00a-480e-b62e-906c2ad80f85</td><td>Arthur                              </td><td>Mccolpin                            </td><td>Male                                </td><td>Junior                              </td><td>Math                                </td><td>3.04                                </td></tr>\n",
       "\t<tr><th scope=row>9</th><td>8387594f-c9b2-4daa-ae93-c3e40f58cb26</td><td>Daniel                              </td><td>Carter                              </td><td>Male                                </td><td>Junior                              </td><td>Chemistry                           </td><td>2.41                                </td></tr>\n",
       "</tbody>\n",
       "</table>\n"
      ],
      "text/latex": [
       "\\begin{tabular}{r|lllllll}\n",
       "  & student\\_id & first & last & gender & class & major & gpa\\\\\n",
       "\\hline\n",
       "\t2 & e26c3d69-3c74-49b6-81d7-47232787fad9 & Timothy                              & Bishop                               & Male                                 & Sophomore                            & Economics                            & 3.48                                \\\\\n",
       "\t4 & 6081f91d-365c-46ce-ad1b-38af120781d9 & Edward                               & Pearson                              & Male                                 & Freshman                             & Math                                 & 3.84                                \\\\\n",
       "\t6 & 6c849c3e-e640-4bba-a86a-4323fd513b90 & Alphonse                             & Allen                                & Male                                 & Freshman                             & Engineering                          & 2.99                                \\\\\n",
       "\t7 & a5c87c39-447c-4c29-92af-fa702a8d5595 & Linwood                              & Coleman                              & Male                                 & Freshman                             & Engineering                          & 3.58                                \\\\\n",
       "\t8 & f6b177e8-e00a-480e-b62e-906c2ad80f85 & Arthur                               & Mccolpin                             & Male                                 & Junior                               & Math                                 & 3.04                                \\\\\n",
       "\t9 & 8387594f-c9b2-4daa-ae93-c3e40f58cb26 & Daniel                               & Carter                               & Male                                 & Junior                               & Chemistry                            & 2.41                                \\\\\n",
       "\\end{tabular}\n"
      ],
      "text/markdown": [
       "\n",
       "| <!--/--> | student_id | first | last | gender | class | major | gpa | \n",
       "|---|---|---|---|---|---|\n",
       "| 2 | e26c3d69-3c74-49b6-81d7-47232787fad9 | Timothy                              | Bishop                               | Male                                 | Sophomore                            | Economics                            | 3.48                                 | \n",
       "| 4 | 6081f91d-365c-46ce-ad1b-38af120781d9 | Edward                               | Pearson                              | Male                                 | Freshman                             | Math                                 | 3.84                                 | \n",
       "| 6 | 6c849c3e-e640-4bba-a86a-4323fd513b90 | Alphonse                             | Allen                                | Male                                 | Freshman                             | Engineering                          | 2.99                                 | \n",
       "| 7 | a5c87c39-447c-4c29-92af-fa702a8d5595 | Linwood                              | Coleman                              | Male                                 | Freshman                             | Engineering                          | 3.58                                 | \n",
       "| 8 | f6b177e8-e00a-480e-b62e-906c2ad80f85 | Arthur                               | Mccolpin                             | Male                                 | Junior                               | Math                                 | 3.04                                 | \n",
       "| 9 | 8387594f-c9b2-4daa-ae93-c3e40f58cb26 | Daniel                               | Carter                               | Male                                 | Junior                               | Chemistry                            | 2.41                                 | \n",
       "\n",
       "\n"
      ],
      "text/plain": [
       "  student_id                           first    last     gender class    \n",
       "2 e26c3d69-3c74-49b6-81d7-47232787fad9 Timothy  Bishop   Male   Sophomore\n",
       "4 6081f91d-365c-46ce-ad1b-38af120781d9 Edward   Pearson  Male   Freshman \n",
       "6 6c849c3e-e640-4bba-a86a-4323fd513b90 Alphonse Allen    Male   Freshman \n",
       "7 a5c87c39-447c-4c29-92af-fa702a8d5595 Linwood  Coleman  Male   Freshman \n",
       "8 f6b177e8-e00a-480e-b62e-906c2ad80f85 Arthur   Mccolpin Male   Junior   \n",
       "9 8387594f-c9b2-4daa-ae93-c3e40f58cb26 Daniel   Carter   Male   Junior   \n",
       "  major       gpa \n",
       "2 Economics   3.48\n",
       "4 Math        3.84\n",
       "6 Engineering 2.99\n",
       "7 Engineering 3.58\n",
       "8 Math        3.04\n",
       "9 Chemistry   2.41"
      ]
     },
     "metadata": {},
     "output_type": "display_data"
    }
   ],
   "source": [
    "male_df <- subset(df, gender=='Male')\n",
    "head(male_df)"
   ]
  },
  {
   "cell_type": "code",
   "execution_count": 84,
   "metadata": {},
   "outputs": [
    {
     "data": {
      "text/html": [
       "<table>\n",
       "<thead><tr><th></th><th scope=col>student_id</th><th scope=col>first</th><th scope=col>last</th><th scope=col>gender</th><th scope=col>class</th><th scope=col>major</th><th scope=col>gpa</th></tr></thead>\n",
       "<tbody>\n",
       "\t<tr><th scope=row>1</th><td>5a397209-3782-4764-a285-10fae807ee71</td><td>Janis                               </td><td>Brown                               </td><td>Female                              </td><td>Junior                              </td><td>Economics                           </td><td>3.12                                </td></tr>\n",
       "\t<tr><th scope=row>13</th><td>1846c044-9a87-49e4-ad4f-d1bfadb4e41b</td><td>Lisa                                </td><td>Walden                              </td><td>Female                              </td><td>Senior                              </td><td>Economics                           </td><td>3.40                                </td></tr>\n",
       "\t<tr><th scope=row>16</th><td>35de9214-505e-4d55-80e6-0302098a44b6</td><td>Joan                                </td><td>Decoteau                            </td><td>Female                              </td><td>Senior                              </td><td>Economics                           </td><td>3.81                                </td></tr>\n",
       "\t<tr><th scope=row>44</th><td>667a8999-3765-4a83-bc64-612f64a2011e</td><td>Tosha                               </td><td>Flanagan                            </td><td>Female                              </td><td>Junior                              </td><td>Economics                           </td><td>3.92                                </td></tr>\n",
       "\t<tr><th scope=row>50</th><td>ee1ce005-5671-431b-b832-61452d15ad76</td><td>Yvonne                              </td><td>Delo                                </td><td>Female                              </td><td>Sophomore                           </td><td>Economics                           </td><td>2.87                                </td></tr>\n",
       "\t<tr><th scope=row>55</th><td>ed1f11d4-cf19-4792-83dd-0f9fea5a4692</td><td>Karla                               </td><td>Cota                                </td><td>Female                              </td><td>Junior                              </td><td>Economics                           </td><td>3.12                                </td></tr>\n",
       "</tbody>\n",
       "</table>\n"
      ],
      "text/latex": [
       "\\begin{tabular}{r|lllllll}\n",
       "  & student\\_id & first & last & gender & class & major & gpa\\\\\n",
       "\\hline\n",
       "\t1 & 5a397209-3782-4764-a285-10fae807ee71 & Janis                                & Brown                                & Female                               & Junior                               & Economics                            & 3.12                                \\\\\n",
       "\t13 & 1846c044-9a87-49e4-ad4f-d1bfadb4e41b & Lisa                                 & Walden                               & Female                               & Senior                               & Economics                            & 3.40                                \\\\\n",
       "\t16 & 35de9214-505e-4d55-80e6-0302098a44b6 & Joan                                 & Decoteau                             & Female                               & Senior                               & Economics                            & 3.81                                \\\\\n",
       "\t44 & 667a8999-3765-4a83-bc64-612f64a2011e & Tosha                                & Flanagan                             & Female                               & Junior                               & Economics                            & 3.92                                \\\\\n",
       "\t50 & ee1ce005-5671-431b-b832-61452d15ad76 & Yvonne                               & Delo                                 & Female                               & Sophomore                            & Economics                            & 2.87                                \\\\\n",
       "\t55 & ed1f11d4-cf19-4792-83dd-0f9fea5a4692 & Karla                                & Cota                                 & Female                               & Junior                               & Economics                            & 3.12                                \\\\\n",
       "\\end{tabular}\n"
      ],
      "text/markdown": [
       "\n",
       "| <!--/--> | student_id | first | last | gender | class | major | gpa | \n",
       "|---|---|---|---|---|---|\n",
       "| 1 | 5a397209-3782-4764-a285-10fae807ee71 | Janis                                | Brown                                | Female                               | Junior                               | Economics                            | 3.12                                 | \n",
       "| 13 | 1846c044-9a87-49e4-ad4f-d1bfadb4e41b | Lisa                                 | Walden                               | Female                               | Senior                               | Economics                            | 3.40                                 | \n",
       "| 16 | 35de9214-505e-4d55-80e6-0302098a44b6 | Joan                                 | Decoteau                             | Female                               | Senior                               | Economics                            | 3.81                                 | \n",
       "| 44 | 667a8999-3765-4a83-bc64-612f64a2011e | Tosha                                | Flanagan                             | Female                               | Junior                               | Economics                            | 3.92                                 | \n",
       "| 50 | ee1ce005-5671-431b-b832-61452d15ad76 | Yvonne                               | Delo                                 | Female                               | Sophomore                            | Economics                            | 2.87                                 | \n",
       "| 55 | ed1f11d4-cf19-4792-83dd-0f9fea5a4692 | Karla                                | Cota                                 | Female                               | Junior                               | Economics                            | 3.12                                 | \n",
       "\n",
       "\n"
      ],
      "text/plain": [
       "   student_id                           first  last     gender class    \n",
       "1  5a397209-3782-4764-a285-10fae807ee71 Janis  Brown    Female Junior   \n",
       "13 1846c044-9a87-49e4-ad4f-d1bfadb4e41b Lisa   Walden   Female Senior   \n",
       "16 35de9214-505e-4d55-80e6-0302098a44b6 Joan   Decoteau Female Senior   \n",
       "44 667a8999-3765-4a83-bc64-612f64a2011e Tosha  Flanagan Female Junior   \n",
       "50 ee1ce005-5671-431b-b832-61452d15ad76 Yvonne Delo     Female Sophomore\n",
       "55 ed1f11d4-cf19-4792-83dd-0f9fea5a4692 Karla  Cota     Female Junior   \n",
       "   major     gpa \n",
       "1  Economics 3.12\n",
       "13 Economics 3.40\n",
       "16 Economics 3.81\n",
       "44 Economics 3.92\n",
       "50 Economics 2.87\n",
       "55 Economics 3.12"
      ]
     },
     "metadata": {},
     "output_type": "display_data"
    }
   ],
   "source": [
    "female_econ_df <- subset(df, gender=='Female' & major=='Economics')\n",
    "head(female_econ_df)"
   ]
  },
  {
   "cell_type": "code",
   "execution_count": 82,
   "metadata": {},
   "outputs": [
    {
     "data": {
      "text/html": [
       "<table>\n",
       "<thead><tr><th></th><th scope=col>student_id</th><th scope=col>first</th><th scope=col>last</th><th scope=col>gender</th><th scope=col>class</th><th scope=col>major</th><th scope=col>gpa</th></tr></thead>\n",
       "<tbody>\n",
       "\t<tr><th scope=row>48</th><td>4260cfbb-cf43-4049-b03c-75143f64c52d</td><td>Omar                                </td><td>Gaston                              </td><td>Male                                </td><td>Junior                              </td><td>Engineering                         </td><td>3.86                                </td></tr>\n",
       "\t<tr><th scope=row>488</th><td>d53370d0-30fa-4f46-be05-7d0edd6f0322</td><td>Michael                             </td><td>Greco                               </td><td>Male                                </td><td>Senior                              </td><td>Engineering                         </td><td>3.78                                </td></tr>\n",
       "\t<tr><th scope=row>853</th><td>3e366b15-cb12-47e0-93f1-b9d4af23209f</td><td>Patrick                             </td><td>Exline                              </td><td>Male                                </td><td>Junior                              </td><td>Engineering                         </td><td>3.79                                </td></tr>\n",
       "\t<tr><th scope=row>1105</th><td>458a5ae3-4069-4f0d-8169-777bbd558e79</td><td>Gary                                </td><td>Mojica                              </td><td>Male                                </td><td>Senior                              </td><td>Engineering                         </td><td>4.00                                </td></tr>\n",
       "\t<tr><th scope=row>1224</th><td>08b8617d-6206-4636-826d-7ab66e91b0b4</td><td>Luis                                </td><td>Pool                                </td><td>Male                                </td><td>Senior                              </td><td>Engineering                         </td><td>3.88                                </td></tr>\n",
       "\t<tr><th scope=row>1295</th><td>bfa95934-e80f-4db7-8150-23bd42e9d838</td><td>Mark                                </td><td>Fuller                              </td><td>Male                                </td><td>Sophomore                           </td><td>Engineering                         </td><td>3.72                                </td></tr>\n",
       "</tbody>\n",
       "</table>\n"
      ],
      "text/latex": [
       "\\begin{tabular}{r|lllllll}\n",
       "  & student\\_id & first & last & gender & class & major & gpa\\\\\n",
       "\\hline\n",
       "\t48 & 4260cfbb-cf43-4049-b03c-75143f64c52d & Omar                                 & Gaston                               & Male                                 & Junior                               & Engineering                          & 3.86                                \\\\\n",
       "\t488 & d53370d0-30fa-4f46-be05-7d0edd6f0322 & Michael                              & Greco                                & Male                                 & Senior                               & Engineering                          & 3.78                                \\\\\n",
       "\t853 & 3e366b15-cb12-47e0-93f1-b9d4af23209f & Patrick                              & Exline                               & Male                                 & Junior                               & Engineering                          & 3.79                                \\\\\n",
       "\t1105 & 458a5ae3-4069-4f0d-8169-777bbd558e79 & Gary                                 & Mojica                               & Male                                 & Senior                               & Engineering                          & 4.00                                \\\\\n",
       "\t1224 & 08b8617d-6206-4636-826d-7ab66e91b0b4 & Luis                                 & Pool                                 & Male                                 & Senior                               & Engineering                          & 3.88                                \\\\\n",
       "\t1295 & bfa95934-e80f-4db7-8150-23bd42e9d838 & Mark                                 & Fuller                               & Male                                 & Sophomore                            & Engineering                          & 3.72                                \\\\\n",
       "\\end{tabular}\n"
      ],
      "text/markdown": [
       "\n",
       "| <!--/--> | student_id | first | last | gender | class | major | gpa | \n",
       "|---|---|---|---|---|---|\n",
       "| 48 | 4260cfbb-cf43-4049-b03c-75143f64c52d | Omar                                 | Gaston                               | Male                                 | Junior                               | Engineering                          | 3.86                                 | \n",
       "| 488 | d53370d0-30fa-4f46-be05-7d0edd6f0322 | Michael                              | Greco                                | Male                                 | Senior                               | Engineering                          | 3.78                                 | \n",
       "| 853 | 3e366b15-cb12-47e0-93f1-b9d4af23209f | Patrick                              | Exline                               | Male                                 | Junior                               | Engineering                          | 3.79                                 | \n",
       "| 1105 | 458a5ae3-4069-4f0d-8169-777bbd558e79 | Gary                                 | Mojica                               | Male                                 | Senior                               | Engineering                          | 4.00                                 | \n",
       "| 1224 | 08b8617d-6206-4636-826d-7ab66e91b0b4 | Luis                                 | Pool                                 | Male                                 | Senior                               | Engineering                          | 3.88                                 | \n",
       "| 1295 | bfa95934-e80f-4db7-8150-23bd42e9d838 | Mark                                 | Fuller                               | Male                                 | Sophomore                            | Engineering                          | 3.72                                 | \n",
       "\n",
       "\n"
      ],
      "text/plain": [
       "     student_id                           first   last   gender class    \n",
       "48   4260cfbb-cf43-4049-b03c-75143f64c52d Omar    Gaston Male   Junior   \n",
       "488  d53370d0-30fa-4f46-be05-7d0edd6f0322 Michael Greco  Male   Senior   \n",
       "853  3e366b15-cb12-47e0-93f1-b9d4af23209f Patrick Exline Male   Junior   \n",
       "1105 458a5ae3-4069-4f0d-8169-777bbd558e79 Gary    Mojica Male   Senior   \n",
       "1224 08b8617d-6206-4636-826d-7ab66e91b0b4 Luis    Pool   Male   Senior   \n",
       "1295 bfa95934-e80f-4db7-8150-23bd42e9d838 Mark    Fuller Male   Sophomore\n",
       "     major       gpa \n",
       "48   Engineering 3.86\n",
       "488  Engineering 3.78\n",
       "853  Engineering 3.79\n",
       "1105 Engineering 4.00\n",
       "1224 Engineering 3.88\n",
       "1295 Engineering 3.72"
      ]
     },
     "metadata": {},
     "output_type": "display_data"
    },
    {
     "data": {
      "text/html": [
       "7"
      ],
      "text/latex": [
       "7"
      ],
      "text/markdown": [
       "7"
      ],
      "text/plain": [
       "[1] 7"
      ]
     },
     "metadata": {},
     "output_type": "display_data"
    }
   ],
   "source": [
    "male_engineering_honors <- subset(df, gender=='Male' & major=='Engineering' & gpa >= 3.7)\n",
    "head(male_engineering_honors)\n",
    "length(male_engineering_honors)"
   ]
  },
  {
   "cell_type": "code",
   "execution_count": 76,
   "metadata": {},
   "outputs": [
    {
     "data": {
      "text/html": [
       "3.49570666666667"
      ],
      "text/latex": [
       "3.49570666666667"
      ],
      "text/markdown": [
       "3.49570666666667"
      ],
      "text/plain": [
       "[1] 3.495707"
      ]
     },
     "metadata": {},
     "output_type": "display_data"
    },
    {
     "data": {
      "text/html": [
       "0.323743067371853"
      ],
      "text/latex": [
       "0.323743067371853"
      ],
      "text/markdown": [
       "0.323743067371853"
      ],
      "text/plain": [
       "[1] 0.3237431"
      ]
     },
     "metadata": {},
     "output_type": "display_data"
    }
   ],
   "source": [
    "mean(female_econ_df$gpa)\n",
    "sd(female_econ_df$gpa)"
   ]
  },
  {
   "cell_type": "code",
   "execution_count": 77,
   "metadata": {},
   "outputs": [
    {
     "data": {
      "text/html": [
       "<table>\n",
       "<thead><tr><th></th><th scope=col>student_id</th><th scope=col>first</th><th scope=col>last</th><th scope=col>gender</th><th scope=col>class</th><th scope=col>major</th><th scope=col>gpa</th><th scope=col>mean_gpa</th></tr></thead>\n",
       "<tbody>\n",
       "\t<tr><th scope=row>1</th><td>5a397209-3782-4764-a285-10fae807ee71</td><td>Janis                               </td><td>Brown                               </td><td>Female                              </td><td>Junior                              </td><td>Economics                           </td><td>3.12                                </td><td>3.495707                            </td></tr>\n",
       "\t<tr><th scope=row>13</th><td>1846c044-9a87-49e4-ad4f-d1bfadb4e41b</td><td>Lisa                                </td><td>Walden                              </td><td>Female                              </td><td>Senior                              </td><td>Economics                           </td><td>3.40                                </td><td>3.495707                            </td></tr>\n",
       "\t<tr><th scope=row>16</th><td>35de9214-505e-4d55-80e6-0302098a44b6</td><td>Joan                                </td><td>Decoteau                            </td><td>Female                              </td><td>Senior                              </td><td>Economics                           </td><td>3.81                                </td><td>3.495707                            </td></tr>\n",
       "\t<tr><th scope=row>44</th><td>667a8999-3765-4a83-bc64-612f64a2011e</td><td>Tosha                               </td><td>Flanagan                            </td><td>Female                              </td><td>Junior                              </td><td>Economics                           </td><td>3.92                                </td><td>3.495707                            </td></tr>\n",
       "\t<tr><th scope=row>50</th><td>ee1ce005-5671-431b-b832-61452d15ad76</td><td>Yvonne                              </td><td>Delo                                </td><td>Female                              </td><td>Sophomore                           </td><td>Economics                           </td><td>2.87                                </td><td>3.495707                            </td></tr>\n",
       "\t<tr><th scope=row>55</th><td>ed1f11d4-cf19-4792-83dd-0f9fea5a4692</td><td>Karla                               </td><td>Cota                                </td><td>Female                              </td><td>Junior                              </td><td>Economics                           </td><td>3.12                                </td><td>3.495707                            </td></tr>\n",
       "</tbody>\n",
       "</table>\n"
      ],
      "text/latex": [
       "\\begin{tabular}{r|llllllll}\n",
       "  & student\\_id & first & last & gender & class & major & gpa & mean\\_gpa\\\\\n",
       "\\hline\n",
       "\t1 & 5a397209-3782-4764-a285-10fae807ee71 & Janis                                & Brown                                & Female                               & Junior                               & Economics                            & 3.12                                 & 3.495707                            \\\\\n",
       "\t13 & 1846c044-9a87-49e4-ad4f-d1bfadb4e41b & Lisa                                 & Walden                               & Female                               & Senior                               & Economics                            & 3.40                                 & 3.495707                            \\\\\n",
       "\t16 & 35de9214-505e-4d55-80e6-0302098a44b6 & Joan                                 & Decoteau                             & Female                               & Senior                               & Economics                            & 3.81                                 & 3.495707                            \\\\\n",
       "\t44 & 667a8999-3765-4a83-bc64-612f64a2011e & Tosha                                & Flanagan                             & Female                               & Junior                               & Economics                            & 3.92                                 & 3.495707                            \\\\\n",
       "\t50 & ee1ce005-5671-431b-b832-61452d15ad76 & Yvonne                               & Delo                                 & Female                               & Sophomore                            & Economics                            & 2.87                                 & 3.495707                            \\\\\n",
       "\t55 & ed1f11d4-cf19-4792-83dd-0f9fea5a4692 & Karla                                & Cota                                 & Female                               & Junior                               & Economics                            & 3.12                                 & 3.495707                            \\\\\n",
       "\\end{tabular}\n"
      ],
      "text/markdown": [
       "\n",
       "| <!--/--> | student_id | first | last | gender | class | major | gpa | mean_gpa | \n",
       "|---|---|---|---|---|---|\n",
       "| 1 | 5a397209-3782-4764-a285-10fae807ee71 | Janis                                | Brown                                | Female                               | Junior                               | Economics                            | 3.12                                 | 3.495707                             | \n",
       "| 13 | 1846c044-9a87-49e4-ad4f-d1bfadb4e41b | Lisa                                 | Walden                               | Female                               | Senior                               | Economics                            | 3.40                                 | 3.495707                             | \n",
       "| 16 | 35de9214-505e-4d55-80e6-0302098a44b6 | Joan                                 | Decoteau                             | Female                               | Senior                               | Economics                            | 3.81                                 | 3.495707                             | \n",
       "| 44 | 667a8999-3765-4a83-bc64-612f64a2011e | Tosha                                | Flanagan                             | Female                               | Junior                               | Economics                            | 3.92                                 | 3.495707                             | \n",
       "| 50 | ee1ce005-5671-431b-b832-61452d15ad76 | Yvonne                               | Delo                                 | Female                               | Sophomore                            | Economics                            | 2.87                                 | 3.495707                             | \n",
       "| 55 | ed1f11d4-cf19-4792-83dd-0f9fea5a4692 | Karla                                | Cota                                 | Female                               | Junior                               | Economics                            | 3.12                                 | 3.495707                             | \n",
       "\n",
       "\n"
      ],
      "text/plain": [
       "   student_id                           first  last     gender class    \n",
       "1  5a397209-3782-4764-a285-10fae807ee71 Janis  Brown    Female Junior   \n",
       "13 1846c044-9a87-49e4-ad4f-d1bfadb4e41b Lisa   Walden   Female Senior   \n",
       "16 35de9214-505e-4d55-80e6-0302098a44b6 Joan   Decoteau Female Senior   \n",
       "44 667a8999-3765-4a83-bc64-612f64a2011e Tosha  Flanagan Female Junior   \n",
       "50 ee1ce005-5671-431b-b832-61452d15ad76 Yvonne Delo     Female Sophomore\n",
       "55 ed1f11d4-cf19-4792-83dd-0f9fea5a4692 Karla  Cota     Female Junior   \n",
       "   major     gpa  mean_gpa\n",
       "1  Economics 3.12 3.495707\n",
       "13 Economics 3.40 3.495707\n",
       "16 Economics 3.81 3.495707\n",
       "44 Economics 3.92 3.495707\n",
       "50 Economics 2.87 3.495707\n",
       "55 Economics 3.12 3.495707"
      ]
     },
     "metadata": {},
     "output_type": "display_data"
    }
   ],
   "source": [
    "female_econ_df$mean_gpa <- mean(female_econ_df$gpa)\n",
    "head(female_econ_df)"
   ]
  },
  {
   "cell_type": "code",
   "execution_count": 80,
   "metadata": {},
   "outputs": [],
   "source": [
    "diff <- female_econ_df$gpa - mean(female_econ_df$gpa)\n",
    "stds <- diff / sd(female_econ_df$gpa)\n",
    "female_econ_df$less_than_1_std <- stds < -1"
   ]
  },
  {
   "cell_type": "code",
   "execution_count": 85,
   "metadata": {},
   "outputs": [
    {
     "data": {
      "text/html": [
       "<table>\n",
       "<thead><tr><th></th><th scope=col>student_id</th><th scope=col>first</th><th scope=col>last</th><th scope=col>gender</th><th scope=col>class</th><th scope=col>major</th><th scope=col>gpa</th></tr></thead>\n",
       "<tbody>\n",
       "\t<tr><th scope=row>1</th><td>5a397209-3782-4764-a285-10fae807ee71</td><td>Janis                               </td><td>Brown                               </td><td>Female                              </td><td>Junior                              </td><td>Economics                           </td><td>3.12                                </td></tr>\n",
       "\t<tr><th scope=row>13</th><td>1846c044-9a87-49e4-ad4f-d1bfadb4e41b</td><td>Lisa                                </td><td>Walden                              </td><td>Female                              </td><td>Senior                              </td><td>Economics                           </td><td>3.40                                </td></tr>\n",
       "\t<tr><th scope=row>16</th><td>35de9214-505e-4d55-80e6-0302098a44b6</td><td>Joan                                </td><td>Decoteau                            </td><td>Female                              </td><td>Senior                              </td><td>Economics                           </td><td>3.81                                </td></tr>\n",
       "\t<tr><th scope=row>44</th><td>667a8999-3765-4a83-bc64-612f64a2011e</td><td>Tosha                               </td><td>Flanagan                            </td><td>Female                              </td><td>Junior                              </td><td>Economics                           </td><td>3.92                                </td></tr>\n",
       "\t<tr><th scope=row>50</th><td>ee1ce005-5671-431b-b832-61452d15ad76</td><td>Yvonne                              </td><td>Delo                                </td><td>Female                              </td><td>Sophomore                           </td><td>Economics                           </td><td>2.87                                </td></tr>\n",
       "\t<tr><th scope=row>55</th><td>ed1f11d4-cf19-4792-83dd-0f9fea5a4692</td><td>Karla                               </td><td>Cota                                </td><td>Female                              </td><td>Junior                              </td><td>Economics                           </td><td>3.12                                </td></tr>\n",
       "</tbody>\n",
       "</table>\n"
      ],
      "text/latex": [
       "\\begin{tabular}{r|lllllll}\n",
       "  & student\\_id & first & last & gender & class & major & gpa\\\\\n",
       "\\hline\n",
       "\t1 & 5a397209-3782-4764-a285-10fae807ee71 & Janis                                & Brown                                & Female                               & Junior                               & Economics                            & 3.12                                \\\\\n",
       "\t13 & 1846c044-9a87-49e4-ad4f-d1bfadb4e41b & Lisa                                 & Walden                               & Female                               & Senior                               & Economics                            & 3.40                                \\\\\n",
       "\t16 & 35de9214-505e-4d55-80e6-0302098a44b6 & Joan                                 & Decoteau                             & Female                               & Senior                               & Economics                            & 3.81                                \\\\\n",
       "\t44 & 667a8999-3765-4a83-bc64-612f64a2011e & Tosha                                & Flanagan                             & Female                               & Junior                               & Economics                            & 3.92                                \\\\\n",
       "\t50 & ee1ce005-5671-431b-b832-61452d15ad76 & Yvonne                               & Delo                                 & Female                               & Sophomore                            & Economics                            & 2.87                                \\\\\n",
       "\t55 & ed1f11d4-cf19-4792-83dd-0f9fea5a4692 & Karla                                & Cota                                 & Female                               & Junior                               & Economics                            & 3.12                                \\\\\n",
       "\\end{tabular}\n"
      ],
      "text/markdown": [
       "\n",
       "| <!--/--> | student_id | first | last | gender | class | major | gpa | \n",
       "|---|---|---|---|---|---|\n",
       "| 1 | 5a397209-3782-4764-a285-10fae807ee71 | Janis                                | Brown                                | Female                               | Junior                               | Economics                            | 3.12                                 | \n",
       "| 13 | 1846c044-9a87-49e4-ad4f-d1bfadb4e41b | Lisa                                 | Walden                               | Female                               | Senior                               | Economics                            | 3.40                                 | \n",
       "| 16 | 35de9214-505e-4d55-80e6-0302098a44b6 | Joan                                 | Decoteau                             | Female                               | Senior                               | Economics                            | 3.81                                 | \n",
       "| 44 | 667a8999-3765-4a83-bc64-612f64a2011e | Tosha                                | Flanagan                             | Female                               | Junior                               | Economics                            | 3.92                                 | \n",
       "| 50 | ee1ce005-5671-431b-b832-61452d15ad76 | Yvonne                               | Delo                                 | Female                               | Sophomore                            | Economics                            | 2.87                                 | \n",
       "| 55 | ed1f11d4-cf19-4792-83dd-0f9fea5a4692 | Karla                                | Cota                                 | Female                               | Junior                               | Economics                            | 3.12                                 | \n",
       "\n",
       "\n"
      ],
      "text/plain": [
       "   student_id                           first  last     gender class    \n",
       "1  5a397209-3782-4764-a285-10fae807ee71 Janis  Brown    Female Junior   \n",
       "13 1846c044-9a87-49e4-ad4f-d1bfadb4e41b Lisa   Walden   Female Senior   \n",
       "16 35de9214-505e-4d55-80e6-0302098a44b6 Joan   Decoteau Female Senior   \n",
       "44 667a8999-3765-4a83-bc64-612f64a2011e Tosha  Flanagan Female Junior   \n",
       "50 ee1ce005-5671-431b-b832-61452d15ad76 Yvonne Delo     Female Sophomore\n",
       "55 ed1f11d4-cf19-4792-83dd-0f9fea5a4692 Karla  Cota     Female Junior   \n",
       "   major     gpa \n",
       "1  Economics 3.12\n",
       "13 Economics 3.40\n",
       "16 Economics 3.81\n",
       "44 Economics 3.92\n",
       "50 Economics 2.87\n",
       "55 Economics 3.12"
      ]
     },
     "metadata": {},
     "output_type": "display_data"
    }
   ],
   "source": [
    "head(female_econ_df)"
   ]
  },
  {
   "cell_type": "markdown",
   "metadata": {},
   "source": [
    "# In-Class Exercise"
   ]
  },
  {
   "cell_type": "code",
   "execution_count": 86,
   "metadata": {},
   "outputs": [],
   "source": [
    "data(ChickWeight)"
   ]
  },
  {
   "cell_type": "code",
   "execution_count": 87,
   "metadata": {},
   "outputs": [
    {
     "data": {
      "text/html": [
       "<table>\n",
       "<thead><tr><th scope=col>weight</th><th scope=col>Time</th><th scope=col>Chick</th><th scope=col>Diet</th></tr></thead>\n",
       "<tbody>\n",
       "\t<tr><td>42</td><td> 0</td><td>1 </td><td>1 </td></tr>\n",
       "\t<tr><td>51</td><td> 2</td><td>1 </td><td>1 </td></tr>\n",
       "\t<tr><td>59</td><td> 4</td><td>1 </td><td>1 </td></tr>\n",
       "\t<tr><td>64</td><td> 6</td><td>1 </td><td>1 </td></tr>\n",
       "\t<tr><td>76</td><td> 8</td><td>1 </td><td>1 </td></tr>\n",
       "\t<tr><td>93</td><td>10</td><td>1 </td><td>1 </td></tr>\n",
       "</tbody>\n",
       "</table>\n"
      ],
      "text/latex": [
       "\\begin{tabular}{r|llll}\n",
       " weight & Time & Chick & Diet\\\\\n",
       "\\hline\n",
       "\t 42 &  0 & 1  & 1 \\\\\n",
       "\t 51 &  2 & 1  & 1 \\\\\n",
       "\t 59 &  4 & 1  & 1 \\\\\n",
       "\t 64 &  6 & 1  & 1 \\\\\n",
       "\t 76 &  8 & 1  & 1 \\\\\n",
       "\t 93 & 10 & 1  & 1 \\\\\n",
       "\\end{tabular}\n"
      ],
      "text/markdown": [
       "\n",
       "weight | Time | Chick | Diet | \n",
       "|---|---|---|---|---|---|\n",
       "| 42 |  0 | 1  | 1  | \n",
       "| 51 |  2 | 1  | 1  | \n",
       "| 59 |  4 | 1  | 1  | \n",
       "| 64 |  6 | 1  | 1  | \n",
       "| 76 |  8 | 1  | 1  | \n",
       "| 93 | 10 | 1  | 1  | \n",
       "\n",
       "\n"
      ],
      "text/plain": [
       "  weight Time Chick Diet\n",
       "1 42      0   1     1   \n",
       "2 51      2   1     1   \n",
       "3 59      4   1     1   \n",
       "4 64      6   1     1   \n",
       "5 76      8   1     1   \n",
       "6 93     10   1     1   "
      ]
     },
     "metadata": {},
     "output_type": "display_data"
    }
   ],
   "source": [
    "head(ChickWeight)"
   ]
  },
  {
   "cell_type": "code",
   "execution_count": 88,
   "metadata": {},
   "outputs": [
    {
     "data": {
      "text/html": [
       "<table>\n",
       "<thead><tr><th scope=col>weight</th><th scope=col>Time</th><th scope=col>Chick</th><th scope=col>Diet</th></tr></thead>\n",
       "<tbody>\n",
       "\t<tr><td> 42</td><td> 0 </td><td>1  </td><td>1  </td></tr>\n",
       "\t<tr><td> 51</td><td> 2 </td><td>1  </td><td>1  </td></tr>\n",
       "\t<tr><td> 59</td><td> 4 </td><td>1  </td><td>1  </td></tr>\n",
       "\t<tr><td> 64</td><td> 6 </td><td>1  </td><td>1  </td></tr>\n",
       "\t<tr><td> 76</td><td> 8 </td><td>1  </td><td>1  </td></tr>\n",
       "\t<tr><td> 93</td><td>10 </td><td>1  </td><td>1  </td></tr>\n",
       "\t<tr><td>106</td><td>12 </td><td>1  </td><td>1  </td></tr>\n",
       "\t<tr><td>125</td><td>14 </td><td>1  </td><td>1  </td></tr>\n",
       "\t<tr><td>149</td><td>16 </td><td>1  </td><td>1  </td></tr>\n",
       "\t<tr><td>171</td><td>18 </td><td>1  </td><td>1  </td></tr>\n",
       "\t<tr><td>199</td><td>20 </td><td>1  </td><td>1  </td></tr>\n",
       "\t<tr><td>205</td><td>21 </td><td>1  </td><td>1  </td></tr>\n",
       "</tbody>\n",
       "</table>\n"
      ],
      "text/latex": [
       "\\begin{tabular}{r|llll}\n",
       " weight & Time & Chick & Diet\\\\\n",
       "\\hline\n",
       "\t  42 &  0  & 1   & 1  \\\\\n",
       "\t  51 &  2  & 1   & 1  \\\\\n",
       "\t  59 &  4  & 1   & 1  \\\\\n",
       "\t  64 &  6  & 1   & 1  \\\\\n",
       "\t  76 &  8  & 1   & 1  \\\\\n",
       "\t  93 & 10  & 1   & 1  \\\\\n",
       "\t 106 & 12  & 1   & 1  \\\\\n",
       "\t 125 & 14  & 1   & 1  \\\\\n",
       "\t 149 & 16  & 1   & 1  \\\\\n",
       "\t 171 & 18  & 1   & 1  \\\\\n",
       "\t 199 & 20  & 1   & 1  \\\\\n",
       "\t 205 & 21  & 1   & 1  \\\\\n",
       "\\end{tabular}\n"
      ],
      "text/markdown": [
       "\n",
       "weight | Time | Chick | Diet | \n",
       "|---|---|---|---|---|---|---|---|---|---|---|---|\n",
       "|  42 |  0  | 1   | 1   | \n",
       "|  51 |  2  | 1   | 1   | \n",
       "|  59 |  4  | 1   | 1   | \n",
       "|  64 |  6  | 1   | 1   | \n",
       "|  76 |  8  | 1   | 1   | \n",
       "|  93 | 10  | 1   | 1   | \n",
       "| 106 | 12  | 1   | 1   | \n",
       "| 125 | 14  | 1   | 1   | \n",
       "| 149 | 16  | 1   | 1   | \n",
       "| 171 | 18  | 1   | 1   | \n",
       "| 199 | 20  | 1   | 1   | \n",
       "| 205 | 21  | 1   | 1   | \n",
       "\n",
       "\n"
      ],
      "text/plain": [
       "   weight Time Chick Diet\n",
       "1   42     0   1     1   \n",
       "2   51     2   1     1   \n",
       "3   59     4   1     1   \n",
       "4   64     6   1     1   \n",
       "5   76     8   1     1   \n",
       "6   93    10   1     1   \n",
       "7  106    12   1     1   \n",
       "8  125    14   1     1   \n",
       "9  149    16   1     1   \n",
       "10 171    18   1     1   \n",
       "11 199    20   1     1   \n",
       "12 205    21   1     1   "
      ]
     },
     "metadata": {},
     "output_type": "display_data"
    }
   ],
   "source": [
    "subset(ChickWeight, Chick==1)"
   ]
  },
  {
   "cell_type": "code",
   "execution_count": 89,
   "metadata": {},
   "outputs": [
    {
     "data": {
      "text/html": [
       "<table>\n",
       "<thead><tr><th scope=col>Group.1</th><th scope=col>x</th></tr></thead>\n",
       "<tbody>\n",
       "\t<tr><td> 0       </td><td> 41.06000</td></tr>\n",
       "\t<tr><td> 2       </td><td> 49.22000</td></tr>\n",
       "\t<tr><td> 4       </td><td> 59.95918</td></tr>\n",
       "\t<tr><td> 6       </td><td> 74.30612</td></tr>\n",
       "\t<tr><td> 8       </td><td> 91.24490</td></tr>\n",
       "\t<tr><td>10       </td><td>107.83673</td></tr>\n",
       "\t<tr><td>12       </td><td>129.24490</td></tr>\n",
       "\t<tr><td>14       </td><td>143.81250</td></tr>\n",
       "\t<tr><td>16       </td><td>168.08511</td></tr>\n",
       "\t<tr><td>18       </td><td>190.19149</td></tr>\n",
       "\t<tr><td>20       </td><td>209.71739</td></tr>\n",
       "\t<tr><td>21       </td><td>218.68889</td></tr>\n",
       "</tbody>\n",
       "</table>\n"
      ],
      "text/latex": [
       "\\begin{tabular}{r|ll}\n",
       " Group.1 & x\\\\\n",
       "\\hline\n",
       "\t  0        &  41.06000\\\\\n",
       "\t  2        &  49.22000\\\\\n",
       "\t  4        &  59.95918\\\\\n",
       "\t  6        &  74.30612\\\\\n",
       "\t  8        &  91.24490\\\\\n",
       "\t 10        & 107.83673\\\\\n",
       "\t 12        & 129.24490\\\\\n",
       "\t 14        & 143.81250\\\\\n",
       "\t 16        & 168.08511\\\\\n",
       "\t 18        & 190.19149\\\\\n",
       "\t 20        & 209.71739\\\\\n",
       "\t 21        & 218.68889\\\\\n",
       "\\end{tabular}\n"
      ],
      "text/markdown": [
       "\n",
       "Group.1 | x | \n",
       "|---|---|---|---|---|---|---|---|---|---|---|---|\n",
       "|  0        |  41.06000 | \n",
       "|  2        |  49.22000 | \n",
       "|  4        |  59.95918 | \n",
       "|  6        |  74.30612 | \n",
       "|  8        |  91.24490 | \n",
       "| 10        | 107.83673 | \n",
       "| 12        | 129.24490 | \n",
       "| 14        | 143.81250 | \n",
       "| 16        | 168.08511 | \n",
       "| 18        | 190.19149 | \n",
       "| 20        | 209.71739 | \n",
       "| 21        | 218.68889 | \n",
       "\n",
       "\n"
      ],
      "text/plain": [
       "   Group.1 x        \n",
       "1   0       41.06000\n",
       "2   2       49.22000\n",
       "3   4       59.95918\n",
       "4   6       74.30612\n",
       "5   8       91.24490\n",
       "6  10      107.83673\n",
       "7  12      129.24490\n",
       "8  14      143.81250\n",
       "9  16      168.08511\n",
       "10 18      190.19149\n",
       "11 20      209.71739\n",
       "12 21      218.68889"
      ]
     },
     "metadata": {},
     "output_type": "display_data"
    }
   ],
   "source": [
    "aggregate(x=ChickWeight$weight, by=list(ChickWeight$Time), FUN=mean)"
   ]
  },
  {
   "cell_type": "code",
   "execution_count": 90,
   "metadata": {},
   "outputs": [
    {
     "data": {
      "text/html": [
       "<ol class=list-inline>\n",
       "\t<li>578</li>\n",
       "\t<li>4</li>\n",
       "</ol>\n"
      ],
      "text/latex": [
       "\\begin{enumerate*}\n",
       "\\item 578\n",
       "\\item 4\n",
       "\\end{enumerate*}\n"
      ],
      "text/markdown": [
       "1. 578\n",
       "2. 4\n",
       "\n",
       "\n"
      ],
      "text/plain": [
       "[1] 578   4"
      ]
     },
     "metadata": {},
     "output_type": "display_data"
    }
   ],
   "source": [
    "dim(ChickWeight)"
   ]
  },
  {
   "cell_type": "code",
   "execution_count": null,
   "metadata": {},
   "outputs": [],
   "source": []
  }
 ],
 "metadata": {
  "kernelspec": {
   "display_name": "R",
   "language": "R",
   "name": "ir"
  },
  "language_info": {
   "codemirror_mode": "r",
   "file_extension": ".r",
   "mimetype": "text/x-r-source",
   "name": "R",
   "pygments_lexer": "r",
   "version": "3.5.1"
  }
 },
 "nbformat": 4,
 "nbformat_minor": 2
}
