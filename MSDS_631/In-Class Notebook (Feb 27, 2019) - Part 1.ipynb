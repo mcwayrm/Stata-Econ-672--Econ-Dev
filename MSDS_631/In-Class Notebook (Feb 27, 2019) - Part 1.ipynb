{
 "cells": [
  {
   "cell_type": "markdown",
   "metadata": {},
   "source": [
    "# MSDS 631 - Lecture 5 (February 27, 2019)\n",
    "\n",
    "## Key Scientific Libraries - Numpy and Pandas"
   ]
  },
  {
   "cell_type": "code",
   "execution_count": 1,
   "metadata": {},
   "outputs": [],
   "source": [
    "even_nums = []\n",
    "for i in range(101): \n",
    "    if i % 2 == 0: \n",
    "        even_nums.append(i)"
   ]
  },
  {
   "cell_type": "code",
   "execution_count": 2,
   "metadata": {},
   "outputs": [
    {
     "ename": "SyntaxError",
     "evalue": "invalid syntax (<ipython-input-2-049094370936>, line 1)",
     "output_type": "error",
     "traceback": [
      "\u001b[0;36m  File \u001b[0;32m\"<ipython-input-2-049094370936>\"\u001b[0;36m, line \u001b[0;32m1\u001b[0m\n\u001b[0;31m    reworked to:\u001b[0m\n\u001b[0m              ^\u001b[0m\n\u001b[0;31mSyntaxError\u001b[0m\u001b[0;31m:\u001b[0m invalid syntax\n"
     ]
    }
   ],
   "source": [
    "reworked to:"
   ]
  },
  {
   "cell_type": "code",
   "execution_count": 3,
   "metadata": {},
   "outputs": [],
   "source": [
    "remainders = []\n",
    "for i in range(101): \n",
    "    remainder =  i % 2\n",
    "    remainders.append(remainders)"
   ]
  },
  {
   "cell_type": "raw",
   "metadata": {},
   "source": [
    "remainders = [i % 2 for i in range(10)]"
   ]
  },
  {
   "cell_type": "markdown",
   "metadata": {},
   "source": []
  },
  {
   "cell_type": "markdown",
   "metadata": {},
   "source": [
    "--------\n",
    "##### Sidenote: List Comprehensions\n",
    "Sometimes you want to create a simple list and writing so many lines of code might seem silly. List comprehensions are a nice, clean, efficient way to create lists without having to write out so much code."
   ]
  },
  {
   "cell_type": "code",
   "execution_count": 4,
   "metadata": {},
   "outputs": [
    {
     "data": {
      "text/plain": [
       "[1, 0, 1, 0, 1, 0, 1, 0, 1]"
      ]
     },
     "execution_count": 4,
     "metadata": {},
     "output_type": "execute_result"
    }
   ],
   "source": [
    "list_of_numbers = list(range(1,10))\n",
    "remainders = [i % 2 for i in list_of_numbers]\n",
    "remainders"
   ]
  },
  {
   "cell_type": "markdown",
   "metadata": {},
   "source": [
    "For loop within a list, "
   ]
  },
  {
   "cell_type": "markdown",
   "metadata": {},
   "source": [
    "While list comprehensions are cool and clean looking, please be careful to not go overboard with these. They are easy to screw up, so the more complex your logic, the harder it is to write them.\n",
    "\n",
    "---"
   ]
  },
  {
   "cell_type": "markdown",
   "metadata": {},
   "source": [
    "### Scientific Libraries"
   ]
  },
  {
   "cell_type": "markdown",
   "metadata": {},
   "source": [
    "While Python is arguably the most widely used language for Data Scientists, the language by itself does not necessarily lend itself to performing data analysis or modeling. The most influential evolution of the language that led the widespread adoption in the field was the creation of two libraries: Numpy and Pandas.\n",
    "\n",
    "Numpy (prounounced \"num-pie\") was originally written in 1995, but it took it's current form in 2006. Since then it has been a foundational library for performing data analysis in Python. Two years later, Wes McKinney wrote Pandas, which took the concepts started by Numpy and melded it with powerful data structures from R.\n",
    "\n",
    "Let's start by talking about Numpy.\n",
    "\n",
    "Numpy is a library that has many built-in Objects that utilize code written in the C language. This makes code run MUCH much faster than what you might see in Python (and often with a lot less code). Let's take a look at a few examples.\n",
    "\n",
    "### Intro to Numpy"
   ]
  },
  {
   "cell_type": "code",
   "execution_count": 5,
   "metadata": {},
   "outputs": [],
   "source": [
    "import random\n",
    "import numpy as np #We use an alias to shorten our code"
   ]
  },
  {
   "cell_type": "markdown",
   "metadata": {},
   "source": [
    "##### Arrays\n",
    "\n",
    "The foundational data structure for Numpy is the array. Like lists, values within arrays are accessible by index, but the array has many more powerful features that make analysis much easier."
   ]
  },
  {
   "cell_type": "code",
   "execution_count": 6,
   "metadata": {},
   "outputs": [
    {
     "data": {
      "text/plain": [
       "[61, 42, 36, 19, 60, 63, 70, 74, 76, 79]"
      ]
     },
     "execution_count": 6,
     "metadata": {},
     "output_type": "execute_result"
    }
   ],
   "source": [
    "#Create some random numbers in Python\n",
    "list_of_numbers1 = [random.randint(1,100) for _ in range(10)]\n",
    "list_of_numbers2 = [random.randint(1,100) for _ in range(10)]\n",
    "list_of_numbers3 = [random.randint(1,100) for _ in range(10)]\n",
    "\n",
    "list_of_numbers1"
   ]
  },
  {
   "cell_type": "code",
   "execution_count": 7,
   "metadata": {},
   "outputs": [
    {
     "data": {
      "text/plain": [
       "array([61, 42, 36, 19, 60, 63, 70, 74, 76, 79])"
      ]
     },
     "execution_count": 7,
     "metadata": {},
     "output_type": "execute_result"
    }
   ],
   "source": [
    "#Create some random numbers in Numpy\n",
    "np_array_of_numbers1 = np.array(list_of_numbers1) #Casting a list as a new Numpy-specific data structure\n",
    "np_array_of_numbers2 = np.array(list_of_numbers2) #Casting a list as a new Numpy-specific data structure\n",
    "np_array_of_numbers3 = np.array(list_of_numbers3) #Casting a list as a new Numpy-specific data structure\n",
    "\n",
    "np_array_of_numbers1"
   ]
  },
  {
   "cell_type": "code",
   "execution_count": 8,
   "metadata": {},
   "outputs": [
    {
     "data": {
      "text/plain": [
       "61"
      ]
     },
     "execution_count": 8,
     "metadata": {},
     "output_type": "execute_result"
    }
   ],
   "source": [
    "#Values can be accessed just like lists by index\n",
    "np_array_of_numbers1[0]"
   ]
  },
  {
   "cell_type": "code",
   "execution_count": 9,
   "metadata": {},
   "outputs": [
    {
     "data": {
      "text/plain": [
       "array([61, 42, 36, 19, 60])"
      ]
     },
     "execution_count": 9,
     "metadata": {},
     "output_type": "execute_result"
    }
   ],
   "source": [
    "#... or by range\n",
    "np_array_of_numbers1[:5]"
   ]
  },
  {
   "cell_type": "code",
   "execution_count": 10,
   "metadata": {},
   "outputs": [
    {
     "data": {
      "text/plain": [
       "array([61, 19, 60, 74])"
      ]
     },
     "execution_count": 10,
     "metadata": {},
     "output_type": "execute_result"
    }
   ],
   "source": [
    "#What you CAN do that's unique is access data by random indices\n",
    "np_array_of_numbers1[[0,3,4,7]]"
   ]
  },
  {
   "cell_type": "code",
   "execution_count": 11,
   "metadata": {},
   "outputs": [
    {
     "ename": "TypeError",
     "evalue": "list indices must be integers or slices, not list",
     "output_type": "error",
     "traceback": [
      "\u001b[0;31m---------------------------------------------------------------------------\u001b[0m",
      "\u001b[0;31mTypeError\u001b[0m                                 Traceback (most recent call last)",
      "\u001b[0;32m<ipython-input-11-74721d9648af>\u001b[0m in \u001b[0;36m<module>\u001b[0;34m()\u001b[0m\n\u001b[1;32m      1\u001b[0m \u001b[0;31m#This doesn't work for lists\u001b[0m\u001b[0;34m\u001b[0m\u001b[0;34m\u001b[0m\u001b[0m\n\u001b[0;32m----> 2\u001b[0;31m \u001b[0mlist_of_numbers1\u001b[0m\u001b[0;34m[\u001b[0m\u001b[0;34m[\u001b[0m\u001b[0;36m0\u001b[0m\u001b[0;34m,\u001b[0m\u001b[0;36m3\u001b[0m\u001b[0;34m,\u001b[0m\u001b[0;36m4\u001b[0m\u001b[0;34m,\u001b[0m\u001b[0;36m7\u001b[0m\u001b[0;34m]\u001b[0m\u001b[0;34m]\u001b[0m\u001b[0;34m\u001b[0m\u001b[0m\n\u001b[0m",
      "\u001b[0;31mTypeError\u001b[0m: list indices must be integers or slices, not list"
     ]
    }
   ],
   "source": [
    "#This doesn't work for lists\n",
    "list_of_numbers1[[0,3,4,7]]"
   ]
  },
  {
   "cell_type": "markdown",
   "metadata": {},
   "source": [
    "##### Array Math"
   ]
  },
  {
   "cell_type": "markdown",
   "metadata": {},
   "source": [
    "Let's add 5 to every number in the first list."
   ]
  },
  {
   "cell_type": "code",
   "execution_count": 12,
   "metadata": {},
   "outputs": [
    {
     "name": "stdout",
     "output_type": "stream",
     "text": [
      "[61, 42, 36, 19, 60, 63, 70, 74, 76, 79]\n",
      "84\n"
     ]
    }
   ],
   "source": [
    "#Base Python\n",
    "new_numbers = []\n",
    "for i in list_of_numbers1:\n",
    "    new_number = i + 5\n",
    "    new_numbers.append(new_number)\n",
    "print(list_of_numbers1)\n",
    "print(new_number)"
   ]
  },
  {
   "cell_type": "code",
   "execution_count": 13,
   "metadata": {},
   "outputs": [
    {
     "data": {
      "text/plain": [
       "array([66, 47, 41, 24, 65, 68, 75, 79, 81, 84])"
      ]
     },
     "execution_count": 13,
     "metadata": {},
     "output_type": "execute_result"
    }
   ],
   "source": [
    "#Using Numpy\n",
    "np_array_of_numbers1 + 5\n"
   ]
  },
  {
   "cell_type": "markdown",
   "metadata": {},
   "source": [
    "What just happened here???\n",
    "\n",
    "Numpy uses something called \"broadcasting.\" This allows us to apply certain mathematical operations to each element in an array. We can do a lot more than this too! The more commonly used terminology for this is called **\"vectorization.\"**\n",
    "\n",
    "Let's multiply each number in list 1 by 5"
   ]
  },
  {
   "cell_type": "code",
   "execution_count": 14,
   "metadata": {},
   "outputs": [
    {
     "data": {
      "text/plain": [
       "[305, 210, 180, 95, 300, 315, 350, 370, 380, 395]"
      ]
     },
     "execution_count": 14,
     "metadata": {},
     "output_type": "execute_result"
    }
   ],
   "source": [
    "#Base Python\n",
    "python_nums = []\n",
    "for i in list_of_numbers1:\n",
    "    new_num = i * 5\n",
    "    python_nums.append(new_num)  \n",
    "python_nums"
   ]
  },
  {
   "cell_type": "code",
   "execution_count": 15,
   "metadata": {},
   "outputs": [
    {
     "data": {
      "text/plain": [
       "array([305, 210, 180,  95, 300, 315, 350, 370, 380, 395])"
      ]
     },
     "execution_count": 15,
     "metadata": {},
     "output_type": "execute_result"
    }
   ],
   "source": [
    "#Using Numpy\n",
    "numpy_nums = np_array_of_numbers1 * 5\n",
    "\n",
    "numpy_nums"
   ]
  },
  {
   "cell_type": "markdown",
   "metadata": {},
   "source": [
    "Now let's add each element of list 1 and list 2 and then divide the sum by each value of list 3"
   ]
  },
  {
   "cell_type": "code",
   "execution_count": 16,
   "metadata": {},
   "outputs": [
    {
     "data": {
      "text/plain": [
       "1.9661016949152543"
      ]
     },
     "execution_count": 16,
     "metadata": {},
     "output_type": "execute_result"
    }
   ],
   "source": [
    "#Example of first index\n",
    "(list_of_numbers1[0] + list_of_numbers2[0]) / list_of_numbers3[0]"
   ]
  },
  {
   "cell_type": "code",
   "execution_count": 17,
   "metadata": {},
   "outputs": [
    {
     "data": {
      "text/plain": [
       "[305,\n",
       " 210,\n",
       " 180,\n",
       " 95,\n",
       " 300,\n",
       " 315,\n",
       " 350,\n",
       " 370,\n",
       " 380,\n",
       " 395,\n",
       " 61.932203389830505,\n",
       " 43.06818181818182,\n",
       " 37.2,\n",
       " 19.176470588235293,\n",
       " 60.65853658536585,\n",
       " 67.0,\n",
       " 77.0,\n",
       " 74.28787878787878,\n",
       " 76.79069767441861,\n",
       " 79.8169014084507]"
      ]
     },
     "execution_count": 17,
     "metadata": {},
     "output_type": "execute_result"
    }
   ],
   "source": [
    "#Let's do it for all of the values now\n",
    "#Base Python\n",
    "for i in range(len(list_of_numbers1)):\n",
    "    new_num = list_of_numbers1[i] + list_of_numbers2[i] / list_of_numbers3[i]\n",
    "    python_nums.append(new_num)\n",
    "python_nums"
   ]
  },
  {
   "cell_type": "code",
   "execution_count": null,
   "metadata": {},
   "outputs": [],
   "source": []
  },
  {
   "cell_type": "code",
   "execution_count": 18,
   "metadata": {},
   "outputs": [
    {
     "data": {
      "text/plain": [
       "array([61.93220339, 43.06818182, 37.2       , 19.17647059, 60.65853659,\n",
       "       67.        , 77.        , 74.28787879, 76.79069767, 79.81690141])"
      ]
     },
     "execution_count": 18,
     "metadata": {},
     "output_type": "execute_result"
    }
   ],
   "source": [
    "#Using Numpy\n",
    "numpy_nums = np_array_of_numbers1 + np_array_of_numbers2 / np_array_of_numbers3\n",
    "\n",
    "numpy_nums"
   ]
  },
  {
   "cell_type": "markdown",
   "metadata": {},
   "source": [
    "When doing **element-wise** math using arrays, it is critical that you are doing this with arrays that are the same shape."
   ]
  },
  {
   "cell_type": "code",
   "execution_count": 19,
   "metadata": {},
   "outputs": [
    {
     "ename": "ValueError",
     "evalue": "operands could not be broadcast together with shapes (10,) (5,) ",
     "output_type": "error",
     "traceback": [
      "\u001b[0;31m---------------------------------------------------------------------------\u001b[0m",
      "\u001b[0;31mValueError\u001b[0m                                Traceback (most recent call last)",
      "\u001b[0;32m<ipython-input-19-b87db07aac45>\u001b[0m in \u001b[0;36m<module>\u001b[0;34m()\u001b[0m\n\u001b[1;32m      1\u001b[0m \u001b[0mlonger_array\u001b[0m \u001b[0;34m=\u001b[0m \u001b[0mnp\u001b[0m\u001b[0;34m.\u001b[0m\u001b[0marray\u001b[0m\u001b[0;34m(\u001b[0m\u001b[0;34m[\u001b[0m\u001b[0mrandom\u001b[0m\u001b[0;34m.\u001b[0m\u001b[0mrandint\u001b[0m\u001b[0;34m(\u001b[0m\u001b[0;36m1\u001b[0m\u001b[0;34m,\u001b[0m\u001b[0;36m100\u001b[0m\u001b[0;34m)\u001b[0m \u001b[0;32mfor\u001b[0m \u001b[0m_\u001b[0m \u001b[0;32min\u001b[0m \u001b[0mrange\u001b[0m\u001b[0;34m(\u001b[0m\u001b[0;36m10\u001b[0m\u001b[0;34m)\u001b[0m\u001b[0;34m]\u001b[0m\u001b[0;34m)\u001b[0m\u001b[0;34m\u001b[0m\u001b[0m\n\u001b[1;32m      2\u001b[0m \u001b[0mshorter_array\u001b[0m \u001b[0;34m=\u001b[0m \u001b[0mnp\u001b[0m\u001b[0;34m.\u001b[0m\u001b[0marray\u001b[0m\u001b[0;34m(\u001b[0m\u001b[0;34m[\u001b[0m\u001b[0mrandom\u001b[0m\u001b[0;34m.\u001b[0m\u001b[0mrandint\u001b[0m\u001b[0;34m(\u001b[0m\u001b[0;36m1\u001b[0m\u001b[0;34m,\u001b[0m\u001b[0;36m100\u001b[0m\u001b[0;34m)\u001b[0m \u001b[0;32mfor\u001b[0m \u001b[0m_\u001b[0m \u001b[0;32min\u001b[0m \u001b[0mrange\u001b[0m\u001b[0;34m(\u001b[0m\u001b[0;36m5\u001b[0m\u001b[0;34m)\u001b[0m\u001b[0;34m]\u001b[0m\u001b[0;34m)\u001b[0m\u001b[0;34m\u001b[0m\u001b[0m\n\u001b[0;32m----> 3\u001b[0;31m \u001b[0mlonger_array\u001b[0m \u001b[0;34m/\u001b[0m \u001b[0mshorter_array\u001b[0m \u001b[0;31m#This doesn't work\u001b[0m\u001b[0;34m\u001b[0m\u001b[0m\n\u001b[0m",
      "\u001b[0;31mValueError\u001b[0m: operands could not be broadcast together with shapes (10,) (5,) "
     ]
    }
   ],
   "source": [
    "longer_array = np.array([random.randint(1,100) for _ in range(10)])\n",
    "shorter_array = np.array([random.randint(1,100) for _ in range(5)])\n",
    "longer_array / shorter_array #This doesn't work"
   ]
  },
  {
   "cell_type": "markdown",
   "metadata": {},
   "source": [
    "Element-wise math can happen with almost standard mathematical operator (or combination of operators. In fact, you can even apply functions to arrays, as long as the operations being performed are mathematical in nature (and not logical)."
   ]
  },
  {
   "cell_type": "code",
   "execution_count": 20,
   "metadata": {},
   "outputs": [],
   "source": [
    "#Basic arithmetic operations and numpy math functions\n",
    "def math_output(x):\n",
    "    a = x + 5\n",
    "    b = a / 2\n",
    "    c = b ** 3\n",
    "    d = np.sqrt(c) #Numpy has several built-in math functions\n",
    "    return d"
   ]
  },
  {
   "cell_type": "code",
   "execution_count": 21,
   "metadata": {},
   "outputs": [
    {
     "data": {
      "text/plain": [
       "14.696938456699069"
      ]
     },
     "execution_count": 21,
     "metadata": {},
     "output_type": "execute_result"
    }
   ],
   "source": [
    "math_output(7)"
   ]
  },
  {
   "cell_type": "code",
   "execution_count": 22,
   "metadata": {},
   "outputs": [
    {
     "data": {
      "text/plain": [
       "[189.57056733575496,\n",
       " 113.92047664928373,\n",
       " 92.81769766590853,\n",
       " 41.569219381653056,\n",
       " 185.27850657860992,\n",
       " 198.25236442474022,\n",
       " 229.63966338592294,\n",
       " 248.25365052703657,\n",
       " 257.74042174249655,\n",
       " 272.19110933313016]"
      ]
     },
     "execution_count": 22,
     "metadata": {},
     "output_type": "execute_result"
    }
   ],
   "source": [
    "#In base Python\n",
    "answers = []\n",
    "for i in list_of_numbers1:\n",
    "    answer = math_output(i)\n",
    "    answers.append(answer)\n",
    "answers"
   ]
  },
  {
   "cell_type": "code",
   "execution_count": 23,
   "metadata": {},
   "outputs": [
    {
     "data": {
      "text/plain": [
       "array([189.57056734, 113.92047665,  92.81769767,  41.56921938,\n",
       "       185.27850658, 198.25236442, 229.63966339, 248.25365053,\n",
       "       257.74042174, 272.19110933])"
      ]
     },
     "execution_count": 23,
     "metadata": {},
     "output_type": "execute_result"
    }
   ],
   "source": [
    "math_output(np_array_of_numbers1)"
   ]
  },
  {
   "cell_type": "markdown",
   "metadata": {},
   "source": [
    "That worked great! Even cleaner than list comprehensions!\n",
    "\n",
    "Unfortunately, there are limitations. As mentioned above, control flow cannot be used for vectorization."
   ]
  },
  {
   "cell_type": "code",
   "execution_count": 24,
   "metadata": {},
   "outputs": [],
   "source": [
    "def logical_output(x):\n",
    "    if x % 2 == 0:\n",
    "        return 'even'\n",
    "    elif x % 2 == 1:\n",
    "        return 'odd'\n",
    "    else:\n",
    "        return 'something else'"
   ]
  },
  {
   "cell_type": "code",
   "execution_count": 25,
   "metadata": {},
   "outputs": [
    {
     "data": {
      "text/plain": [
       "'even'"
      ]
     },
     "execution_count": 25,
     "metadata": {},
     "output_type": "execute_result"
    }
   ],
   "source": [
    "logical_output(4)"
   ]
  },
  {
   "cell_type": "code",
   "execution_count": 26,
   "metadata": {},
   "outputs": [
    {
     "data": {
      "text/plain": [
       "['odd', 'even', 'even', 'odd', 'even', 'odd', 'even', 'even', 'even', 'odd']"
      ]
     },
     "execution_count": 26,
     "metadata": {},
     "output_type": "execute_result"
    }
   ],
   "source": [
    "answers = []\n",
    "for i in list_of_numbers1:\n",
    "    answer = logical_output(i)\n",
    "    answers.append(answer)\n",
    "answers"
   ]
  },
  {
   "cell_type": "code",
   "execution_count": 27,
   "metadata": {},
   "outputs": [
    {
     "ename": "ValueError",
     "evalue": "The truth value of an array with more than one element is ambiguous. Use a.any() or a.all()",
     "output_type": "error",
     "traceback": [
      "\u001b[0;31m---------------------------------------------------------------------------\u001b[0m",
      "\u001b[0;31mValueError\u001b[0m                                Traceback (most recent call last)",
      "\u001b[0;32m<ipython-input-27-3641631b47eb>\u001b[0m in \u001b[0;36m<module>\u001b[0;34m()\u001b[0m\n\u001b[0;32m----> 1\u001b[0;31m \u001b[0mlogical_output\u001b[0m\u001b[0;34m(\u001b[0m\u001b[0mnp_array_of_numbers1\u001b[0m\u001b[0;34m)\u001b[0m \u001b[0;31m#You cannot vectorize control flow\u001b[0m\u001b[0;34m\u001b[0m\u001b[0m\n\u001b[0m",
      "\u001b[0;32m<ipython-input-24-cb5c92b202e2>\u001b[0m in \u001b[0;36mlogical_output\u001b[0;34m(x)\u001b[0m\n\u001b[1;32m      1\u001b[0m \u001b[0;32mdef\u001b[0m \u001b[0mlogical_output\u001b[0m\u001b[0;34m(\u001b[0m\u001b[0mx\u001b[0m\u001b[0;34m)\u001b[0m\u001b[0;34m:\u001b[0m\u001b[0;34m\u001b[0m\u001b[0m\n\u001b[0;32m----> 2\u001b[0;31m     \u001b[0;32mif\u001b[0m \u001b[0mx\u001b[0m \u001b[0;34m%\u001b[0m \u001b[0;36m2\u001b[0m \u001b[0;34m==\u001b[0m \u001b[0;36m0\u001b[0m\u001b[0;34m:\u001b[0m\u001b[0;34m\u001b[0m\u001b[0m\n\u001b[0m\u001b[1;32m      3\u001b[0m         \u001b[0;32mreturn\u001b[0m \u001b[0;34m'even'\u001b[0m\u001b[0;34m\u001b[0m\u001b[0m\n\u001b[1;32m      4\u001b[0m     \u001b[0;32melif\u001b[0m \u001b[0mx\u001b[0m \u001b[0;34m%\u001b[0m \u001b[0;36m2\u001b[0m \u001b[0;34m==\u001b[0m \u001b[0;36m1\u001b[0m\u001b[0;34m:\u001b[0m\u001b[0;34m\u001b[0m\u001b[0m\n\u001b[1;32m      5\u001b[0m         \u001b[0;32mreturn\u001b[0m \u001b[0;34m'odd'\u001b[0m\u001b[0;34m\u001b[0m\u001b[0m\n",
      "\u001b[0;31mValueError\u001b[0m: The truth value of an array with more than one element is ambiguous. Use a.any() or a.all()"
     ]
    }
   ],
   "source": [
    "logical_output(np_array_of_numbers1) #You cannot vectorize control flow"
   ]
  },
  {
   "cell_type": "code",
   "execution_count": null,
   "metadata": {},
   "outputs": [],
   "source": []
  },
  {
   "cell_type": "markdown",
   "metadata": {},
   "source": [
    "#### Numpy Filtering\n",
    "\n",
    "Filters are arrays consisting of True and False values. You can obtain these by applying in-line logic comparisons."
   ]
  },
  {
   "cell_type": "code",
   "execution_count": 28,
   "metadata": {},
   "outputs": [
    {
     "data": {
      "text/plain": [
       "array([61, 42, 36, 19, 60, 63, 70, 74, 76, 79])"
      ]
     },
     "execution_count": 28,
     "metadata": {},
     "output_type": "execute_result"
    }
   ],
   "source": [
    "np_array_of_numbers1"
   ]
  },
  {
   "cell_type": "code",
   "execution_count": 29,
   "metadata": {
    "scrolled": true
   },
   "outputs": [
    {
     "data": {
      "text/plain": [
       "array([False,  True,  True, False,  True, False,  True,  True,  True,\n",
       "       False])"
      ]
     },
     "execution_count": 29,
     "metadata": {},
     "output_type": "execute_result"
    }
   ],
   "source": [
    "#Let's find the even numbers in our array\n",
    "is_even = np_array_of_numbers1 % 2 == 0\n",
    "is_even"
   ]
  },
  {
   "cell_type": "markdown",
   "metadata": {},
   "source": [
    "Now, much like how indexing in an array returns a subset of values, we can use this filter to only return the values that are True."
   ]
  },
  {
   "cell_type": "code",
   "execution_count": 30,
   "metadata": {},
   "outputs": [
    {
     "data": {
      "text/plain": [
       "array([42, 36, 60, 70, 74, 76])"
      ]
     },
     "execution_count": 30,
     "metadata": {},
     "output_type": "execute_result"
    }
   ],
   "source": [
    "np_array_of_numbers1[is_even]"
   ]
  },
  {
   "cell_type": "code",
   "execution_count": 31,
   "metadata": {},
   "outputs": [
    {
     "data": {
      "text/plain": [
       "array([42, 36, 60, 63])"
      ]
     },
     "execution_count": 31,
     "metadata": {},
     "output_type": "execute_result"
    }
   ],
   "source": [
    "#Let's now find the numbers divisible by 3 in our array\n",
    "divis_by_3_filter = np_array_of_numbers1 % 3 == 0\n",
    "nums_divisible_by_3 = np_array_of_numbers1[divis_by_3_filter]\n",
    "nums_divisible_by_3"
   ]
  },
  {
   "cell_type": "code",
   "execution_count": 32,
   "metadata": {},
   "outputs": [
    {
     "data": {
      "text/plain": [
       "array([42, 36, 60, 63])"
      ]
     },
     "execution_count": 32,
     "metadata": {},
     "output_type": "execute_result"
    }
   ],
   "source": [
    "#We can also do this without creating a filter\n",
    "np_array_of_numbers1[np_array_of_numbers1 % 3 == 0]"
   ]
  },
  {
   "cell_type": "markdown",
   "metadata": {},
   "source": [
    "Filtering will be an extremely important concept as we move forward."
   ]
  },
  {
   "cell_type": "markdown",
   "metadata": {},
   "source": [
    "We can also use these filters on other arrays of the same shape, assuming the indices of the array are all associated with the same entity (e.g. the same student for the example below).\n",
    "\n",
    "Imagine we're on the school board and want to identify all of the honors students. We want to start by finding everyone with a GPA 3.7 or higher. When we did this previously, it required a complicated loop. Now, with Numpy, we can use simple filtering to identify those students."
   ]
  },
  {
   "cell_type": "code",
   "execution_count": 33,
   "metadata": {},
   "outputs": [],
   "source": [
    "import json\n",
    "students = json.load(open('students.json', 'r'))\n",
    "ids = np.array([i['student_id'] for i in students])\n",
    "gpas = np.array([i['gpa'] for i in students])"
   ]
  },
  {
   "cell_type": "code",
   "execution_count": 34,
   "metadata": {},
   "outputs": [
    {
     "name": "stdout",
     "output_type": "stream",
     "text": [
      "There are 2166 students eligible for honor roll. They have the following IDs\n"
     ]
    },
    {
     "data": {
      "text/plain": [
       "array(['6081f91d-365c-46ce-ad1b-38af120781d9',\n",
       "       '84cec8f4-0b64-44ce-a628-c0eb73f6ca6f',\n",
       "       '8dd7650e-55e0-416e-9f7e-44ead1dc08a2', ...,\n",
       "       '32606dc2-862b-45cc-b0ac-f2b24253abdf',\n",
       "       '3f1f6525-3ec0-4184-b435-c829419bf582',\n",
       "       'bc551659-ba48-447e-aa6a-0c2f49aaa9c1'], dtype='<U36')"
      ]
     },
     "execution_count": 34,
     "metadata": {},
     "output_type": "execute_result"
    }
   ],
   "source": [
    "#Let's find the students with GPAs over 3.7\n",
    "high_gpa_filter = gpas >= 3.7\n",
    "honor_ids = ids[high_gpa_filter]\n",
    "\n",
    "print('There are {} students eligible for honor roll. They have the following IDs'.format(len(honor_ids)))\n",
    "honor_ids"
   ]
  },
  {
   "cell_type": "code",
   "execution_count": null,
   "metadata": {},
   "outputs": [],
   "source": []
  },
  {
   "cell_type": "code",
   "execution_count": 35,
   "metadata": {},
   "outputs": [
    {
     "data": {
      "text/plain": [
       "array([ True,  True, False, ..., False, False, False])"
      ]
     },
     "execution_count": 35,
     "metadata": {},
     "output_type": "execute_result"
    }
   ],
   "source": [
    "#If we wanted to know all of the students that were economics majors, we could create another filter\n",
    "majors = np.array([i['major'] for i in students])\n",
    "is_economics = majors == 'Economics'\n",
    "is_economics"
   ]
  },
  {
   "cell_type": "code",
   "execution_count": 36,
   "metadata": {},
   "outputs": [
    {
     "name": "stdout",
     "output_type": "stream",
     "text": [
      "The following students are economics majors\n",
      "['5a397209-3782-4764-a285-10fae807ee71'\n",
      " 'e26c3d69-3c74-49b6-81d7-47232787fad9'\n",
      " '1846c044-9a87-49e4-ad4f-d1bfadb4e41b' ...\n",
      " '32606dc2-862b-45cc-b0ac-f2b24253abdf'\n",
      " '8dc612f4-8150-4045-9e2d-cf160fb71da4'\n",
      " 'bc551659-ba48-447e-aa6a-0c2f49aaa9c1']\n"
     ]
    }
   ],
   "source": [
    "economics_ids = ids[is_economics]\n",
    "print('The following students are economics majors')\n",
    "print(economics_ids)"
   ]
  },
  {
   "cell_type": "markdown",
   "metadata": {},
   "source": [
    "##### Limits on usage of arrays\n",
    "There is one significant difference between arrays and lists where arrays are not as useful as lists, and that is in its ability to hold different variable types."
   ]
  },
  {
   "cell_type": "code",
   "execution_count": 37,
   "metadata": {},
   "outputs": [
    {
     "data": {
      "text/plain": [
       "[1, 2.0, '3']"
      ]
     },
     "execution_count": 37,
     "metadata": {},
     "output_type": "execute_result"
    }
   ],
   "source": [
    "mixed_list = [1, 2.0, '3']\n",
    "mixed_list"
   ]
  },
  {
   "cell_type": "code",
   "execution_count": 38,
   "metadata": {},
   "outputs": [],
   "source": [
    "mixed_array = np.array(mixed_list) #No error, but be wary of what you wish for"
   ]
  },
  {
   "cell_type": "code",
   "execution_count": 39,
   "metadata": {},
   "outputs": [
    {
     "data": {
      "text/plain": [
       "array(['1', '2.0', '3'], dtype='<U32')"
      ]
     },
     "execution_count": 39,
     "metadata": {},
     "output_type": "execute_result"
    }
   ],
   "source": [
    "mixed_array"
   ]
  },
  {
   "cell_type": "markdown",
   "metadata": {},
   "source": [
    "In this case, Numpy is \"helping\" you by auto-casting all of the variable into a common data type. Unfortunately, this is not always something you want and you have to be mindful of when it happens."
   ]
  },
  {
   "cell_type": "markdown",
   "metadata": {},
   "source": [
    "##### Numpy built-in array methods"
   ]
  },
  {
   "cell_type": "code",
   "execution_count": 40,
   "metadata": {},
   "outputs": [
    {
     "data": {
      "text/plain": [
       "3.376526"
      ]
     },
     "execution_count": 40,
     "metadata": {},
     "output_type": "execute_result"
    }
   ],
   "source": [
    "gpas.mean() #Compute the arithmetic mean"
   ]
  },
  {
   "cell_type": "code",
   "execution_count": 41,
   "metadata": {},
   "outputs": [
    {
     "data": {
      "text/plain": [
       "4.0"
      ]
     },
     "execution_count": 41,
     "metadata": {},
     "output_type": "execute_result"
    }
   ],
   "source": [
    "gpas.max() #Find the maximum value"
   ]
  },
  {
   "cell_type": "code",
   "execution_count": 42,
   "metadata": {},
   "outputs": [
    {
     "data": {
      "text/plain": [
       "1.72"
      ]
     },
     "execution_count": 42,
     "metadata": {},
     "output_type": "execute_result"
    }
   ],
   "source": [
    "gpas.min() #Find the minimum value"
   ]
  },
  {
   "cell_type": "code",
   "execution_count": 43,
   "metadata": {},
   "outputs": [
    {
     "data": {
      "text/plain": [
       "0.37002301458693077"
      ]
     },
     "execution_count": 43,
     "metadata": {},
     "output_type": "execute_result"
    }
   ],
   "source": [
    "gpas.std() #Find the standard deviation"
   ]
  },
  {
   "cell_type": "code",
   "execution_count": 44,
   "metadata": {},
   "outputs": [
    {
     "data": {
      "text/plain": [
       "4"
      ]
     },
     "execution_count": 44,
     "metadata": {},
     "output_type": "execute_result"
    }
   ],
   "source": [
    "gpas.argmax() #Find the FIRST index where the max value occurs"
   ]
  },
  {
   "cell_type": "code",
   "execution_count": 45,
   "metadata": {},
   "outputs": [],
   "source": [
    "filt = gpas = gpas.max()"
   ]
  },
  {
   "cell_type": "code",
   "execution_count": 46,
   "metadata": {},
   "outputs": [
    {
     "data": {
      "text/plain": [
       "array([['5a397209-3782-4764-a285-10fae807ee71',\n",
       "        'e26c3d69-3c74-49b6-81d7-47232787fad9',\n",
       "        '975c1581-5ba2-430c-a3d1-01ce03bd83f9', ...,\n",
       "        '4884e643-4a94-4362-a422-604763401487',\n",
       "        '034754f5-50dd-42e5-a916-cc6c9d9d0131',\n",
       "        '75c02f31-566f-439e-875e-5af9fe412977']], dtype='<U36')"
      ]
     },
     "execution_count": 46,
     "metadata": {},
     "output_type": "execute_result"
    }
   ],
   "source": [
    "#Alternatively, you can do this to find all of the IDs with a max value\n",
    "max_gpa = gpas.max()\n",
    "max_gpa_ids = ids[gpas == max_gpa]\n",
    "max_gpa_ids"
   ]
  },
  {
   "cell_type": "markdown",
   "metadata": {},
   "source": [
    "What percent of students have a 4.0?\n",
    "\n",
    "There are two ways."
   ]
  },
  {
   "cell_type": "code",
   "execution_count": 47,
   "metadata": {},
   "outputs": [
    {
     "data": {
      "text/plain": [
       "0.0001"
      ]
     },
     "execution_count": 47,
     "metadata": {},
     "output_type": "execute_result"
    }
   ],
   "source": [
    "len(max_gpa_ids) / len(students)"
   ]
  },
  {
   "cell_type": "code",
   "execution_count": 48,
   "metadata": {},
   "outputs": [
    {
     "data": {
      "text/plain": [
       "1.0"
      ]
     },
     "execution_count": 48,
     "metadata": {},
     "output_type": "execute_result"
    }
   ],
   "source": [
    "(gpas == max_gpa).mean() #True's can be autocast as 1.0 and False's can be autocast as 0.0"
   ]
  },
  {
   "cell_type": "code",
   "execution_count": 49,
   "metadata": {},
   "outputs": [
    {
     "ename": "NameError",
     "evalue": "name 'major' is not defined",
     "output_type": "error",
     "traceback": [
      "\u001b[0;31m---------------------------------------------------------------------------\u001b[0m",
      "\u001b[0;31mNameError\u001b[0m                                 Traceback (most recent call last)",
      "\u001b[0;32m<ipython-input-49-faa8035b4f21>\u001b[0m in \u001b[0;36m<module>\u001b[0;34m()\u001b[0m\n\u001b[1;32m      1\u001b[0m \u001b[0;32mfor\u001b[0m \u001b[0mmajors\u001b[0m \u001b[0;32min\u001b[0m \u001b[0mset\u001b[0m\u001b[0;34m(\u001b[0m\u001b[0mmajors\u001b[0m\u001b[0;34m)\u001b[0m\u001b[0;34m:\u001b[0m\u001b[0;34m\u001b[0m\u001b[0m\n\u001b[0;32m----> 2\u001b[0;31m     \u001b[0mprint\u001b[0m\u001b[0;34m(\u001b[0m\u001b[0mmajor\u001b[0m\u001b[0;34m,\u001b[0m \u001b[0;34m(\u001b[0m\u001b[0mmajor\u001b[0m \u001b[0;34m==\u001b[0m \u001b[0mmajor\u001b[0m\u001b[0;34m)\u001b[0m\u001b[0;34m.\u001b[0m\u001b[0mmean\u001b[0m\u001b[0;34m(\u001b[0m\u001b[0;34m)\u001b[0m\u001b[0;34m)\u001b[0m\u001b[0;34m\u001b[0m\u001b[0m\n\u001b[0m",
      "\u001b[0;31mNameError\u001b[0m: name 'major' is not defined"
     ]
    }
   ],
   "source": [
    "for majors in set(majors):\n",
    "    print(major, (major == major).mean())"
   ]
  },
  {
   "cell_type": "markdown",
   "metadata": {},
   "source": [
    "##### Numpy built-in scientific helper Objects\n",
    "\n",
    "Numpy has several built-in Objects that help with your analyses. There are WAY too many to cover, but here are a few that you may find yourself using.\n",
    "\n",
    "##### Native Math functions"
   ]
  },
  {
   "cell_type": "code",
   "execution_count": 50,
   "metadata": {},
   "outputs": [
    {
     "data": {
      "text/plain": [
       "5.0"
      ]
     },
     "execution_count": 50,
     "metadata": {},
     "output_type": "execute_result"
    }
   ],
   "source": [
    "#Square root\n",
    "np.sqrt(25)"
   ]
  },
  {
   "cell_type": "code",
   "execution_count": 51,
   "metadata": {},
   "outputs": [
    {
     "data": {
      "text/plain": [
       "2.995732273553991"
      ]
     },
     "execution_count": 51,
     "metadata": {},
     "output_type": "execute_result"
    }
   ],
   "source": [
    "#Base e logarithm\n",
    "np.log(20)"
   ]
  },
  {
   "cell_type": "code",
   "execution_count": 52,
   "metadata": {
    "scrolled": true
   },
   "outputs": [
    {
     "data": {
      "text/plain": [
       "1.3010299956639813"
      ]
     },
     "execution_count": 52,
     "metadata": {},
     "output_type": "execute_result"
    }
   ],
   "source": [
    "#Base 10 logarithm\n",
    "np.log10(20)"
   ]
  },
  {
   "cell_type": "code",
   "execution_count": 53,
   "metadata": {},
   "outputs": [
    {
     "data": {
      "text/plain": [
       "1.301029995663981"
      ]
     },
     "execution_count": 53,
     "metadata": {},
     "output_type": "execute_result"
    }
   ],
   "source": [
    "#Base n logarithm\n",
    "n = 10\n",
    "np.log(20) / np.log(n)"
   ]
  },
  {
   "cell_type": "code",
   "execution_count": 54,
   "metadata": {},
   "outputs": [
    {
     "data": {
      "text/plain": [
       "array([ 1,  4,  9, 16, 25, 36, 49, 64, 81])"
      ]
     },
     "execution_count": 54,
     "metadata": {},
     "output_type": "execute_result"
    }
   ],
   "source": [
    "squares = np.array([i**2 for i in range(1,10)])\n",
    "squares"
   ]
  },
  {
   "cell_type": "code",
   "execution_count": 55,
   "metadata": {},
   "outputs": [
    {
     "data": {
      "text/plain": [
       "array([1., 2., 3., 4., 5., 6., 7., 8., 9.])"
      ]
     },
     "execution_count": 55,
     "metadata": {},
     "output_type": "execute_result"
    }
   ],
   "source": [
    "#As we showed before, we can vectorize mathematical operations\n",
    "np.sqrt(squares)"
   ]
  },
  {
   "cell_type": "code",
   "execution_count": 56,
   "metadata": {},
   "outputs": [
    {
     "data": {
      "text/plain": [
       "array([0.        , 1.38629436, 2.19722458, 2.77258872, 3.21887582,\n",
       "       3.58351894, 3.8918203 , 4.15888308, 4.39444915])"
      ]
     },
     "execution_count": 56,
     "metadata": {},
     "output_type": "execute_result"
    }
   ],
   "source": [
    "np.log(squares)"
   ]
  },
  {
   "cell_type": "markdown",
   "metadata": {},
   "source": [
    "##### Random Number Generator and Sampler"
   ]
  },
  {
   "cell_type": "code",
   "execution_count": 57,
   "metadata": {},
   "outputs": [
    {
     "data": {
      "text/plain": [
       "array([35, 64, 46, 67,  2, 77, 32, 94, 63, 28])"
      ]
     },
     "execution_count": 57,
     "metadata": {},
     "output_type": "execute_result"
    }
   ],
   "source": [
    "np.random.randint(1,100,size=10)"
   ]
  },
  {
   "cell_type": "code",
   "execution_count": 58,
   "metadata": {},
   "outputs": [
    {
     "data": {
      "text/plain": [
       "array([0.94902169, 0.13231593, 0.05168182, 0.66064409, 0.71586207,\n",
       "       0.39218724, 0.85536755, 0.56734437, 0.18764922, 0.86941338])"
      ]
     },
     "execution_count": 58,
     "metadata": {},
     "output_type": "execute_result"
    }
   ],
   "source": [
    "np.random.random(size=10)"
   ]
  },
  {
   "cell_type": "code",
   "execution_count": 59,
   "metadata": {},
   "outputs": [
    {
     "data": {
      "text/plain": [
       "array([1.25984898, 6.42800169, 2.73848888, 3.92833669, 5.15709465,\n",
       "       7.13639831, 3.24261335, 0.83659915, 0.40138315, 3.79607391])"
      ]
     },
     "execution_count": 59,
     "metadata": {},
     "output_type": "execute_result"
    }
   ],
   "source": [
    "np.random.random(size=10) * 10"
   ]
  },
  {
   "cell_type": "code",
   "execution_count": 60,
   "metadata": {},
   "outputs": [
    {
     "data": {
      "text/plain": [
       "array([0.18840837, 0.99065694, 1.14577965, 0.77542386, 0.97467738,\n",
       "       0.48655405, 0.78830985, 0.89234144, 1.39525894, 1.00747233])"
      ]
     },
     "execution_count": 60,
     "metadata": {},
     "output_type": "execute_result"
    }
   ],
   "source": [
    "np.random.normal(1,.5, size=10)"
   ]
  },
  {
   "cell_type": "code",
   "execution_count": 61,
   "metadata": {},
   "outputs": [],
   "source": [
    "lots_of_numbers = np.arange(1,10000) #Equivalent of native range() function"
   ]
  },
  {
   "cell_type": "code",
   "execution_count": 62,
   "metadata": {},
   "outputs": [
    {
     "data": {
      "text/plain": [
       "array([7131, 9613, 8378, 9904, 5593, 4563, 7291, 6126,  104, 8827])"
      ]
     },
     "execution_count": 62,
     "metadata": {},
     "output_type": "execute_result"
    }
   ],
   "source": [
    "random_sample = np.random.choice(lots_of_numbers, size=10)\n",
    "random_sample"
   ]
  },
  {
   "cell_type": "code",
   "execution_count": 63,
   "metadata": {},
   "outputs": [
    {
     "data": {
      "text/plain": [
       "array(['Physics', 'Math', 'Math', 'Physics', 'Math', 'Economics', 'Math',\n",
       "       'Economics', 'Math', 'Math', 'Math', 'Math', 'Physics',\n",
       "       'Economics', 'Physics', 'Physics', 'Economics', 'Math', 'Math',\n",
       "       'Physics', 'Physics', 'Math', 'Economics', 'Math', 'Physics',\n",
       "       'Physics', 'Math', 'Math', 'Physics', 'Physics', 'Physics',\n",
       "       'Economics', 'Physics', 'Economics', 'Economics', 'Physics',\n",
       "       'Math', 'Economics', 'Physics', 'Math', 'Economics', 'Math',\n",
       "       'Economics', 'Physics', 'Math', 'Physics', 'Economics', 'Math',\n",
       "       'Math', 'Math', 'Math', 'Math', 'Economics', 'Physics', 'Math',\n",
       "       'Physics', 'Physics', 'Physics', 'Physics', 'Physics', 'Math',\n",
       "       'Physics', 'Math', 'Math', 'Physics', 'Physics', 'Physics',\n",
       "       'Physics', 'Physics', 'Physics', 'Physics', 'Math', 'Physics',\n",
       "       'Economics', 'Math', 'Math', 'Physics', 'Economics', 'Physics',\n",
       "       'Physics', 'Economics', 'Physics', 'Physics', 'Physics',\n",
       "       'Economics', 'Physics', 'Physics', 'Math', 'Physics', 'Math',\n",
       "       'Physics', 'Physics', 'Physics', 'Math', 'Physics', 'Physics',\n",
       "       'Physics', 'Math', 'Math', 'Economics', 'Physics', 'Math', 'Math',\n",
       "       'Math', 'Math', 'Math', 'Physics', 'Physics', 'Economics',\n",
       "       'Economics', 'Physics', 'Math', 'Math', 'Economics', 'Math',\n",
       "       'Physics', 'Math', 'Physics', 'Math', 'Math', 'Math', 'Physics',\n",
       "       'Physics', 'Physics', 'Physics', 'Economics', 'Physics',\n",
       "       'Economics', 'Math', 'Math', 'Physics', 'Physics', 'Math', 'Math',\n",
       "       'Physics', 'Physics', 'Math', 'Physics', 'Economics', 'Math',\n",
       "       'Math', 'Physics', 'Economics', 'Economics', 'Physics',\n",
       "       'Economics', 'Physics', 'Physics', 'Economics', 'Economics',\n",
       "       'Economics', 'Physics', 'Math', 'Math', 'Physics', 'Physics',\n",
       "       'Economics', 'Economics', 'Physics', 'Physics', 'Physics',\n",
       "       'Physics', 'Physics', 'Math', 'Physics', 'Economics', 'Physics',\n",
       "       'Physics', 'Economics', 'Physics', 'Physics', 'Economics',\n",
       "       'Physics', 'Math', 'Math', 'Physics', 'Math', 'Physics', 'Math',\n",
       "       'Math', 'Math', 'Economics', 'Physics', 'Math', 'Math', 'Physics',\n",
       "       'Economics', 'Physics', 'Economics', 'Physics', 'Physics', 'Math',\n",
       "       'Physics', 'Physics', 'Economics', 'Physics', 'Physics', 'Physics',\n",
       "       'Physics', 'Physics', 'Economics', 'Math', 'Physics', 'Math',\n",
       "       'Math', 'Physics', 'Math', 'Economics', 'Physics', 'Economics',\n",
       "       'Math', 'Physics', 'Physics', 'Physics', 'Physics', 'Physics',\n",
       "       'Math', 'Physics', 'Math', 'Economics', 'Economics', 'Physics',\n",
       "       'Economics', 'Math', 'Physics', 'Physics', 'Math', 'Economics',\n",
       "       'Physics', 'Math', 'Math', 'Math', 'Math', 'Physics', 'Economics',\n",
       "       'Math', 'Math', 'Physics', 'Economics', 'Physics', 'Physics',\n",
       "       'Economics', 'Physics', 'Math', 'Math', 'Physics', 'Math',\n",
       "       'Economics', 'Physics', 'Economics', 'Physics', 'Physics', 'Math',\n",
       "       'Physics', 'Math', 'Math', 'Economics', 'Physics', 'Physics',\n",
       "       'Economics', 'Economics', 'Physics', 'Physics', 'Physics',\n",
       "       'Economics', 'Math', 'Math', 'Economics', 'Physics', 'Math',\n",
       "       'Math', 'Physics', 'Math', 'Math', 'Physics', 'Math', 'Math',\n",
       "       'Physics', 'Physics', 'Physics', 'Math', 'Physics', 'Economics',\n",
       "       'Physics', 'Economics', 'Math', 'Physics', 'Physics', 'Math',\n",
       "       'Physics', 'Math', 'Physics', 'Physics', 'Math', 'Math', 'Physics',\n",
       "       'Math', 'Physics', 'Physics', 'Physics', 'Physics', 'Physics',\n",
       "       'Math', 'Physics', 'Math', 'Physics', 'Math', 'Math', 'Physics',\n",
       "       'Physics', 'Math', 'Math', 'Math', 'Physics', 'Math', 'Math',\n",
       "       'Economics', 'Physics', 'Physics', 'Math', 'Economics',\n",
       "       'Economics', 'Math', 'Math', 'Physics', 'Math', 'Economics',\n",
       "       'Physics', 'Economics', 'Physics', 'Physics', 'Physics', 'Math',\n",
       "       'Physics', 'Math', 'Physics', 'Physics', 'Math', 'Math', 'Math',\n",
       "       'Math', 'Physics', 'Economics', 'Math', 'Economics', 'Physics',\n",
       "       'Physics', 'Economics', 'Physics', 'Physics', 'Economics',\n",
       "       'Economics', 'Math', 'Physics', 'Economics', 'Math', 'Physics',\n",
       "       'Physics', 'Physics', 'Physics', 'Physics', 'Physics', 'Math',\n",
       "       'Economics', 'Physics', 'Physics', 'Physics', 'Economics',\n",
       "       'Physics', 'Economics', 'Math', 'Math', 'Economics', 'Economics',\n",
       "       'Math', 'Physics', 'Math', 'Physics', 'Physics', 'Economics',\n",
       "       'Math', 'Math', 'Math', 'Physics', 'Math', 'Economics', 'Physics',\n",
       "       'Economics', 'Physics', 'Physics', 'Physics', 'Physics',\n",
       "       'Economics', 'Physics', 'Math', 'Physics', 'Math', 'Physics',\n",
       "       'Economics', 'Physics', 'Physics', 'Math', 'Economics', 'Physics',\n",
       "       'Physics', 'Physics', 'Math', 'Physics', 'Physics', 'Physics',\n",
       "       'Math', 'Economics', 'Physics', 'Math', 'Math', 'Math', 'Math',\n",
       "       'Physics', 'Economics', 'Economics', 'Physics', 'Physics',\n",
       "       'Economics', 'Math', 'Physics', 'Physics', 'Physics', 'Physics',\n",
       "       'Physics', 'Math', 'Math', 'Physics', 'Math', 'Economics',\n",
       "       'Physics', 'Physics', 'Physics', 'Math', 'Physics', 'Math',\n",
       "       'Physics', 'Economics', 'Physics', 'Physics', 'Physics',\n",
       "       'Economics', 'Economics', 'Math', 'Physics', 'Physics', 'Physics',\n",
       "       'Economics', 'Physics', 'Physics', 'Physics', 'Physics',\n",
       "       'Economics', 'Math', 'Physics', 'Physics', 'Economics',\n",
       "       'Economics', 'Math', 'Physics', 'Physics', 'Physics', 'Physics',\n",
       "       'Physics', 'Math', 'Math', 'Physics', 'Math', 'Economics',\n",
       "       'Physics', 'Math', 'Physics', 'Math', 'Physics', 'Math',\n",
       "       'Economics', 'Physics', 'Physics', 'Physics', 'Economics', 'Math',\n",
       "       'Economics', 'Math', 'Physics', 'Math', 'Math', 'Physics',\n",
       "       'Physics', 'Math', 'Math', 'Physics', 'Economics', 'Physics',\n",
       "       'Economics', 'Physics', 'Math', 'Economics', 'Physics', 'Physics',\n",
       "       'Math', 'Economics', 'Physics', 'Math', 'Physics', 'Physics',\n",
       "       'Physics', 'Physics', 'Physics', 'Physics', 'Economics', 'Math',\n",
       "       'Math', 'Math', 'Math', 'Physics', 'Math', 'Physics', 'Economics',\n",
       "       'Math', 'Economics', 'Physics', 'Physics', 'Math', 'Math',\n",
       "       'Economics', 'Economics', 'Physics', 'Physics', 'Physics',\n",
       "       'Physics', 'Physics', 'Physics', 'Physics', 'Physics', 'Math',\n",
       "       'Math', 'Physics', 'Physics', 'Math', 'Economics', 'Physics',\n",
       "       'Economics', 'Math', 'Physics', 'Physics', 'Physics', 'Physics',\n",
       "       'Math', 'Economics', 'Math', 'Economics', 'Physics', 'Physics',\n",
       "       'Economics', 'Physics', 'Math', 'Physics', 'Physics', 'Economics',\n",
       "       'Math', 'Economics', 'Economics', 'Physics', 'Physics', 'Math',\n",
       "       'Physics', 'Physics', 'Physics', 'Economics', 'Math', 'Physics',\n",
       "       'Math', 'Physics', 'Physics', 'Physics', 'Math', 'Physics',\n",
       "       'Physics', 'Physics', 'Physics', 'Economics', 'Economics',\n",
       "       'Physics', 'Economics', 'Economics', 'Physics', 'Math', 'Physics',\n",
       "       'Physics', 'Physics', 'Physics', 'Economics', 'Math', 'Physics',\n",
       "       'Physics', 'Math', 'Economics', 'Math', 'Economics', 'Physics',\n",
       "       'Physics', 'Physics', 'Physics', 'Math', 'Math', 'Math', 'Physics',\n",
       "       'Physics', 'Math', 'Physics', 'Physics', 'Math', 'Physics',\n",
       "       'Physics', 'Economics', 'Math', 'Physics', 'Math', 'Physics',\n",
       "       'Physics', 'Physics', 'Physics', 'Math', 'Physics', 'Physics',\n",
       "       'Economics', 'Economics', 'Economics', 'Physics', 'Economics',\n",
       "       'Economics', 'Physics', 'Physics', 'Economics', 'Physics', 'Math',\n",
       "       'Physics', 'Physics', 'Math', 'Physics', 'Economics', 'Physics',\n",
       "       'Physics', 'Math', 'Physics', 'Physics', 'Economics', 'Physics',\n",
       "       'Math', 'Physics', 'Economics', 'Math', 'Physics', 'Math',\n",
       "       'Economics', 'Math', 'Physics', 'Math', 'Economics', 'Physics',\n",
       "       'Physics', 'Math', 'Physics', 'Math', 'Math', 'Math', 'Physics',\n",
       "       'Economics', 'Economics', 'Math', 'Physics', 'Economics',\n",
       "       'Physics', 'Physics', 'Math', 'Economics', 'Economics', 'Physics',\n",
       "       'Physics', 'Economics', 'Math', 'Economics', 'Math', 'Physics',\n",
       "       'Math', 'Physics', 'Economics', 'Physics', 'Economics',\n",
       "       'Economics', 'Physics', 'Economics', 'Economics', 'Economics',\n",
       "       'Physics', 'Physics', 'Math', 'Economics', 'Physics', 'Economics',\n",
       "       'Math', 'Math', 'Economics', 'Physics', 'Physics', 'Physics',\n",
       "       'Physics', 'Math', 'Physics', 'Economics', 'Physics', 'Physics',\n",
       "       'Physics', 'Physics', 'Physics', 'Economics', 'Physics',\n",
       "       'Economics', 'Math', 'Physics', 'Math', 'Math', 'Math', 'Physics',\n",
       "       'Math', 'Physics', 'Math', 'Physics', 'Physics', 'Economics',\n",
       "       'Math', 'Math', 'Physics', 'Physics', 'Physics', 'Physics',\n",
       "       'Physics', 'Physics', 'Economics', 'Economics', 'Math', 'Math',\n",
       "       'Economics', 'Math', 'Physics', 'Physics', 'Physics', 'Economics',\n",
       "       'Math', 'Economics', 'Physics', 'Physics', 'Economics', 'Math',\n",
       "       'Economics', 'Physics', 'Economics', 'Math', 'Economics', 'Math',\n",
       "       'Economics', 'Economics', 'Physics', 'Physics', 'Math', 'Physics',\n",
       "       'Physics', 'Physics', 'Economics', 'Economics', 'Physics',\n",
       "       'Physics', 'Physics', 'Math', 'Economics', 'Economics', 'Physics',\n",
       "       'Math', 'Math', 'Economics', 'Economics', 'Physics', 'Math',\n",
       "       'Physics', 'Physics', 'Math', 'Physics', 'Math', 'Physics',\n",
       "       'Physics', 'Physics', 'Physics', 'Physics', 'Physics', 'Physics',\n",
       "       'Physics', 'Physics', 'Math', 'Physics', 'Math', 'Math',\n",
       "       'Economics', 'Physics', 'Physics', 'Physics', 'Physics', 'Physics',\n",
       "       'Physics', 'Physics', 'Math', 'Economics', 'Economics', 'Math',\n",
       "       'Economics', 'Math', 'Math', 'Physics', 'Physics', 'Physics',\n",
       "       'Math', 'Math', 'Economics', 'Physics', 'Math', 'Math', 'Physics',\n",
       "       'Math', 'Economics', 'Math', 'Physics', 'Physics', 'Physics',\n",
       "       'Economics', 'Physics', 'Physics', 'Math', 'Physics', 'Math',\n",
       "       'Math', 'Physics', 'Physics', 'Math', 'Physics', 'Physics',\n",
       "       'Physics', 'Math', 'Physics', 'Physics', 'Physics', 'Economics',\n",
       "       'Economics', 'Economics', 'Math', 'Physics', 'Physics', 'Math',\n",
       "       'Math', 'Physics', 'Math', 'Physics', 'Physics', 'Physics', 'Math',\n",
       "       'Economics', 'Math', 'Economics', 'Physics', 'Physics', 'Physics',\n",
       "       'Physics', 'Physics', 'Physics', 'Physics', 'Economics', 'Physics',\n",
       "       'Physics', 'Math', 'Physics', 'Physics', 'Math', 'Physics',\n",
       "       'Physics', 'Physics', 'Physics', 'Physics', 'Math', 'Physics',\n",
       "       'Math', 'Physics', 'Math', 'Physics', 'Economics', 'Economics',\n",
       "       'Math', 'Economics', 'Math', 'Physics', 'Economics', 'Economics',\n",
       "       'Math', 'Economics', 'Math', 'Math', 'Math', 'Math', 'Economics',\n",
       "       'Physics', 'Physics', 'Physics', 'Math', 'Math', 'Economics',\n",
       "       'Economics', 'Economics', 'Economics', 'Math', 'Physics', 'Math',\n",
       "       'Math', 'Math', 'Math', 'Physics', 'Math', 'Math', 'Physics',\n",
       "       'Economics', 'Physics', 'Physics', 'Math', 'Economics', 'Physics',\n",
       "       'Physics', 'Physics', 'Physics', 'Physics', 'Physics', 'Physics',\n",
       "       'Physics', 'Physics', 'Physics', 'Physics', 'Physics', 'Economics',\n",
       "       'Math', 'Physics', 'Math', 'Math', 'Economics', 'Physics',\n",
       "       'Physics', 'Physics', 'Math', 'Physics', 'Physics', 'Physics',\n",
       "       'Physics', 'Physics', 'Physics', 'Physics', 'Physics', 'Physics',\n",
       "       'Physics', 'Physics', 'Math', 'Math', 'Physics', 'Physics', 'Math',\n",
       "       'Economics', 'Math', 'Economics', 'Physics', 'Physics', 'Physics',\n",
       "       'Math', 'Economics', 'Physics', 'Economics', 'Physics', 'Physics',\n",
       "       'Physics', 'Math', 'Physics', 'Economics', 'Math', 'Economics',\n",
       "       'Math', 'Economics', 'Physics', 'Physics', 'Physics', 'Physics',\n",
       "       'Physics', 'Physics', 'Physics', 'Economics'], dtype='<U9')"
      ]
     },
     "execution_count": 63,
     "metadata": {},
     "output_type": "execute_result"
    }
   ],
   "source": [
    "majors = ['Economics', 'Physics', 'Math']\n",
    "lots_of_majors = np.random.choice(majors, p=[.2,.5,.3], size=1000)\n",
    "lots_of_majors"
   ]
  },
  {
   "cell_type": "code",
   "execution_count": 64,
   "metadata": {},
   "outputs": [
    {
     "data": {
      "text/plain": [
       "array([ True, False, False,  True, False, False, False, False, False,\n",
       "       False, False, False,  True, False,  True,  True, False, False,\n",
       "       False,  True,  True, False, False, False,  True,  True, False,\n",
       "       False,  True,  True,  True, False,  True, False, False,  True,\n",
       "       False, False,  True, False, False, False, False,  True, False,\n",
       "        True, False, False, False, False, False, False, False,  True,\n",
       "       False,  True,  True,  True,  True,  True, False,  True, False,\n",
       "       False,  True,  True,  True,  True,  True,  True,  True, False,\n",
       "        True, False, False, False,  True, False,  True,  True, False,\n",
       "        True,  True,  True, False,  True,  True, False,  True, False,\n",
       "        True,  True,  True, False,  True,  True,  True, False, False,\n",
       "       False,  True, False, False, False, False, False,  True,  True,\n",
       "       False, False,  True, False, False, False, False,  True, False,\n",
       "        True, False, False, False,  True,  True,  True,  True, False,\n",
       "        True, False, False, False,  True,  True, False, False,  True,\n",
       "        True, False,  True, False, False, False,  True, False, False,\n",
       "        True, False,  True,  True, False, False, False,  True, False,\n",
       "       False,  True,  True, False, False,  True,  True,  True,  True,\n",
       "        True, False,  True, False,  True,  True, False,  True,  True,\n",
       "       False,  True, False, False,  True, False,  True, False, False,\n",
       "       False, False,  True, False, False,  True, False,  True, False,\n",
       "        True,  True, False,  True,  True, False,  True,  True,  True,\n",
       "        True,  True, False, False,  True, False, False,  True, False,\n",
       "       False,  True, False, False,  True,  True,  True,  True,  True,\n",
       "       False,  True, False, False, False,  True, False, False,  True,\n",
       "        True, False, False,  True, False, False, False, False,  True,\n",
       "       False, False, False,  True, False,  True,  True, False,  True,\n",
       "       False, False,  True, False, False,  True, False,  True,  True,\n",
       "       False,  True, False, False, False,  True,  True, False, False,\n",
       "        True,  True,  True, False, False, False, False,  True, False,\n",
       "       False,  True, False, False,  True, False, False,  True,  True,\n",
       "        True, False,  True, False,  True, False, False,  True,  True,\n",
       "       False,  True, False,  True,  True, False, False,  True, False,\n",
       "        True,  True,  True,  True,  True, False,  True, False,  True,\n",
       "       False, False,  True,  True, False, False, False,  True, False,\n",
       "       False, False,  True,  True, False, False, False, False, False,\n",
       "        True, False, False,  True, False,  True,  True,  True, False,\n",
       "        True, False,  True,  True, False, False, False, False,  True,\n",
       "       False, False, False,  True,  True, False,  True,  True, False,\n",
       "       False, False,  True, False, False,  True,  True,  True,  True,\n",
       "        True,  True, False, False,  True,  True,  True, False,  True,\n",
       "       False, False, False, False, False, False,  True, False,  True,\n",
       "        True, False, False, False, False,  True, False, False,  True,\n",
       "       False,  True,  True,  True,  True, False,  True, False,  True,\n",
       "       False,  True, False,  True,  True, False, False,  True,  True,\n",
       "        True, False,  True,  True,  True, False, False,  True, False,\n",
       "       False, False, False,  True, False, False,  True,  True, False,\n",
       "       False,  True,  True,  True,  True,  True, False, False,  True,\n",
       "       False, False,  True,  True,  True, False,  True, False,  True,\n",
       "       False,  True,  True,  True, False, False, False,  True,  True,\n",
       "        True, False,  True,  True,  True,  True, False, False,  True,\n",
       "        True, False, False, False,  True,  True,  True,  True,  True,\n",
       "       False, False,  True, False, False,  True, False,  True, False,\n",
       "        True, False, False,  True,  True,  True, False, False, False,\n",
       "       False,  True, False, False,  True,  True, False, False,  True,\n",
       "       False,  True, False,  True, False, False,  True,  True, False,\n",
       "       False,  True, False,  True,  True,  True,  True,  True,  True,\n",
       "       False, False, False, False, False,  True, False,  True, False,\n",
       "       False, False,  True,  True, False, False, False, False,  True,\n",
       "        True,  True,  True,  True,  True,  True,  True, False, False,\n",
       "        True,  True, False, False,  True, False, False,  True,  True,\n",
       "        True,  True, False, False, False, False,  True,  True, False,\n",
       "        True, False,  True,  True, False, False, False, False,  True,\n",
       "        True, False,  True,  True,  True, False, False,  True, False,\n",
       "        True,  True,  True, False,  True,  True,  True,  True, False,\n",
       "       False,  True, False, False,  True, False,  True,  True,  True,\n",
       "        True, False, False,  True,  True, False, False, False, False,\n",
       "        True,  True,  True,  True, False, False, False,  True,  True,\n",
       "       False,  True,  True, False,  True,  True, False, False,  True,\n",
       "       False,  True,  True,  True,  True, False,  True,  True, False,\n",
       "       False, False,  True, False, False,  True,  True, False,  True,\n",
       "       False,  True,  True, False,  True, False,  True,  True, False,\n",
       "        True,  True, False,  True, False,  True, False, False,  True,\n",
       "       False, False, False,  True, False, False,  True,  True, False,\n",
       "        True, False, False, False,  True, False, False, False,  True,\n",
       "       False,  True,  True, False, False, False,  True,  True, False,\n",
       "       False, False, False,  True, False,  True, False,  True, False,\n",
       "       False,  True, False, False, False,  True,  True, False, False,\n",
       "        True, False, False, False, False,  True,  True,  True,  True,\n",
       "       False,  True, False,  True,  True,  True,  True,  True, False,\n",
       "        True, False, False,  True, False, False, False,  True, False,\n",
       "        True, False,  True,  True, False, False, False,  True,  True,\n",
       "        True,  True,  True,  True, False, False, False, False, False,\n",
       "       False,  True,  True,  True, False, False, False,  True,  True,\n",
       "       False, False, False,  True, False, False, False, False, False,\n",
       "       False,  True,  True, False,  True,  True,  True, False, False,\n",
       "        True,  True,  True, False, False, False,  True, False, False,\n",
       "       False, False,  True, False,  True,  True, False,  True, False,\n",
       "        True,  True,  True,  True,  True,  True,  True,  True,  True,\n",
       "       False,  True, False, False, False,  True,  True,  True,  True,\n",
       "        True,  True,  True, False, False, False, False, False, False,\n",
       "       False,  True,  True,  True, False, False, False,  True, False,\n",
       "       False,  True, False, False, False,  True,  True,  True, False,\n",
       "        True,  True, False,  True, False, False,  True,  True, False,\n",
       "        True,  True,  True, False,  True,  True,  True, False, False,\n",
       "       False, False,  True,  True, False, False,  True, False,  True,\n",
       "        True,  True, False, False, False, False,  True,  True,  True,\n",
       "        True,  True,  True,  True, False,  True,  True, False,  True,\n",
       "        True, False,  True,  True,  True,  True,  True, False,  True,\n",
       "       False,  True, False,  True, False, False, False, False, False,\n",
       "        True, False, False, False, False, False, False, False, False,\n",
       "       False,  True,  True,  True, False, False, False, False, False,\n",
       "       False, False,  True, False, False, False, False,  True, False,\n",
       "       False,  True, False,  True,  True, False, False,  True,  True,\n",
       "        True,  True,  True,  True,  True,  True,  True,  True,  True,\n",
       "        True, False, False,  True, False, False, False,  True,  True,\n",
       "        True, False,  True,  True,  True,  True,  True,  True,  True,\n",
       "        True,  True,  True,  True, False, False,  True,  True, False,\n",
       "       False, False, False,  True,  True,  True, False, False,  True,\n",
       "       False,  True,  True,  True, False,  True, False, False, False,\n",
       "       False, False,  True,  True,  True,  True,  True,  True,  True,\n",
       "       False])"
      ]
     },
     "execution_count": 64,
     "metadata": {},
     "output_type": "execute_result"
    }
   ],
   "source": [
    "#How many Physics majors did we get?\n",
    "lots_of_majors == 'Physics'"
   ]
  },
  {
   "cell_type": "markdown",
   "metadata": {},
   "source": [
    "### Intro to Pandas\n",
    "Pandas is going to be your best friend for the rest of your time analyzing data in Python. It offers much of the functionality of Numpy, but with a MUCH more user-friendly way of displaying and accessing data.\n",
    "\n",
    "The two fundamental data structures of Pandas are the Series and the DataFrame. A Series can be viewed as equivalent to a Numpy array, while a DataFrame can be viewed as a combination of Series, with some additional functionality.\n",
    "\n",
    "Let's start by opening a file using Pandas built-in method."
   ]
  },
  {
   "cell_type": "code",
   "execution_count": 65,
   "metadata": {},
   "outputs": [],
   "source": [
    "import pandas as pd\n",
    "students_df = pd.read_csv('students.csv') #This is way easier than our method from before!"
   ]
  },
  {
   "cell_type": "code",
   "execution_count": 66,
   "metadata": {},
   "outputs": [
    {
     "data": {
      "text/html": [
       "<div>\n",
       "<style scoped>\n",
       "    .dataframe tbody tr th:only-of-type {\n",
       "        vertical-align: middle;\n",
       "    }\n",
       "\n",
       "    .dataframe tbody tr th {\n",
       "        vertical-align: top;\n",
       "    }\n",
       "\n",
       "    .dataframe thead th {\n",
       "        text-align: right;\n",
       "    }\n",
       "</style>\n",
       "<table border=\"1\" class=\"dataframe\">\n",
       "  <thead>\n",
       "    <tr style=\"text-align: right;\">\n",
       "      <th></th>\n",
       "      <th>student_id</th>\n",
       "      <th>first</th>\n",
       "      <th>last</th>\n",
       "      <th>gender</th>\n",
       "      <th>class</th>\n",
       "      <th>major</th>\n",
       "      <th>gpa</th>\n",
       "    </tr>\n",
       "  </thead>\n",
       "  <tbody>\n",
       "    <tr>\n",
       "      <th>0</th>\n",
       "      <td>5a397209-3782-4764-a285-10fae807ee71</td>\n",
       "      <td>Janis</td>\n",
       "      <td>Brown</td>\n",
       "      <td>Female</td>\n",
       "      <td>Junior</td>\n",
       "      <td>Economics</td>\n",
       "      <td>3.12</td>\n",
       "    </tr>\n",
       "    <tr>\n",
       "      <th>1</th>\n",
       "      <td>e26c3d69-3c74-49b6-81d7-47232787fad9</td>\n",
       "      <td>Timothy</td>\n",
       "      <td>Bishop</td>\n",
       "      <td>Male</td>\n",
       "      <td>Sophomore</td>\n",
       "      <td>Economics</td>\n",
       "      <td>3.48</td>\n",
       "    </tr>\n",
       "    <tr>\n",
       "      <th>2</th>\n",
       "      <td>975c1581-5ba2-430c-a3d1-01ce03bd83f9</td>\n",
       "      <td>Elizabeth</td>\n",
       "      <td>Owens</td>\n",
       "      <td>Female</td>\n",
       "      <td>Freshman</td>\n",
       "      <td>Finance</td>\n",
       "      <td>3.40</td>\n",
       "    </tr>\n",
       "    <tr>\n",
       "      <th>3</th>\n",
       "      <td>6081f91d-365c-46ce-ad1b-38af120781d9</td>\n",
       "      <td>Edward</td>\n",
       "      <td>Pearson</td>\n",
       "      <td>Male</td>\n",
       "      <td>Freshman</td>\n",
       "      <td>Math</td>\n",
       "      <td>3.84</td>\n",
       "    </tr>\n",
       "    <tr>\n",
       "      <th>4</th>\n",
       "      <td>84cec8f4-0b64-44ce-a628-c0eb73f6ca6f</td>\n",
       "      <td>Lisa</td>\n",
       "      <td>Gonzalez</td>\n",
       "      <td>Female</td>\n",
       "      <td>Junior</td>\n",
       "      <td>Finance</td>\n",
       "      <td>4.00</td>\n",
       "    </tr>\n",
       "    <tr>\n",
       "      <th>5</th>\n",
       "      <td>6c849c3e-e640-4bba-a86a-4323fd513b90</td>\n",
       "      <td>Alphonse</td>\n",
       "      <td>Allen</td>\n",
       "      <td>Male</td>\n",
       "      <td>Freshman</td>\n",
       "      <td>Engineering</td>\n",
       "      <td>2.99</td>\n",
       "    </tr>\n",
       "    <tr>\n",
       "      <th>6</th>\n",
       "      <td>a5c87c39-447c-4c29-92af-fa702a8d5595</td>\n",
       "      <td>Linwood</td>\n",
       "      <td>Coleman</td>\n",
       "      <td>Male</td>\n",
       "      <td>Freshman</td>\n",
       "      <td>Engineering</td>\n",
       "      <td>3.58</td>\n",
       "    </tr>\n",
       "    <tr>\n",
       "      <th>7</th>\n",
       "      <td>f6b177e8-e00a-480e-b62e-906c2ad80f85</td>\n",
       "      <td>Arthur</td>\n",
       "      <td>Mccolpin</td>\n",
       "      <td>Male</td>\n",
       "      <td>Junior</td>\n",
       "      <td>Math</td>\n",
       "      <td>3.04</td>\n",
       "    </tr>\n",
       "  </tbody>\n",
       "</table>\n",
       "</div>"
      ],
      "text/plain": [
       "                             student_id      first      last  gender  \\\n",
       "0  5a397209-3782-4764-a285-10fae807ee71      Janis     Brown  Female   \n",
       "1  e26c3d69-3c74-49b6-81d7-47232787fad9    Timothy    Bishop    Male   \n",
       "2  975c1581-5ba2-430c-a3d1-01ce03bd83f9  Elizabeth     Owens  Female   \n",
       "3  6081f91d-365c-46ce-ad1b-38af120781d9     Edward   Pearson    Male   \n",
       "4  84cec8f4-0b64-44ce-a628-c0eb73f6ca6f       Lisa  Gonzalez  Female   \n",
       "5  6c849c3e-e640-4bba-a86a-4323fd513b90   Alphonse     Allen    Male   \n",
       "6  a5c87c39-447c-4c29-92af-fa702a8d5595    Linwood   Coleman    Male   \n",
       "7  f6b177e8-e00a-480e-b62e-906c2ad80f85     Arthur  Mccolpin    Male   \n",
       "\n",
       "       class        major   gpa  \n",
       "0     Junior    Economics  3.12  \n",
       "1  Sophomore    Economics  3.48  \n",
       "2   Freshman      Finance  3.40  \n",
       "3   Freshman         Math  3.84  \n",
       "4     Junior      Finance  4.00  \n",
       "5   Freshman  Engineering  2.99  \n",
       "6   Freshman  Engineering  3.58  \n",
       "7     Junior         Math  3.04  "
      ]
     },
     "execution_count": 66,
     "metadata": {},
     "output_type": "execute_result"
    }
   ],
   "source": [
    "#Let's look at the first few records of the students DataFrame\n",
    "students_df.head(8) #The \"head\" method will give you as many rows as you ask for; 5 is default"
   ]
  },
  {
   "cell_type": "markdown",
   "metadata": {},
   "source": [
    "#### Intro to the DataFrame\n",
    "\n",
    "DataFrames consist of rows and columns. These are the fundamental \"units\" of data for a Data Scientist. This is what allows us to organize our data to analyze quickly and consistently. Rows are considered individual \"observations\" whereas columns are considered \"attributes.\" The \"shape\" of a data is defined as the number of rows by the number of columns.\n",
    "\n",
    "In the DataFrame above, you can see that the attributes identified are:\n",
    "- student_id\n",
    "- first\n",
    "- last\n",
    "- gender\n",
    "- class\n",
    "- major\n",
    "- gpa\n",
    "\n",
    "Each student's information can be found in a row. Thus, the first row (index 0) is Janis Brown, who is a Female and a Junior Economics student with a GPA of 3.12.\n",
    "\n",
    "This is MUCH easier to read and track than lists of dictionaries or dictionaries of dictionaries or whatever other combination of data structures that base Python might be able to display for you. You're probably asking why ALL data isn't shown this way, and we'll get to that later on, but in the meantime, let's focus on the simple case here.\n",
    "\n",
    "Let's start by looking at the shape of the data."
   ]
  },
  {
   "cell_type": "code",
   "execution_count": 67,
   "metadata": {},
   "outputs": [
    {
     "data": {
      "text/plain": [
       "(10000, 7)"
      ]
     },
     "execution_count": 67,
     "metadata": {},
     "output_type": "execute_result"
    }
   ],
   "source": [
    "students_df.shape"
   ]
  },
  {
   "cell_type": "markdown",
   "metadata": {},
   "source": [
    "This means that the data has 10,000 rows and 7 columns. The first things you should always do when using DataFrames is look at the first few rows (the `.head()` method) and the shape of the data."
   ]
  },
  {
   "cell_type": "markdown",
   "metadata": {},
   "source": [
    "### Accessing chunks of data in a DataFrame\n",
    "\n",
    "You will almost always want to focus your attention or compute values oncertain subsections of the data. For this there are several ways to slice and dice the data.\n",
    "\n",
    "##### Accessing columns\n",
    "\n",
    "Much like dictionaries, columns are accessed via brackets and some column name (just like keys)."
   ]
  },
  {
   "cell_type": "code",
   "execution_count": 68,
   "metadata": {},
   "outputs": [
    {
     "data": {
      "text/plain": [
       "0           Janis\n",
       "1         Timothy\n",
       "2       Elizabeth\n",
       "3          Edward\n",
       "4            Lisa\n",
       "5        Alphonse\n",
       "6         Linwood\n",
       "7          Arthur\n",
       "8          Daniel\n",
       "9           Barry\n",
       "10      Maryellen\n",
       "11          Jacob\n",
       "12           Lisa\n",
       "13            Ida\n",
       "14           Lola\n",
       "15           Joan\n",
       "16          Larry\n",
       "17      Bridgette\n",
       "18          James\n",
       "19          David\n",
       "20         Ronald\n",
       "21        Heather\n",
       "22          Nancy\n",
       "23          David\n",
       "24          Jesus\n",
       "25        Richard\n",
       "26          Henry\n",
       "27          Pedro\n",
       "28         Israel\n",
       "29           Mary\n",
       "          ...    \n",
       "9970     Georgina\n",
       "9971      Lynette\n",
       "9972       Vickie\n",
       "9973       Willie\n",
       "9974       Sylvia\n",
       "9975        Derek\n",
       "9976      Charles\n",
       "9977     Jonathan\n",
       "9978         Dave\n",
       "9979        Ralph\n",
       "9980         Leta\n",
       "9981        Megan\n",
       "9982       Olivia\n",
       "9983         Anne\n",
       "9984         John\n",
       "9985         John\n",
       "9986       Shelly\n",
       "9987       Roland\n",
       "9988     Margaret\n",
       "9989        Alice\n",
       "9990        Mable\n",
       "9991       Joseph\n",
       "9992       Gladys\n",
       "9993      Douglas\n",
       "9994       Brandy\n",
       "9995       Kendra\n",
       "9996        Tonya\n",
       "9997      Deborah\n",
       "9998        David\n",
       "9999       Cheryl\n",
       "Name: first, Length: 10000, dtype: object"
      ]
     },
     "execution_count": 68,
     "metadata": {},
     "output_type": "execute_result"
    }
   ],
   "source": [
    "first_names = students_df['first'] #Returns a Series object\n",
    "first_names"
   ]
  },
  {
   "cell_type": "markdown",
   "metadata": {},
   "source": [
    "Unlike dictionaries, you can access multiple columns at the same time."
   ]
  },
  {
   "cell_type": "code",
   "execution_count": 69,
   "metadata": {},
   "outputs": [
    {
     "data": {
      "text/html": [
       "<div>\n",
       "<style scoped>\n",
       "    .dataframe tbody tr th:only-of-type {\n",
       "        vertical-align: middle;\n",
       "    }\n",
       "\n",
       "    .dataframe tbody tr th {\n",
       "        vertical-align: top;\n",
       "    }\n",
       "\n",
       "    .dataframe thead th {\n",
       "        text-align: right;\n",
       "    }\n",
       "</style>\n",
       "<table border=\"1\" class=\"dataframe\">\n",
       "  <thead>\n",
       "    <tr style=\"text-align: right;\">\n",
       "      <th></th>\n",
       "      <th>first</th>\n",
       "      <th>last</th>\n",
       "    </tr>\n",
       "  </thead>\n",
       "  <tbody>\n",
       "    <tr>\n",
       "      <th>0</th>\n",
       "      <td>Janis</td>\n",
       "      <td>Brown</td>\n",
       "    </tr>\n",
       "    <tr>\n",
       "      <th>1</th>\n",
       "      <td>Timothy</td>\n",
       "      <td>Bishop</td>\n",
       "    </tr>\n",
       "    <tr>\n",
       "      <th>2</th>\n",
       "      <td>Elizabeth</td>\n",
       "      <td>Owens</td>\n",
       "    </tr>\n",
       "    <tr>\n",
       "      <th>3</th>\n",
       "      <td>Edward</td>\n",
       "      <td>Pearson</td>\n",
       "    </tr>\n",
       "    <tr>\n",
       "      <th>4</th>\n",
       "      <td>Lisa</td>\n",
       "      <td>Gonzalez</td>\n",
       "    </tr>\n",
       "    <tr>\n",
       "      <th>5</th>\n",
       "      <td>Alphonse</td>\n",
       "      <td>Allen</td>\n",
       "    </tr>\n",
       "    <tr>\n",
       "      <th>6</th>\n",
       "      <td>Linwood</td>\n",
       "      <td>Coleman</td>\n",
       "    </tr>\n",
       "    <tr>\n",
       "      <th>7</th>\n",
       "      <td>Arthur</td>\n",
       "      <td>Mccolpin</td>\n",
       "    </tr>\n",
       "    <tr>\n",
       "      <th>8</th>\n",
       "      <td>Daniel</td>\n",
       "      <td>Carter</td>\n",
       "    </tr>\n",
       "    <tr>\n",
       "      <th>9</th>\n",
       "      <td>Barry</td>\n",
       "      <td>Reyes</td>\n",
       "    </tr>\n",
       "    <tr>\n",
       "      <th>10</th>\n",
       "      <td>Maryellen</td>\n",
       "      <td>Pack</td>\n",
       "    </tr>\n",
       "    <tr>\n",
       "      <th>11</th>\n",
       "      <td>Jacob</td>\n",
       "      <td>Davis</td>\n",
       "    </tr>\n",
       "    <tr>\n",
       "      <th>12</th>\n",
       "      <td>Lisa</td>\n",
       "      <td>Walden</td>\n",
       "    </tr>\n",
       "    <tr>\n",
       "      <th>13</th>\n",
       "      <td>Ida</td>\n",
       "      <td>Garcia</td>\n",
       "    </tr>\n",
       "    <tr>\n",
       "      <th>14</th>\n",
       "      <td>Lola</td>\n",
       "      <td>Bailey</td>\n",
       "    </tr>\n",
       "    <tr>\n",
       "      <th>15</th>\n",
       "      <td>Joan</td>\n",
       "      <td>Decoteau</td>\n",
       "    </tr>\n",
       "    <tr>\n",
       "      <th>16</th>\n",
       "      <td>Larry</td>\n",
       "      <td>Rogers</td>\n",
       "    </tr>\n",
       "    <tr>\n",
       "      <th>17</th>\n",
       "      <td>Bridgette</td>\n",
       "      <td>Vitucci</td>\n",
       "    </tr>\n",
       "    <tr>\n",
       "      <th>18</th>\n",
       "      <td>James</td>\n",
       "      <td>Bertolini</td>\n",
       "    </tr>\n",
       "    <tr>\n",
       "      <th>19</th>\n",
       "      <td>David</td>\n",
       "      <td>Burnette</td>\n",
       "    </tr>\n",
       "    <tr>\n",
       "      <th>20</th>\n",
       "      <td>Ronald</td>\n",
       "      <td>Foster</td>\n",
       "    </tr>\n",
       "    <tr>\n",
       "      <th>21</th>\n",
       "      <td>Heather</td>\n",
       "      <td>Manning</td>\n",
       "    </tr>\n",
       "    <tr>\n",
       "      <th>22</th>\n",
       "      <td>Nancy</td>\n",
       "      <td>Mclendon</td>\n",
       "    </tr>\n",
       "    <tr>\n",
       "      <th>23</th>\n",
       "      <td>David</td>\n",
       "      <td>Gross</td>\n",
       "    </tr>\n",
       "    <tr>\n",
       "      <th>24</th>\n",
       "      <td>Jesus</td>\n",
       "      <td>Boswell</td>\n",
       "    </tr>\n",
       "    <tr>\n",
       "      <th>25</th>\n",
       "      <td>Richard</td>\n",
       "      <td>Joyce</td>\n",
       "    </tr>\n",
       "    <tr>\n",
       "      <th>26</th>\n",
       "      <td>Henry</td>\n",
       "      <td>Allen</td>\n",
       "    </tr>\n",
       "    <tr>\n",
       "      <th>27</th>\n",
       "      <td>Pedro</td>\n",
       "      <td>Baldyga</td>\n",
       "    </tr>\n",
       "    <tr>\n",
       "      <th>28</th>\n",
       "      <td>Israel</td>\n",
       "      <td>Mota</td>\n",
       "    </tr>\n",
       "    <tr>\n",
       "      <th>29</th>\n",
       "      <td>Mary</td>\n",
       "      <td>Chi</td>\n",
       "    </tr>\n",
       "    <tr>\n",
       "      <th>...</th>\n",
       "      <td>...</td>\n",
       "      <td>...</td>\n",
       "    </tr>\n",
       "    <tr>\n",
       "      <th>9970</th>\n",
       "      <td>Georgina</td>\n",
       "      <td>Williams</td>\n",
       "    </tr>\n",
       "    <tr>\n",
       "      <th>9971</th>\n",
       "      <td>Lynette</td>\n",
       "      <td>Barth</td>\n",
       "    </tr>\n",
       "    <tr>\n",
       "      <th>9972</th>\n",
       "      <td>Vickie</td>\n",
       "      <td>Moore</td>\n",
       "    </tr>\n",
       "    <tr>\n",
       "      <th>9973</th>\n",
       "      <td>Willie</td>\n",
       "      <td>Watanabe</td>\n",
       "    </tr>\n",
       "    <tr>\n",
       "      <th>9974</th>\n",
       "      <td>Sylvia</td>\n",
       "      <td>Kalberer</td>\n",
       "    </tr>\n",
       "    <tr>\n",
       "      <th>9975</th>\n",
       "      <td>Derek</td>\n",
       "      <td>Nealy</td>\n",
       "    </tr>\n",
       "    <tr>\n",
       "      <th>9976</th>\n",
       "      <td>Charles</td>\n",
       "      <td>Dixson</td>\n",
       "    </tr>\n",
       "    <tr>\n",
       "      <th>9977</th>\n",
       "      <td>Jonathan</td>\n",
       "      <td>Daniels</td>\n",
       "    </tr>\n",
       "    <tr>\n",
       "      <th>9978</th>\n",
       "      <td>Dave</td>\n",
       "      <td>Brown</td>\n",
       "    </tr>\n",
       "    <tr>\n",
       "      <th>9979</th>\n",
       "      <td>Ralph</td>\n",
       "      <td>Latham</td>\n",
       "    </tr>\n",
       "    <tr>\n",
       "      <th>9980</th>\n",
       "      <td>Leta</td>\n",
       "      <td>Edgeworth</td>\n",
       "    </tr>\n",
       "    <tr>\n",
       "      <th>9981</th>\n",
       "      <td>Megan</td>\n",
       "      <td>Mccullar</td>\n",
       "    </tr>\n",
       "    <tr>\n",
       "      <th>9982</th>\n",
       "      <td>Olivia</td>\n",
       "      <td>Martin</td>\n",
       "    </tr>\n",
       "    <tr>\n",
       "      <th>9983</th>\n",
       "      <td>Anne</td>\n",
       "      <td>Hughes</td>\n",
       "    </tr>\n",
       "    <tr>\n",
       "      <th>9984</th>\n",
       "      <td>John</td>\n",
       "      <td>Adams</td>\n",
       "    </tr>\n",
       "    <tr>\n",
       "      <th>9985</th>\n",
       "      <td>John</td>\n",
       "      <td>Hebert</td>\n",
       "    </tr>\n",
       "    <tr>\n",
       "      <th>9986</th>\n",
       "      <td>Shelly</td>\n",
       "      <td>Santos</td>\n",
       "    </tr>\n",
       "    <tr>\n",
       "      <th>9987</th>\n",
       "      <td>Roland</td>\n",
       "      <td>Williams</td>\n",
       "    </tr>\n",
       "    <tr>\n",
       "      <th>9988</th>\n",
       "      <td>Margaret</td>\n",
       "      <td>Henley</td>\n",
       "    </tr>\n",
       "    <tr>\n",
       "      <th>9989</th>\n",
       "      <td>Alice</td>\n",
       "      <td>Crowder</td>\n",
       "    </tr>\n",
       "    <tr>\n",
       "      <th>9990</th>\n",
       "      <td>Mable</td>\n",
       "      <td>Thompson</td>\n",
       "    </tr>\n",
       "    <tr>\n",
       "      <th>9991</th>\n",
       "      <td>Joseph</td>\n",
       "      <td>Robinson</td>\n",
       "    </tr>\n",
       "    <tr>\n",
       "      <th>9992</th>\n",
       "      <td>Gladys</td>\n",
       "      <td>Paul</td>\n",
       "    </tr>\n",
       "    <tr>\n",
       "      <th>9993</th>\n",
       "      <td>Douglas</td>\n",
       "      <td>Haas</td>\n",
       "    </tr>\n",
       "    <tr>\n",
       "      <th>9994</th>\n",
       "      <td>Brandy</td>\n",
       "      <td>Alford</td>\n",
       "    </tr>\n",
       "    <tr>\n",
       "      <th>9995</th>\n",
       "      <td>Kendra</td>\n",
       "      <td>Bayer</td>\n",
       "    </tr>\n",
       "    <tr>\n",
       "      <th>9996</th>\n",
       "      <td>Tonya</td>\n",
       "      <td>Burnett</td>\n",
       "    </tr>\n",
       "    <tr>\n",
       "      <th>9997</th>\n",
       "      <td>Deborah</td>\n",
       "      <td>Conley</td>\n",
       "    </tr>\n",
       "    <tr>\n",
       "      <th>9998</th>\n",
       "      <td>David</td>\n",
       "      <td>Seay</td>\n",
       "    </tr>\n",
       "    <tr>\n",
       "      <th>9999</th>\n",
       "      <td>Cheryl</td>\n",
       "      <td>Edwards</td>\n",
       "    </tr>\n",
       "  </tbody>\n",
       "</table>\n",
       "<p>10000 rows × 2 columns</p>\n",
       "</div>"
      ],
      "text/plain": [
       "          first       last\n",
       "0         Janis      Brown\n",
       "1       Timothy     Bishop\n",
       "2     Elizabeth      Owens\n",
       "3        Edward    Pearson\n",
       "4          Lisa   Gonzalez\n",
       "5      Alphonse      Allen\n",
       "6       Linwood    Coleman\n",
       "7        Arthur   Mccolpin\n",
       "8        Daniel     Carter\n",
       "9         Barry      Reyes\n",
       "10    Maryellen       Pack\n",
       "11        Jacob      Davis\n",
       "12         Lisa     Walden\n",
       "13          Ida     Garcia\n",
       "14         Lola     Bailey\n",
       "15         Joan   Decoteau\n",
       "16        Larry     Rogers\n",
       "17    Bridgette    Vitucci\n",
       "18        James  Bertolini\n",
       "19        David   Burnette\n",
       "20       Ronald     Foster\n",
       "21      Heather    Manning\n",
       "22        Nancy   Mclendon\n",
       "23        David      Gross\n",
       "24        Jesus    Boswell\n",
       "25      Richard      Joyce\n",
       "26        Henry      Allen\n",
       "27        Pedro    Baldyga\n",
       "28       Israel       Mota\n",
       "29         Mary        Chi\n",
       "...         ...        ...\n",
       "9970   Georgina   Williams\n",
       "9971    Lynette      Barth\n",
       "9972     Vickie      Moore\n",
       "9973     Willie   Watanabe\n",
       "9974     Sylvia   Kalberer\n",
       "9975      Derek      Nealy\n",
       "9976    Charles     Dixson\n",
       "9977   Jonathan    Daniels\n",
       "9978       Dave      Brown\n",
       "9979      Ralph     Latham\n",
       "9980       Leta  Edgeworth\n",
       "9981      Megan   Mccullar\n",
       "9982     Olivia     Martin\n",
       "9983       Anne     Hughes\n",
       "9984       John      Adams\n",
       "9985       John     Hebert\n",
       "9986     Shelly     Santos\n",
       "9987     Roland   Williams\n",
       "9988   Margaret     Henley\n",
       "9989      Alice    Crowder\n",
       "9990      Mable   Thompson\n",
       "9991     Joseph   Robinson\n",
       "9992     Gladys       Paul\n",
       "9993    Douglas       Haas\n",
       "9994     Brandy     Alford\n",
       "9995     Kendra      Bayer\n",
       "9996      Tonya    Burnett\n",
       "9997    Deborah     Conley\n",
       "9998      David       Seay\n",
       "9999     Cheryl    Edwards\n",
       "\n",
       "[10000 rows x 2 columns]"
      ]
     },
     "execution_count": 69,
     "metadata": {},
     "output_type": "execute_result"
    }
   ],
   "source": [
    "full_names = students_df[['first', 'last']]\n",
    "full_names"
   ]
  },
  {
   "cell_type": "markdown",
   "metadata": {
    "collapsed": true
   },
   "source": [
    "##### Accessing rows\n",
    "\n",
    "Much like numpy arrays, rows can be accessed via indices."
   ]
  },
  {
   "cell_type": "code",
   "execution_count": 70,
   "metadata": {},
   "outputs": [
    {
     "ename": "IndexingError",
     "evalue": "Too many indexers",
     "output_type": "error",
     "traceback": [
      "\u001b[0;31m---------------------------------------------------------------------------\u001b[0m",
      "\u001b[0;31mIndexingError\u001b[0m                             Traceback (most recent call last)",
      "\u001b[0;32m<ipython-input-70-1cc41bedffc3>\u001b[0m in \u001b[0;36m<module>\u001b[0;34m()\u001b[0m\n\u001b[0;32m----> 1\u001b[0;31m \u001b[0mfirst_5_students\u001b[0m \u001b[0;34m=\u001b[0m \u001b[0mstudents_df\u001b[0m\u001b[0;34m.\u001b[0m\u001b[0miloc\u001b[0m\u001b[0;34m[\u001b[0m\u001b[0;36m2\u001b[0m\u001b[0;34m,\u001b[0m\u001b[0;36m5\u001b[0m\u001b[0;34m,\u001b[0m\u001b[0;36m7\u001b[0m\u001b[0;34m]\u001b[0m\u001b[0;34m\u001b[0m\u001b[0m\n\u001b[0m\u001b[1;32m      2\u001b[0m \u001b[0mfirst_5_students\u001b[0m\u001b[0;34m\u001b[0m\u001b[0m\n",
      "\u001b[0;32m~/anaconda3/lib/python3.7/site-packages/pandas/core/indexing.py\u001b[0m in \u001b[0;36m__getitem__\u001b[0;34m(self, key)\u001b[0m\n\u001b[1;32m   1470\u001b[0m             \u001b[0;32mexcept\u001b[0m \u001b[0;34m(\u001b[0m\u001b[0mKeyError\u001b[0m\u001b[0;34m,\u001b[0m \u001b[0mIndexError\u001b[0m\u001b[0;34m)\u001b[0m\u001b[0;34m:\u001b[0m\u001b[0;34m\u001b[0m\u001b[0m\n\u001b[1;32m   1471\u001b[0m                 \u001b[0;32mpass\u001b[0m\u001b[0;34m\u001b[0m\u001b[0m\n\u001b[0;32m-> 1472\u001b[0;31m             \u001b[0;32mreturn\u001b[0m \u001b[0mself\u001b[0m\u001b[0;34m.\u001b[0m\u001b[0m_getitem_tuple\u001b[0m\u001b[0;34m(\u001b[0m\u001b[0mkey\u001b[0m\u001b[0;34m)\u001b[0m\u001b[0;34m\u001b[0m\u001b[0m\n\u001b[0m\u001b[1;32m   1473\u001b[0m         \u001b[0;32melse\u001b[0m\u001b[0;34m:\u001b[0m\u001b[0;34m\u001b[0m\u001b[0m\n\u001b[1;32m   1474\u001b[0m             \u001b[0;31m# we by definition only have the 0th axis\u001b[0m\u001b[0;34m\u001b[0m\u001b[0;34m\u001b[0m\u001b[0m\n",
      "\u001b[0;32m~/anaconda3/lib/python3.7/site-packages/pandas/core/indexing.py\u001b[0m in \u001b[0;36m_getitem_tuple\u001b[0;34m(self, tup)\u001b[0m\n\u001b[1;32m   2011\u001b[0m     \u001b[0;32mdef\u001b[0m \u001b[0m_getitem_tuple\u001b[0m\u001b[0;34m(\u001b[0m\u001b[0mself\u001b[0m\u001b[0;34m,\u001b[0m \u001b[0mtup\u001b[0m\u001b[0;34m)\u001b[0m\u001b[0;34m:\u001b[0m\u001b[0;34m\u001b[0m\u001b[0m\n\u001b[1;32m   2012\u001b[0m \u001b[0;34m\u001b[0m\u001b[0m\n\u001b[0;32m-> 2013\u001b[0;31m         \u001b[0mself\u001b[0m\u001b[0;34m.\u001b[0m\u001b[0m_has_valid_tuple\u001b[0m\u001b[0;34m(\u001b[0m\u001b[0mtup\u001b[0m\u001b[0;34m)\u001b[0m\u001b[0;34m\u001b[0m\u001b[0m\n\u001b[0m\u001b[1;32m   2014\u001b[0m         \u001b[0;32mtry\u001b[0m\u001b[0;34m:\u001b[0m\u001b[0;34m\u001b[0m\u001b[0m\n\u001b[1;32m   2015\u001b[0m             \u001b[0;32mreturn\u001b[0m \u001b[0mself\u001b[0m\u001b[0;34m.\u001b[0m\u001b[0m_getitem_lowerdim\u001b[0m\u001b[0;34m(\u001b[0m\u001b[0mtup\u001b[0m\u001b[0;34m)\u001b[0m\u001b[0;34m\u001b[0m\u001b[0m\n",
      "\u001b[0;32m~/anaconda3/lib/python3.7/site-packages/pandas/core/indexing.py\u001b[0m in \u001b[0;36m_has_valid_tuple\u001b[0;34m(self, key)\u001b[0m\n\u001b[1;32m    218\u001b[0m         \u001b[0;32mfor\u001b[0m \u001b[0mi\u001b[0m\u001b[0;34m,\u001b[0m \u001b[0mk\u001b[0m \u001b[0;32min\u001b[0m \u001b[0menumerate\u001b[0m\u001b[0;34m(\u001b[0m\u001b[0mkey\u001b[0m\u001b[0;34m)\u001b[0m\u001b[0;34m:\u001b[0m\u001b[0;34m\u001b[0m\u001b[0m\n\u001b[1;32m    219\u001b[0m             \u001b[0;32mif\u001b[0m \u001b[0mi\u001b[0m \u001b[0;34m>=\u001b[0m \u001b[0mself\u001b[0m\u001b[0;34m.\u001b[0m\u001b[0mobj\u001b[0m\u001b[0;34m.\u001b[0m\u001b[0mndim\u001b[0m\u001b[0;34m:\u001b[0m\u001b[0;34m\u001b[0m\u001b[0m\n\u001b[0;32m--> 220\u001b[0;31m                 \u001b[0;32mraise\u001b[0m \u001b[0mIndexingError\u001b[0m\u001b[0;34m(\u001b[0m\u001b[0;34m'Too many indexers'\u001b[0m\u001b[0;34m)\u001b[0m\u001b[0;34m\u001b[0m\u001b[0m\n\u001b[0m\u001b[1;32m    221\u001b[0m             \u001b[0;32mtry\u001b[0m\u001b[0;34m:\u001b[0m\u001b[0;34m\u001b[0m\u001b[0m\n\u001b[1;32m    222\u001b[0m                 \u001b[0mself\u001b[0m\u001b[0;34m.\u001b[0m\u001b[0m_validate_key\u001b[0m\u001b[0;34m(\u001b[0m\u001b[0mk\u001b[0m\u001b[0;34m,\u001b[0m \u001b[0mi\u001b[0m\u001b[0;34m)\u001b[0m\u001b[0;34m\u001b[0m\u001b[0m\n",
      "\u001b[0;31mIndexingError\u001b[0m: Too many indexers"
     ]
    }
   ],
   "source": [
    "first_5_students = students_df.iloc[2,5,7]\n",
    "first_5_students"
   ]
  },
  {
   "cell_type": "code",
   "execution_count": null,
   "metadata": {},
   "outputs": [],
   "source": [
    "second_10_students = students_df.iloc[5:10]\n",
    "second_10_students"
   ]
  },
  {
   "cell_type": "markdown",
   "metadata": {
    "collapsed": true
   },
   "source": [
    "Also like numpy arrays, you can filter! This is going to be life changing!"
   ]
  },
  {
   "cell_type": "code",
   "execution_count": 71,
   "metadata": {},
   "outputs": [
    {
     "ename": "NameError",
     "evalue": "name 'female_filt' is not defined",
     "output_type": "error",
     "traceback": [
      "\u001b[0;31m---------------------------------------------------------------------------\u001b[0m",
      "\u001b[0;31mNameError\u001b[0m                                 Traceback (most recent call last)",
      "\u001b[0;32m<ipython-input-71-7fa420013e44>\u001b[0m in \u001b[0;36m<module>\u001b[0;34m()\u001b[0m\n\u001b[1;32m      1\u001b[0m \u001b[0mgender\u001b[0m \u001b[0;34m=\u001b[0m \u001b[0mstudents_df\u001b[0m\u001b[0;34m[\u001b[0m\u001b[0;34m'gender'\u001b[0m\u001b[0;34m]\u001b[0m\u001b[0;34m\u001b[0m\u001b[0m\n\u001b[1;32m      2\u001b[0m \u001b[0mfemale_fit\u001b[0m \u001b[0;34m=\u001b[0m \u001b[0mgender\u001b[0m \u001b[0;34m==\u001b[0m \u001b[0;34m'Female'\u001b[0m \u001b[0;31m#// break below for initial code\u001b[0m\u001b[0;34m\u001b[0m\u001b[0m\n\u001b[0;32m----> 3\u001b[0;31m \u001b[0mfemale_students_df\u001b[0m \u001b[0;34m=\u001b[0m \u001b[0mstudents_df\u001b[0m\u001b[0;34m[\u001b[0m\u001b[0mfemale_filt\u001b[0m\u001b[0;34m]\u001b[0m \u001b[0;31m#[students_df['gender']=='Female']\u001b[0m\u001b[0;34m\u001b[0m\u001b[0m\n\u001b[0m\u001b[1;32m      4\u001b[0m \u001b[0mfemale_students_df\u001b[0m\u001b[0;34m.\u001b[0m\u001b[0mhead\u001b[0m\u001b[0;34m(\u001b[0m\u001b[0;36m20\u001b[0m\u001b[0;34m)\u001b[0m\u001b[0;34m\u001b[0m\u001b[0m\n\u001b[1;32m      5\u001b[0m \u001b[0;34m\u001b[0m\u001b[0m\n",
      "\u001b[0;31mNameError\u001b[0m: name 'female_filt' is not defined"
     ]
    }
   ],
   "source": [
    "gender = students_df['gender']\n",
    "female_fit = gender == 'Female' #// break below for initial code \n",
    "female_students_df = students_df[female_filt] #[students_df['gender']=='Female']\n",
    "female_students_df.head(20)\n",
    "\n",
    "[students_df[students_df]['major']=='Economics']"
   ]
  },
  {
   "cell_type": "markdown",
   "metadata": {
    "collapsed": true
   },
   "source": [
    "Let's take a step-by-step approach to figuring out that filter."
   ]
  },
  {
   "cell_type": "code",
   "execution_count": 72,
   "metadata": {},
   "outputs": [
    {
     "ename": "ValueError",
     "evalue": "Must pass DataFrame with boolean values only",
     "output_type": "error",
     "traceback": [
      "\u001b[0;31m---------------------------------------------------------------------------\u001b[0m",
      "\u001b[0;31mValueError\u001b[0m                                Traceback (most recent call last)",
      "\u001b[0;32m<ipython-input-72-4758ca764575>\u001b[0m in \u001b[0;36m<module>\u001b[0;34m()\u001b[0m\n\u001b[1;32m      1\u001b[0m \u001b[0;31m#Find out which rows are females\u001b[0m\u001b[0;34m\u001b[0m\u001b[0;34m\u001b[0m\u001b[0m\n\u001b[0;32m----> 2\u001b[0;31m \u001b[0;34m[\u001b[0m\u001b[0mstudents_df\u001b[0m\u001b[0;34m[\u001b[0m\u001b[0mstudents_df\u001b[0m\u001b[0;34m]\u001b[0m\u001b[0;34m[\u001b[0m\u001b[0;34m'gender'\u001b[0m\u001b[0;34m]\u001b[0m\u001b[0;34m==\u001b[0m\u001b[0;34m'female'\u001b[0m\u001b[0;34m]\u001b[0m\u001b[0;34m\u001b[0m\u001b[0m\n\u001b[0m",
      "\u001b[0;32m~/anaconda3/lib/python3.7/site-packages/pandas/core/frame.py\u001b[0m in \u001b[0;36m__getitem__\u001b[0;34m(self, key)\u001b[0m\n\u001b[1;32m   2682\u001b[0m             \u001b[0;32mreturn\u001b[0m \u001b[0mself\u001b[0m\u001b[0;34m.\u001b[0m\u001b[0m_getitem_array\u001b[0m\u001b[0;34m(\u001b[0m\u001b[0mkey\u001b[0m\u001b[0;34m)\u001b[0m\u001b[0;34m\u001b[0m\u001b[0m\n\u001b[1;32m   2683\u001b[0m         \u001b[0;32melif\u001b[0m \u001b[0misinstance\u001b[0m\u001b[0;34m(\u001b[0m\u001b[0mkey\u001b[0m\u001b[0;34m,\u001b[0m \u001b[0mDataFrame\u001b[0m\u001b[0;34m)\u001b[0m\u001b[0;34m:\u001b[0m\u001b[0;34m\u001b[0m\u001b[0m\n\u001b[0;32m-> 2684\u001b[0;31m             \u001b[0;32mreturn\u001b[0m \u001b[0mself\u001b[0m\u001b[0;34m.\u001b[0m\u001b[0m_getitem_frame\u001b[0m\u001b[0;34m(\u001b[0m\u001b[0mkey\u001b[0m\u001b[0;34m)\u001b[0m\u001b[0;34m\u001b[0m\u001b[0m\n\u001b[0m\u001b[1;32m   2685\u001b[0m         \u001b[0;32melif\u001b[0m \u001b[0mis_mi_columns\u001b[0m\u001b[0;34m:\u001b[0m\u001b[0;34m\u001b[0m\u001b[0m\n\u001b[1;32m   2686\u001b[0m             \u001b[0;32mreturn\u001b[0m \u001b[0mself\u001b[0m\u001b[0;34m.\u001b[0m\u001b[0m_getitem_multilevel\u001b[0m\u001b[0;34m(\u001b[0m\u001b[0mkey\u001b[0m\u001b[0;34m)\u001b[0m\u001b[0;34m\u001b[0m\u001b[0m\n",
      "\u001b[0;32m~/anaconda3/lib/python3.7/site-packages/pandas/core/frame.py\u001b[0m in \u001b[0;36m_getitem_frame\u001b[0;34m(self, key)\u001b[0m\n\u001b[1;32m   2765\u001b[0m     \u001b[0;32mdef\u001b[0m \u001b[0m_getitem_frame\u001b[0m\u001b[0;34m(\u001b[0m\u001b[0mself\u001b[0m\u001b[0;34m,\u001b[0m \u001b[0mkey\u001b[0m\u001b[0;34m)\u001b[0m\u001b[0;34m:\u001b[0m\u001b[0;34m\u001b[0m\u001b[0m\n\u001b[1;32m   2766\u001b[0m         \u001b[0;32mif\u001b[0m \u001b[0mkey\u001b[0m\u001b[0;34m.\u001b[0m\u001b[0mvalues\u001b[0m\u001b[0;34m.\u001b[0m\u001b[0msize\u001b[0m \u001b[0;32mand\u001b[0m \u001b[0;32mnot\u001b[0m \u001b[0mis_bool_dtype\u001b[0m\u001b[0;34m(\u001b[0m\u001b[0mkey\u001b[0m\u001b[0;34m.\u001b[0m\u001b[0mvalues\u001b[0m\u001b[0;34m)\u001b[0m\u001b[0;34m:\u001b[0m\u001b[0;34m\u001b[0m\u001b[0m\n\u001b[0;32m-> 2767\u001b[0;31m             \u001b[0;32mraise\u001b[0m \u001b[0mValueError\u001b[0m\u001b[0;34m(\u001b[0m\u001b[0;34m'Must pass DataFrame with boolean values only'\u001b[0m\u001b[0;34m)\u001b[0m\u001b[0;34m\u001b[0m\u001b[0m\n\u001b[0m\u001b[1;32m   2768\u001b[0m         \u001b[0;32mreturn\u001b[0m \u001b[0mself\u001b[0m\u001b[0;34m.\u001b[0m\u001b[0mwhere\u001b[0m\u001b[0;34m(\u001b[0m\u001b[0mkey\u001b[0m\u001b[0;34m)\u001b[0m\u001b[0;34m\u001b[0m\u001b[0m\n\u001b[1;32m   2769\u001b[0m \u001b[0;34m\u001b[0m\u001b[0m\n",
      "\u001b[0;31mValueError\u001b[0m: Must pass DataFrame with boolean values only"
     ]
    }
   ],
   "source": [
    "#Find out which rows are females\n",
    "[students_df[students_df]['gender']=='female']"
   ]
  },
  {
   "cell_type": "code",
   "execution_count": 73,
   "metadata": {},
   "outputs": [
    {
     "ename": "NameError",
     "evalue": "name 'female_filt' is not defined",
     "output_type": "error",
     "traceback": [
      "\u001b[0;31m---------------------------------------------------------------------------\u001b[0m",
      "\u001b[0;31mNameError\u001b[0m                                 Traceback (most recent call last)",
      "\u001b[0;32m<ipython-input-73-f064f1eec4b8>\u001b[0m in \u001b[0;36m<module>\u001b[0;34m()\u001b[0m\n\u001b[1;32m      1\u001b[0m \u001b[0;31m#Now apply that filter to the DataFrame\u001b[0m\u001b[0;34m\u001b[0m\u001b[0;34m\u001b[0m\u001b[0m\n\u001b[0;32m----> 2\u001b[0;31m \u001b[0mfemales_df\u001b[0m \u001b[0;34m=\u001b[0m \u001b[0mstudents_df\u001b[0m\u001b[0;34m(\u001b[0m\u001b[0mfemale_filt\u001b[0m\u001b[0;34m)\u001b[0m\u001b[0;34m\u001b[0m\u001b[0m\n\u001b[0m",
      "\u001b[0;31mNameError\u001b[0m: name 'female_filt' is not defined"
     ]
    }
   ],
   "source": [
    "#Now apply that filter to the DataFrame\n",
    "females_df = students_df(female_filt)"
   ]
  },
  {
   "cell_type": "code",
   "execution_count": 74,
   "metadata": {},
   "outputs": [
    {
     "ename": "NameError",
     "evalue": "name 'females_df' is not defined",
     "output_type": "error",
     "traceback": [
      "\u001b[0;31m---------------------------------------------------------------------------\u001b[0m",
      "\u001b[0;31mNameError\u001b[0m                                 Traceback (most recent call last)",
      "\u001b[0;32m<ipython-input-74-99d028b22469>\u001b[0m in \u001b[0;36m<module>\u001b[0;34m()\u001b[0m\n\u001b[1;32m      1\u001b[0m \u001b[0;31m#How many are students are there?\u001b[0m\u001b[0;34m\u001b[0m\u001b[0;34m\u001b[0m\u001b[0m\n\u001b[0;32m----> 2\u001b[0;31m \u001b[0mfemales_df\u001b[0m\u001b[0;34m.\u001b[0m\u001b[0mshape\u001b[0m\u001b[0;34m(\u001b[0m\u001b[0;36m0\u001b[0m\u001b[0;34m)\u001b[0m\u001b[0;34m\u001b[0m\u001b[0m\n\u001b[0m",
      "\u001b[0;31mNameError\u001b[0m: name 'females_df' is not defined"
     ]
    }
   ],
   "source": [
    "#How many are students are there?\n",
    "females_df.shape(0)"
   ]
  },
  {
   "cell_type": "code",
   "execution_count": 79,
   "metadata": {},
   "outputs": [
    {
     "ename": "NameError",
     "evalue": "name 'female_filt' is not defined",
     "output_type": "error",
     "traceback": [
      "\u001b[0;31m---------------------------------------------------------------------------\u001b[0m",
      "\u001b[0;31mNameError\u001b[0m                                 Traceback (most recent call last)",
      "\u001b[0;32m<ipython-input-79-29a87fa663c5>\u001b[0m in \u001b[0;36m<module>\u001b[0;34m()\u001b[0m\n\u001b[1;32m      1\u001b[0m \u001b[0;31m#Now let's find out which rows are females and are studying Economics\u001b[0m\u001b[0;34m\u001b[0m\u001b[0;34m\u001b[0m\u001b[0m\n\u001b[1;32m      2\u001b[0m \u001b[0mecon_filt\u001b[0m \u001b[0;34m=\u001b[0m \u001b[0mstudents_df\u001b[0m\u001b[0;34m[\u001b[0m\u001b[0;34m'major'\u001b[0m\u001b[0;34m]\u001b[0m \u001b[0;34m==\u001b[0m \u001b[0;34m'Economics'\u001b[0m\u001b[0;34m\u001b[0m\u001b[0m\n\u001b[0;32m----> 3\u001b[0;31m \u001b[0mcombined_filt\u001b[0m \u001b[0;34m=\u001b[0m \u001b[0mecon_filt\u001b[0m \u001b[0;34m&\u001b[0m \u001b[0mfemale_filt\u001b[0m\u001b[0;34m\u001b[0m\u001b[0m\n\u001b[0m\u001b[1;32m      4\u001b[0m \u001b[0mboth\u001b[0m \u001b[0;34m=\u001b[0m \u001b[0mstudents_df\u001b[0m\u001b[0;34m[\u001b[0m\u001b[0mcombined_filt\u001b[0m\u001b[0;34m]\u001b[0m\u001b[0;34m\u001b[0m\u001b[0m\n\u001b[1;32m      5\u001b[0m \u001b[0mboth\u001b[0m\u001b[0;34m.\u001b[0m\u001b[0mshape\u001b[0m\u001b[0;34m\u001b[0m\u001b[0m\n",
      "\u001b[0;31mNameError\u001b[0m: name 'female_filt' is not defined"
     ]
    }
   ],
   "source": [
    "#Now let's find out which rows are females and are studying Economics\n",
    "econ_filt = students_df['major'] == 'Economics'\n",
    "combined_filt = econ_filt & female_filt\n",
    "both = students_df[combined_filt]\n",
    "both.shape"
   ]
  },
  {
   "cell_type": "code",
   "execution_count": 76,
   "metadata": {},
   "outputs": [
    {
     "ename": "SyntaxError",
     "evalue": "can't assign to function call (<ipython-input-76-d81eee3a42f9>, line 3)",
     "output_type": "error",
     "traceback": [
      "\u001b[0;36m  File \u001b[0;32m\"<ipython-input-76-d81eee3a42f9>\"\u001b[0;36m, line \u001b[0;32m3\u001b[0m\n\u001b[0;31m    students_df('on_probation') = on_probation_filt\u001b[0m\n\u001b[0m                                                   ^\u001b[0m\n\u001b[0;31mSyntaxError\u001b[0m\u001b[0;31m:\u001b[0m can't assign to function call\n"
     ]
    }
   ],
   "source": [
    "#Now apply that double filter to the DataFrame\n",
    "on_probation_filt = students_df['gpa'] < 3\n",
    "students_df('on_probation') = on_probation_filt"
   ]
  },
  {
   "cell_type": "code",
   "execution_count": 77,
   "metadata": {},
   "outputs": [
    {
     "ename": "KeyError",
     "evalue": "\"Columns not found: 'on_probation'\"",
     "output_type": "error",
     "traceback": [
      "\u001b[0;31m---------------------------------------------------------------------------\u001b[0m",
      "\u001b[0;31mKeyError\u001b[0m                                  Traceback (most recent call last)",
      "\u001b[0;32m<ipython-input-77-af14657e0336>\u001b[0m in \u001b[0;36m<module>\u001b[0;34m()\u001b[0m\n\u001b[1;32m      1\u001b[0m \u001b[0;31m#How many are students are there?\u001b[0m\u001b[0;34m\u001b[0m\u001b[0;34m\u001b[0m\u001b[0m\n\u001b[0;32m----> 2\u001b[0;31m \u001b[0mstudents_df\u001b[0m\u001b[0;34m.\u001b[0m\u001b[0mgroupby\u001b[0m\u001b[0;34m(\u001b[0m\u001b[0;34m'major'\u001b[0m\u001b[0;34m)\u001b[0m\u001b[0;34m[\u001b[0m\u001b[0;34m[\u001b[0m\u001b[0;34m'on_probation'\u001b[0m\u001b[0;34m]\u001b[0m\u001b[0;34m]\u001b[0m\u001b[0;34m.\u001b[0m\u001b[0mmean\u001b[0m\u001b[0;34m(\u001b[0m\u001b[0;34m)\u001b[0m\u001b[0;34m.\u001b[0m\u001b[0midxmax\u001b[0m\u001b[0;34m(\u001b[0m\u001b[0;34m)\u001b[0m\u001b[0;34m\u001b[0m\u001b[0m\n\u001b[0m",
      "\u001b[0;32m~/anaconda3/lib/python3.7/site-packages/pandas/core/base.py\u001b[0m in \u001b[0;36m__getitem__\u001b[0;34m(self, key)\u001b[0m\n\u001b[1;32m    255\u001b[0m                 \u001b[0mbad_keys\u001b[0m \u001b[0;34m=\u001b[0m \u001b[0mlist\u001b[0m\u001b[0;34m(\u001b[0m\u001b[0mset\u001b[0m\u001b[0;34m(\u001b[0m\u001b[0mkey\u001b[0m\u001b[0;34m)\u001b[0m\u001b[0;34m.\u001b[0m\u001b[0mdifference\u001b[0m\u001b[0;34m(\u001b[0m\u001b[0mself\u001b[0m\u001b[0;34m.\u001b[0m\u001b[0mobj\u001b[0m\u001b[0;34m.\u001b[0m\u001b[0mcolumns\u001b[0m\u001b[0;34m)\u001b[0m\u001b[0;34m)\u001b[0m\u001b[0;34m\u001b[0m\u001b[0m\n\u001b[1;32m    256\u001b[0m                 raise KeyError(\"Columns not found: {missing}\"\n\u001b[0;32m--> 257\u001b[0;31m                                .format(missing=str(bad_keys)[1:-1]))\n\u001b[0m\u001b[1;32m    258\u001b[0m             \u001b[0;32mreturn\u001b[0m \u001b[0mself\u001b[0m\u001b[0;34m.\u001b[0m\u001b[0m_gotitem\u001b[0m\u001b[0;34m(\u001b[0m\u001b[0mlist\u001b[0m\u001b[0;34m(\u001b[0m\u001b[0mkey\u001b[0m\u001b[0;34m)\u001b[0m\u001b[0;34m,\u001b[0m \u001b[0mndim\u001b[0m\u001b[0;34m=\u001b[0m\u001b[0;36m2\u001b[0m\u001b[0;34m)\u001b[0m\u001b[0;34m\u001b[0m\u001b[0m\n\u001b[1;32m    259\u001b[0m \u001b[0;34m\u001b[0m\u001b[0m\n",
      "\u001b[0;31mKeyError\u001b[0m: \"Columns not found: 'on_probation'\""
     ]
    }
   ],
   "source": [
    "#How many are students are there?\n",
    "students_df.groupby('major')[['on_probation']].mean().idxmax()"
   ]
  },
  {
   "cell_type": "code",
   "execution_count": 78,
   "metadata": {},
   "outputs": [],
   "source": [
    "#Now let's find out which rows are females and are studying Engineering and are on probation\n"
   ]
  },
  {
   "cell_type": "code",
   "execution_count": null,
   "metadata": {
    "collapsed": true
   },
   "outputs": [],
   "source": [
    "#Now apply that double filter to the DataFrame\n"
   ]
  },
  {
   "cell_type": "code",
   "execution_count": null,
   "metadata": {
    "collapsed": true
   },
   "outputs": [],
   "source": [
    "#How many are students are there?\n"
   ]
  },
  {
   "cell_type": "code",
   "execution_count": null,
   "metadata": {
    "collapsed": true
   },
   "outputs": [],
   "source": []
  },
  {
   "cell_type": "code",
   "execution_count": null,
   "metadata": {
    "collapsed": true
   },
   "outputs": [],
   "source": []
  },
  {
   "cell_type": "code",
   "execution_count": null,
   "metadata": {
    "collapsed": true
   },
   "outputs": [],
   "source": []
  },
  {
   "cell_type": "code",
   "execution_count": null,
   "metadata": {
    "collapsed": true
   },
   "outputs": [],
   "source": []
  },
  {
   "cell_type": "code",
   "execution_count": null,
   "metadata": {
    "collapsed": true
   },
   "outputs": [],
   "source": []
  }
 ],
 "metadata": {
  "anaconda-cloud": {},
  "kernelspec": {
   "display_name": "Python 3",
   "language": "python",
   "name": "python3"
  },
  "language_info": {
   "codemirror_mode": {
    "name": "ipython",
    "version": 3
   },
   "file_extension": ".py",
   "mimetype": "text/x-python",
   "name": "python",
   "nbconvert_exporter": "python",
   "pygments_lexer": "ipython3",
   "version": "3.7.0"
  }
 },
 "nbformat": 4,
 "nbformat_minor": 1
}
